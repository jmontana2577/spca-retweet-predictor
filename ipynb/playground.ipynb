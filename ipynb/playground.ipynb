{
 "cells": [
  {
   "cell_type": "code",
   "execution_count": null,
   "metadata": {},
   "outputs": [],
   "source": [
    "cd /home/jovyan/capstone/GetOldTweets-python/"
   ]
  },
  {
   "cell_type": "code",
   "execution_count": null,
   "metadata": {},
   "outputs": [],
   "source": [
    "import pandas as pd\n",
    "import got3 as got\n",
    "from pprint import pprint "
   ]
  },
  {
   "cell_type": "markdown",
   "metadata": {},
   "source": [
    "### Looking at JSON file to see if I can filter out tweets that are replies to other tweets. Also looking for geo and username fields."
   ]
  },
  {
   "cell_type": "markdown",
   "metadata": {},
   "source": [
    "**Update:**  Added functionality to skip replies. Found username field but couldn't find any location information (geo, coordinates, location)."
   ]
  },
  {
   "cell_type": "code",
   "execution_count": null,
   "metadata": {},
   "outputs": [],
   "source": [
    "import urllib.request, urllib.parse, urllib.error,urllib.request,urllib.error,urllib.parse,json,re,datetime,sys,http.cookiejar\n",
    "from got3 import models\n",
    "from pyquery import PyQuery"
   ]
  },
  {
   "cell_type": "code",
   "execution_count": null,
   "metadata": {
    "collapsed": true
   },
   "outputs": [],
   "source": [
    "username = 'sfspca'\n",
    "since = '2017-08-21'\n",
    "until = '2017-08-23'\n",
    "\n",
    "# max_tweets = 1"
   ]
  },
  {
   "cell_type": "code",
   "execution_count": null,
   "metadata": {},
   "outputs": [],
   "source": [
    "# this is the beginning of getTweets, including some of the default parameters\n",
    "tweetCriteria = got.manager.TweetCriteria().setUsername(username).setSince(since).setUntil(until)\n",
    "\n",
    "receiveBuffer = None  # parameter passed to getTweets\n",
    "bufferLength=100 # parameter passed to getTweets\n",
    "proxy=None # parameter passed to getTweets\n",
    "refreshCursor = ''\n",
    "results = []\n",
    "resultsAux = []\n",
    "cookieJar = http.cookiejar.CookieJar()"
   ]
  },
  {
   "cell_type": "code",
   "execution_count": null,
   "metadata": {},
   "outputs": [],
   "source": [
    "# this is all the functionality in getJsonResponse which is called inside getTweets\n",
    "url = \"https://twitter.com/i/search/timeline?f=tweets&q=%s&src=typd&%smax_position=%s\"\n",
    "\n",
    "urlGetData = ''\n",
    "if hasattr(tweetCriteria, 'username'):\n",
    "\turlGetData += ' from:' + tweetCriteria.username\n",
    "\t\n",
    "if hasattr(tweetCriteria, 'since'):\n",
    "\turlGetData += ' since:' + tweetCriteria.since\n",
    "\t\n",
    "if hasattr(tweetCriteria, 'until'):\n",
    "\turlGetData += ' until:' + tweetCriteria.until\n",
    "\t\n",
    "if hasattr(tweetCriteria, 'querySearch'):\n",
    "\turlGetData += ' ' + tweetCriteria.querySearch\n",
    "\t\n",
    "if hasattr(tweetCriteria, 'lang'):\n",
    "\turlLang = 'lang=' + tweetCriteria.lang + '&'\n",
    "else:\n",
    "\turlLang = ''\n",
    "url = url % (urllib.parse.quote(urlGetData), urlLang, refreshCursor)\n",
    "print(url)\n",
    "headers = [\n",
    "\t('Host', \"twitter.com\"),\n",
    "\t('User-Agent', \"Mozilla/5.0 (Windows NT 6.1; Win64; x64)\"),\n",
    "\t('Accept', \"application/json, text/javascript, */*; q=0.01\"),\n",
    "\t('Accept-Language', \"de,en-US;q=0.7,en;q=0.3\"),\n",
    "\t('X-Requested-With', \"XMLHttpRequest\"),\n",
    "\t('Referer', url),\n",
    "\t('Connection', \"keep-alive\")\n",
    "]\n",
    "\n",
    "if proxy:\n",
    "\topener = urllib.request.build_opener(urllib.request.ProxyHandler({'http': proxy, 'https': proxy}), urllib.request.HTTPCookieProcessor(cookieJar))\n",
    "else:\n",
    "\topener = urllib.request.build_opener(urllib.request.HTTPCookieProcessor(cookieJar))\n",
    "opener.addheaders = headers\n",
    "\n",
    "response = opener.open(url)\n",
    "jsonResponse = response.read()\n",
    "\n",
    "dataJson = json.loads(jsonResponse.decode())"
   ]
  },
  {
   "cell_type": "code",
   "execution_count": null,
   "metadata": {},
   "outputs": [],
   "source": [
    "dataJson['items_html'].keys()"
   ]
  },
  {
   "cell_type": "code",
   "execution_count": null,
   "metadata": {
    "scrolled": true
   },
   "outputs": [],
   "source": [
    "# pprint(dataJson)"
   ]
  },
  {
   "cell_type": "code",
   "execution_count": null,
   "metadata": {},
   "outputs": [],
   "source": [
    "# how to see if tweet is a reply\n",
    "tweetPQ(\"div.tweet\").attr(\"data-is-reply-to\")"
   ]
  },
  {
   "cell_type": "code",
   "execution_count": null,
   "metadata": {},
   "outputs": [],
   "source": [
    "# how to get username from tweet\n",
    "tweetPQ(\"div.tweet\").attr(\"data-screen-name\")"
   ]
  },
  {
   "cell_type": "markdown",
   "metadata": {},
   "source": [
    "### Now that I got json file, look at how getTweets gets the attributes"
   ]
  },
  {
   "cell_type": "code",
   "execution_count": null,
   "metadata": {},
   "outputs": [],
   "source": [
    "len(dataJson['items_html'].strip())"
   ]
  },
  {
   "cell_type": "code",
   "execution_count": null,
   "metadata": {},
   "outputs": [],
   "source": [
    "refreshCursor = dataJson['min_position']\n",
    "tweets = PyQuery(dataJson['items_html'])('div.js-stream-tweet')\n",
    "\n",
    "for tweetHTML in tweets:\n",
    "    tweetPQ = PyQuery(tweetHTML)\n",
    "    tweet = models.Tweet()\n",
    "    break"
   ]
  },
  {
   "cell_type": "markdown",
   "metadata": {},
   "source": [
    "### Create data frame to see what gets outputted in a dataframe"
   ]
  },
  {
   "cell_type": "code",
   "execution_count": null,
   "metadata": {},
   "outputs": [],
   "source": [
    "tweet_list = got.manager.TweetManager.getTweets(tweetCriteria)\n",
    "\n",
    "from collections import defaultdict\n",
    "d = defaultdict(list)\n",
    "attributes = ['date', 'favorites', 'retweets', 'hashtags', 'geo', 'id',\n",
    "                  'mentions', 'text', 'urls', 'username', 'permalink', 'author_id']\n",
    "for tweet in tweet_list:\n",
    "    for att in attributes:\n",
    "        d[att].append(eval(\"tweet.\" + att))\n",
    "\n",
    "pd.DataFrame(d)"
   ]
  },
  {
   "cell_type": "code",
   "execution_count": null,
   "metadata": {},
   "outputs": [],
   "source": [
    "# ADJUSTMENT FOR UNTIL NOT BEING INCLUSIVE, SO START EACH MONTH WITH END OF PREVIOUS MONTH\n",
    "#     years = ['2008', '2009', '2010', '2011', '2012', '2013', '2014', '2015', '2016', '2017']\n",
    "#     months = [('01', '31'), ('02', '28'), ('03', '31'), ('04', '30'), ('05', '31'), ('06', '30'),\n",
    "#               ('07', '31'), ('08', '31'), ('09', '30'), ('10', '31'), ('11', '30'), ('12', '31')]\n",
    "#     total = 0\n",
    "#     for year in years:\n",
    "#         for month in months:\n",
    "#             if year == '2008' and month[0] == '01':\n",
    "#                 since = year + '-' + month[0] + '-01'\n",
    "#             else:\n",
    "#                 since = until\n",
    "#             until = year + '-' + month[0] + '-' + month[1]\n",
    "#             print(since, until)"
   ]
  },
  {
   "cell_type": "code",
   "execution_count": null,
   "metadata": {
    "collapsed": true
   },
   "outputs": [],
   "source": []
  }
 ],
 "metadata": {
  "kernelspec": {
   "display_name": "Python 3",
   "language": "python",
   "name": "python3"
  },
  "language_info": {
   "codemirror_mode": {
    "name": "ipython",
    "version": 3
   },
   "file_extension": ".py",
   "mimetype": "text/x-python",
   "name": "python",
   "nbconvert_exporter": "python",
   "pygments_lexer": "ipython3",
   "version": "3.6.2"
  }
 },
 "nbformat": 4,
 "nbformat_minor": 2
}
