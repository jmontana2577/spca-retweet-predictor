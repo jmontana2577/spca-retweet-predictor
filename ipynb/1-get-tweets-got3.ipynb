{
 "cells": [
  {
   "cell_type": "code",
   "execution_count": null,
   "metadata": {
    "collapsed": true
   },
   "outputs": [],
   "source": [
    "cd /home/jovyan/capstone/GetOldTweets-python/"
   ]
  },
  {
   "cell_type": "code",
   "execution_count": null,
   "metadata": {
    "collapsed": true
   },
   "outputs": [],
   "source": [
    "import pandas as pd"
   ]
  },
  {
   "cell_type": "code",
   "execution_count": null,
   "metadata": {
    "collapsed": true
   },
   "outputs": [],
   "source": [
    "import got3 as got\n",
    "\n",
    "# def get_tweets(username, since=None, until=None):\n",
    "def get_tweets(username):\n",
    "    from collections import defaultdict\n",
    "    d = defaultdict(list)\n",
    "    \n",
    "    attributes = ['date', 'favorites', 'retweets', 'hashtags', 'geo', 'id',\n",
    "                  'mentions', 'text', 'urls', 'username', 'permalink', 'author_id']\n",
    "    \n",
    "    years = ['2017', '2016', '2015', '2014', '2013', '2012', '2011', '2010', '2009', '2008', '2007']\n",
    "    months = [('12', '31'), ('11', '30'), ('10', '31'), ('09', '30'), ('08', '31'), ('07', '31'),\n",
    "              ('06', '30'), ('05', '31'), ('04', '30'), ('03', '31'), ('02', '28'), ('01', '31')]\n",
    "    \n",
    "    total = 0\n",
    "    for year in years:\n",
    "        for month in months:\n",
    "            since = year + '-' + month[0] + '-01'\n",
    "            until = year + '-' + month[0] + '-' + month[1]\n",
    "            tweetCriteria = got.manager.TweetCriteria().setUsername(username).setSince(since).setUntil(until)\n",
    "            tweet_list = got.manager.TweetManager.getTweets(tweetCriteria)                                                                                             \n",
    "            print('{} tweets from {} to {}.'.format(len(tweet_list), since, until))\n",
    "            total += len(tweet_list)\n",
    "            for tweet in tweet_list:\n",
    "                for att in attributes:\n",
    "                    d[att].append(eval(\"tweet.\" + att))\n",
    "#         print('Year: {}, Running Total: {}'.format(year, total))\n",
    "    print('{} total tweets.'.format(total))\n",
    "    return pd.DataFrame(d)"
   ]
  },
  {
   "cell_type": "code",
   "execution_count": null,
   "metadata": {
    "collapsed": true
   },
   "outputs": [],
   "source": [
    "df_sfspca = get_tweets('sfspca')"
   ]
  },
  {
   "cell_type": "code",
   "execution_count": null,
   "metadata": {
    "collapsed": true
   },
   "outputs": [],
   "source": [
    "df_sfspca.shape"
   ]
  },
  {
   "cell_type": "code",
   "execution_count": null,
   "metadata": {
    "collapsed": true
   },
   "outputs": [],
   "source": [
    "df_pspca = get_tweets('PSPCA')"
   ]
  },
  {
   "cell_type": "code",
   "execution_count": null,
   "metadata": {
    "collapsed": true
   },
   "outputs": [],
   "source": [
    "df_houston = get_tweets('HoustonSPCA')"
   ]
  },
  {
   "cell_type": "code",
   "execution_count": null,
   "metadata": {
    "collapsed": true
   },
   "outputs": [],
   "source": [
    "df_texas = get_tweets('spcaoftexas')"
   ]
  },
  {
   "cell_type": "code",
   "execution_count": null,
   "metadata": {
    "collapsed": true
   },
   "outputs": [],
   "source": [
    "df_tulsa = get_tweets('Tulsa_SPCA')"
   ]
  },
  {
   "cell_type": "code",
   "execution_count": null,
   "metadata": {
    "collapsed": true
   },
   "outputs": [],
   "source": [
    "df_richmond = get_tweets('RichmondSPCA')"
   ]
  },
  {
   "cell_type": "code",
   "execution_count": null,
   "metadata": {
    "collapsed": true
   },
   "outputs": [],
   "source": [
    "df_usa = pd.concat([df_sfspca, df_pspca, df_houston, df_texas, df_tulsa, df_richmond], ignore_index=True)"
   ]
  },
  {
   "cell_type": "code",
   "execution_count": null,
   "metadata": {
    "collapsed": true
   },
   "outputs": [],
   "source": [
    "df_usa.to_pickle('../data/usa_tweets.p')"
   ]
  },
  {
   "cell_type": "code",
   "execution_count": null,
   "metadata": {
    "collapsed": true
   },
   "outputs": [],
   "source": [
    "df_ontario = get_tweets('OntarioSPCA')"
   ]
  },
  {
   "cell_type": "code",
   "execution_count": null,
   "metadata": {
    "collapsed": true,
    "scrolled": false
   },
   "outputs": [],
   "source": [
    "df_alberta = get_tweets('FMSPCA')"
   ]
  },
  {
   "cell_type": "code",
   "execution_count": null,
   "metadata": {
    "collapsed": true,
    "scrolled": false
   },
   "outputs": [],
   "source": [
    "df_bc = get_tweets('BC_SPCA')"
   ]
  },
  {
   "cell_type": "code",
   "execution_count": null,
   "metadata": {
    "collapsed": true
   },
   "outputs": [],
   "source": [
    "df_canada = pd.concat([df_ontario, df_alberta, df_bc], ignore_index=True)"
   ]
  },
  {
   "cell_type": "code",
   "execution_count": null,
   "metadata": {
    "collapsed": true
   },
   "outputs": [],
   "source": [
    "df_canada.to_pickle('../data/canada_tweets')"
   ]
  },
  {
   "cell_type": "markdown",
   "metadata": {},
   "source": [
    "## Next Steps\n",
    "### Research to see how to filter out replies\n",
    "### Check to see if these tweets are originals (no retweets of other users)"
   ]
  },
  {
   "cell_type": "code",
   "execution_count": null,
   "metadata": {
    "collapsed": true
   },
   "outputs": [],
   "source": []
  }
 ],
 "metadata": {
  "kernelspec": {
   "display_name": "Python 3",
   "language": "python",
   "name": "python3"
  },
  "language_info": {
   "codemirror_mode": {
    "name": "ipython",
    "version": 3
   },
   "file_extension": ".py",
   "mimetype": "text/x-python",
   "name": "python",
   "nbconvert_exporter": "python",
   "pygments_lexer": "ipython3",
   "version": "3.6.2"
  }
 },
 "nbformat": 4,
 "nbformat_minor": 2
}
