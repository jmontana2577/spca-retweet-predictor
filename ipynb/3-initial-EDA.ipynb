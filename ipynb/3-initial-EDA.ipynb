{
 "cells": [
  {
   "cell_type": "markdown",
   "metadata": {},
   "source": [
    "## Notebook 3 - EDA and Next Steps\n",
    "The purpose of this notebook is to perform EDA on the tweets and create a list of next steps based on findings."
   ]
  },
  {
   "cell_type": "code",
   "execution_count": null,
   "metadata": {
    "collapsed": true
   },
   "outputs": [],
   "source": [
    "import numpy as np\n",
    "import pandas as pd\n",
    "import matplotlib.pyplot as plt\n",
    "import seaborn as sns\n",
    "%matplotlib inline"
   ]
  },
  {
   "cell_type": "code",
   "execution_count": null,
   "metadata": {
    "collapsed": true
   },
   "outputs": [],
   "source": [
    "df = pd.read_pickle('../data/all_tweets.p')"
   ]
  },
  {
   "cell_type": "code",
   "execution_count": null,
   "metadata": {},
   "outputs": [],
   "source": [
    "df.info()"
   ]
  },
  {
   "cell_type": "code",
   "execution_count": null,
   "metadata": {},
   "outputs": [],
   "source": [
    "df.sample(5)"
   ]
  },
  {
   "cell_type": "markdown",
   "metadata": {},
   "source": [
    "**Note:**  \n",
    "Checking to see if only the SPCA's are in the username field. Looks like there are 11 others in there. For now I'm going to remove them and to the list of next stepsI'll add investigating how they got in there."
   ]
  },
  {
   "cell_type": "code",
   "execution_count": null,
   "metadata": {},
   "outputs": [],
   "source": [
    "df.username.value_counts()"
   ]
  },
  {
   "cell_type": "code",
   "execution_count": null,
   "metadata": {},
   "outputs": [],
   "source": [
    "# created this list by printing unique usernames and erasing non-SPCA's\n",
    "all_sfspca = ['sfspca', 'PSPCA', 'HoustonSPCA', 'spcaoftexas', 'Tulsa_SPCA', 'RichmondSPCA',\n",
    "              'OntarioSPCA', 'FMSPCA', 'BC_SPCA']\n",
    "\n",
    "df = df.loc[df.username.isin(all_sfspca)]\n",
    "df.shape"
   ]
  },
  {
   "cell_type": "markdown",
   "metadata": {},
   "source": [
    "**Note:**  \n",
    "Looking at correlation between favorites and retweets to see if both need to be factored into scoring."
   ]
  },
  {
   "cell_type": "code",
   "execution_count": null,
   "metadata": {},
   "outputs": [],
   "source": [
    "fig = plt.figure(figsize = (10,6))\n",
    "sns.heatmap(df[['favorites','retweets']].corr(), annot=True)\n",
    "# plt.savefig('retweet-favorite-correlation.png')"
   ]
  },
  {
   "cell_type": "markdown",
   "metadata": {},
   "source": [
    "**Note:**  \n",
    "Because these two have a high correlation, it makes sense to only consider one of them in the scoring, and that will be number of retweets. Need to consider if scoring should incorporate the number of followers (i.e. retweets divided by followers). Data does not currently have number of followers so add researching this to the list of next steps."
   ]
  },
  {
   "cell_type": "markdown",
   "metadata": {},
   "source": [
    "**Note:**  \n",
    "I'm going to create three more columns that are boolean values, one each for whether or not a tweet has a hashtag, a mention or a url."
   ]
  },
  {
   "cell_type": "code",
   "execution_count": null,
   "metadata": {},
   "outputs": [],
   "source": [
    "# look at how many tweets are without mentions, hashtags, urls\n",
    "sum(df.mentions == ''), sum(df.hashtags == ''), sum(df.urls == '')"
   ]
  },
  {
   "cell_type": "code",
   "execution_count": null,
   "metadata": {
    "collapsed": true
   },
   "outputs": [],
   "source": [
    "# new columns based on presence of mention, hashtag, url\n",
    "empty = lambda x: 0 if x == '' else 1\n",
    "df['has_mention'] = df.mentions.apply(empty)\n",
    "df['has_hashtag'] = df.hashtags.apply(empty)\n",
    "df['has_url'] = df.urls.apply(empty)"
   ]
  },
  {
   "cell_type": "code",
   "execution_count": null,
   "metadata": {},
   "outputs": [],
   "source": [
    "df.sample(5)"
   ]
  },
  {
   "cell_type": "code",
   "execution_count": null,
   "metadata": {},
   "outputs": [],
   "source": [
    "# sns.pairplot(df, vars=['favorites', 'retweets', 'year', 'month', 'weekday', 'local_hour'])"
   ]
  },
  {
   "cell_type": "code",
   "execution_count": null,
   "metadata": {},
   "outputs": [],
   "source": [
    "fig, axes = plt.subplots(nrows=1, ncols=2, figsize=(20,6))\n",
    "plt.suptitle('Mean and Median Retweets for Each Organization Based on Mentions', fontsize=20)\n",
    "sns.barplot(x='username', y='retweets', hue='has_mention', data=df, ci=None, ax=axes[0])\n",
    "sns.barplot(x='username', y='retweets', hue='has_mention', data=df, estimator=np.median,ci=None, ax=axes[1])\n",
    "for ax in axes:\n",
    "    plt.sca(ax)\n",
    "    plt.xticks(rotation=45)\n",
    "    ax.yaxis.label.set_fontsize(16)\n",
    "    ax.xaxis.label.set_fontsize(16)"
   ]
  },
  {
   "cell_type": "code",
   "execution_count": null,
   "metadata": {},
   "outputs": [],
   "source": [
    "fig, axes = plt.subplots(nrows=1, ncols=2, figsize=(20,6))\n",
    "plt.suptitle('Mean and Median Retweets for Each Organization Based on Hashtags', fontsize=20)\n",
    "sns.barplot(x='username', y='retweets', hue='has_hashtag', data=df, ci=None, ax=axes[0])\n",
    "sns.barplot(x='username', y='retweets', hue='has_hashtag', data=df, estimator=np.median,ci=None, ax=axes[1])\n",
    "for ax in axes:\n",
    "    plt.sca(ax)\n",
    "    plt.xticks(rotation=45)\n",
    "    ax.yaxis.label.set_fontsize(16)\n",
    "    ax.xaxis.label.set_fontsize(16)"
   ]
  },
  {
   "cell_type": "code",
   "execution_count": null,
   "metadata": {},
   "outputs": [],
   "source": [
    "fig, axes = plt.subplots(nrows=1, ncols=2, figsize=(20,6))\n",
    "plt.suptitle('Mean and Median Retweets for Each Organization Based on URLs', fontsize=20)\n",
    "sns.barplot(x='username', y='retweets', hue='has_url', data=df, ci=None, ax=axes[0])\n",
    "sns.barplot(x='username', y='retweets', hue='has_url', data=df, estimator=np.median,ci=None, ax=axes[1])\n",
    "for ax in axes:\n",
    "    plt.sca(ax)\n",
    "    plt.xticks(rotation=45)\n",
    "    ax.yaxis.label.set_fontsize(16)\n",
    "    ax.xaxis.label.set_fontsize(16)"
   ]
  },
  {
   "cell_type": "code",
   "execution_count": null,
   "metadata": {},
   "outputs": [],
   "source": [
    "fig, axes = plt.subplots(nrows=1, ncols=2, figsize=(20,6))\n",
    "plt.suptitle('Mean and Median Retweets by Hour', fontsize=20)\n",
    "sns.barplot(x='local_hour', y='retweets', data=df, ci=None, ax=axes[0])\n",
    "sns.barplot(x='local_hour', y='retweets', data=df, estimator=np.median,ci=None, ax=axes[1])\n",
    "for ax in axes:\n",
    "    plt.sca(ax)\n",
    "#     plt.xticks(rotation=45)\n",
    "    ax.yaxis.label.set_fontsize(16)\n",
    "    ax.xaxis.label.set_fontsize(16)"
   ]
  },
  {
   "cell_type": "code",
   "execution_count": null,
   "metadata": {},
   "outputs": [],
   "source": [
    "# look at tweets at 3 am to see what's causing such a high value\n",
    "df.loc[df.local_hour == 3].username.value_counts()"
   ]
  },
  {
   "cell_type": "markdown",
   "metadata": {},
   "source": [
    "**Note:**  \n",
    "Almost all of the 3 am tweets are from the Alberta organization. Might there be an issue with datestamp? Add to list of next steps."
   ]
  },
  {
   "cell_type": "code",
   "execution_count": null,
   "metadata": {},
   "outputs": [],
   "source": [
    "fig, axes = plt.subplots(nrows=1, ncols=2, figsize=(20,6))\n",
    "plt.suptitle('Mean and Median Retweets by Month', fontsize=20)\n",
    "sns.barplot(x='month', y='retweets', data=df, ci=None, ax=axes[0])\n",
    "sns.barplot(x='month', y='retweets', data=df, estimator=np.median,ci=None, ax=axes[1])\n",
    "for ax in axes:\n",
    "    plt.sca(ax)\n",
    "#     plt.xticks(rotation=45)\n",
    "    ax.yaxis.label.set_fontsize(16)\n",
    "    ax.xaxis.label.set_fontsize(16)"
   ]
  },
  {
   "cell_type": "markdown",
   "metadata": {},
   "source": [
    "**Note:**  \n",
    "I'm thinking that Harvey boosted the retweet numbers for Houston in the month of August. Add consideration of removing these tweets to next steps."
   ]
  },
  {
   "cell_type": "code",
   "execution_count": null,
   "metadata": {},
   "outputs": [],
   "source": [
    "from datetime import datetime\n",
    "df.loc[(df.date > datetime(2017, 8, 24)) & (df.username == 'HoustonSPCA')][['retweets']].median()"
   ]
  },
  {
   "cell_type": "code",
   "execution_count": null,
   "metadata": {},
   "outputs": [],
   "source": [
    "fig, axes = plt.subplots(nrows=1, ncols=2, figsize=(20,6))\n",
    "plt.suptitle('Mean and Median Retweets by Day of Week', fontsize=20)\n",
    "sns.barplot(x='weekday', y='retweets', data=df, ci=None, ax=axes[0])\n",
    "sns.barplot(x='weekday', y='retweets', data=df, estimator=np.median,ci=None, ax=axes[1])\n",
    "for ax in axes:\n",
    "    plt.sca(ax)\n",
    "#     plt.xticks(rotation=45)\n",
    "    ax.yaxis.label.set_fontsize(16)\n",
    "    ax.xaxis.label.set_fontsize(16)"
   ]
  },
  {
   "cell_type": "markdown",
   "metadata": {},
   "source": [
    "**Notes:**  \n",
    "1. Having a mention seems to result in lower retweets.\n",
    "1. Having a hashtag seems to result in higher retweets.\n",
    "1. Having a url has varying affects depending on organization.\n",
    "1. It appears tweets sent in the very early morning hours have the highest number of retweets, but I wonder if this is an error in processing the datestamp.\n",
    "1. The month a tweet was sent seems to make no difference, assuming the bump in August is from Hurricane Harvey in Houston. Need to look into this more.\n",
    "1. It looks like weekend tweets get more retweets than those during the week."
   ]
  },
  {
   "cell_type": "markdown",
   "metadata": {
    "collapsed": true
   },
   "source": [
    "## Next Steps\n",
    "1. Can I get number of followers from the Twitter API?\n",
    "1. Look into timezone of timestamp so that \"hour\" is local to user and day of week is local too. Might need to add this as tweets are pulled since adjustment for each SPCA may be different. Also got lots of tweets at 3 am from Alberta organization. Can this be real?\n",
    "1. Investigate how those 11 tweets from non-SPCA users got into the data.\n"
   ]
  },
  {
   "cell_type": "code",
   "execution_count": null,
   "metadata": {
    "collapsed": true
   },
   "outputs": [],
   "source": []
  }
 ],
 "metadata": {
  "kernelspec": {
   "display_name": "Python 3",
   "language": "python",
   "name": "python3"
  },
  "language_info": {
   "codemirror_mode": {
    "name": "ipython",
    "version": 3
   },
   "file_extension": ".py",
   "mimetype": "text/x-python",
   "name": "python",
   "nbconvert_exporter": "python",
   "pygments_lexer": "ipython3",
   "version": "3.6.2"
  }
 },
 "nbformat": 4,
 "nbformat_minor": 2
}
