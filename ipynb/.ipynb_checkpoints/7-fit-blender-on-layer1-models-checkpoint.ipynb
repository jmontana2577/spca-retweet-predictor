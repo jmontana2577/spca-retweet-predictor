{
 "cells": [
  {
   "cell_type": "markdown",
   "metadata": {},
   "source": [
    "# Notebook 7 - Fit a Blender Model for Final Prediction\n",
    "The purpose of this notebook is to train a regression model on the predictions created from the models in Layer 1 of the stack."
   ]
  },
  {
   "cell_type": "markdown",
   "metadata": {},
   "source": [
    "## Import Data and Layer 1 Models and Processors"
   ]
  },
  {
   "cell_type": "code",
   "execution_count": 26,
   "metadata": {
    "collapsed": true
   },
   "outputs": [],
   "source": [
    "from sklearn.externals import joblib\n",
    "import pandas as pd"
   ]
  },
  {
   "cell_type": "code",
   "execution_count": 2,
   "metadata": {
    "collapsed": true
   },
   "outputs": [],
   "source": [
    "# import the data to be used for the blender\n",
    "df_blender_train = joblib.load('../data/df_blender_train.pkl')\n",
    "df_blender_test = joblib.load('../data/df_blender_test.pkl')\n",
    "y_blender_train = joblib.load('../data/y_blender_train.pkl')\n",
    "y_blender_test = joblib.load('../data/y_blender_test.pkl')\n",
    "\n",
    "# import the layer 1 processors\n",
    "text_tfidf = joblib.load('../data/4-text_tfidf.pkl')\n",
    "text_svd = joblib.load('../data/4-text_svd.pkl')\n",
    "tags_cv = joblib.load('../data/6-tags_cv.pkl')\n",
    "tags_svd = joblib.load('../data/6-tags_svd.pkl')\n",
    "\n",
    "# import the layer 1 models for the text\n",
    "text_rfr = joblib.load('../data/4-text_rfr.pkl')\n",
    "text_knr = joblib.load('../data/4-text_knr.pkl')\n",
    "text_bayes = joblib.load('../data/4-text_bayes.pkl')\n",
    "text_gbr = joblib.load('../data/4-text_gbr.pkl')\n",
    "\n",
    "# import the layer 1 models for the meta data\n",
    "meta_rfr = joblib.load('../data/5-meta_rfr.pkl')\n",
    "meta_knr = joblib.load('../data/5-meta_knr.pkl')\n",
    "meta_bayes = joblib.load('../data/5-meta_bayes.pkl')\n",
    "meta_gbr = joblib.load('../data/5-meta_gbr.pkl')\n",
    "\n",
    "# import the layer 1 models for the hashtags and mentions\n",
    "tags_rfr = joblib.load('../data/6-tags_rfr.pkl')\n",
    "tags_knr = joblib.load('../data/6-tags_knr.pkl')\n",
    "tags_bayes = joblib.load('../data/6-tags_bayes.pkl')\n",
    "tags_gbr = joblib.load('../data/6-tags_gbr.pkl')\n"
   ]
  },
  {
   "cell_type": "code",
   "execution_count": 15,
   "metadata": {
    "collapsed": true
   },
   "outputs": [],
   "source": [
    "tags_cv = joblib.load('../data/6-tags_cv.pkl')\n",
    "tags_svd = joblib.load('../data/6-tags_svd.pkl')"
   ]
  },
  {
   "cell_type": "markdown",
   "metadata": {},
   "source": [
    "## Split the Training and Test Data into Three Sets"
   ]
  },
  {
   "cell_type": "code",
   "execution_count": 3,
   "metadata": {
    "collapsed": true
   },
   "outputs": [],
   "source": [
    "# get the text data\n",
    "X_text_train = df_blender_train.text\n",
    "X_text_test = df_blender_test.text\n",
    "\n",
    "# get the meta data\n",
    "cols = ['year', 'month', 'hour', 'weekday', 'has_hashtag', 'has_mention', 'has_url']\n",
    "X_meta_train = df_blender_train[cols]\n",
    "X_meta_test = df_blender_test[cols]\n",
    "\n",
    "# get the hashtags and mentions data\n",
    "X_tags_train = df_blender_train.hashtags_and_mentions\n",
    "X_tags_test = df_blender_test.hashtags_and_mentions"
   ]
  },
  {
   "cell_type": "markdown",
   "metadata": {},
   "source": [
    "## Train the Blender\n",
    "Here are the steps to train the blender:\n",
    "1. Run the data through layer 1 to get predictions\n",
    "1. Train a model with the predictions as the input\n",
    "1. Score the model"
   ]
  },
  {
   "cell_type": "markdown",
   "metadata": {},
   "source": [
    "### 1. Get Layer 1 Predictions"
   ]
  },
  {
   "cell_type": "code",
   "execution_count": 27,
   "metadata": {},
   "outputs": [],
   "source": [
    "# function to get predictions from layer 1\n",
    "def get_layer1_preds(data, regr, dataset=None):\n",
    "    '''\n",
    "    Runs the data through the layer 1 models to get predictions\n",
    "    \n",
    "    Parameters:\n",
    "        data - feature data to be used in prediction\n",
    "        regr - fitted regressor\n",
    "        dataset - string that specifies which kind of layer1 data to process (text, meta, or tags)\n",
    "    \n",
    "    Returns: array with shape = [num_samples] containing predictions \n",
    "    '''\n",
    "    \n",
    "    if dataset not in ['text', 'meta', 'tags']:\n",
    "        print(\"Must specify 'text', 'meta', or 'tags'.\")\n",
    "        return\n",
    "    \n",
    "    # transform the text if predicting on text or hashtags and mentions \n",
    "    if dataset == 'text':\n",
    "#         print('Transforming text data.')\n",
    "        sparse = text_tfidf.transform(data)\n",
    "        data = text_svd.transform(sparse)\n",
    "    elif dataset == 'tags':\n",
    "#         print('Transforming tags data.')\n",
    "        sparse = tags_cv.transform(data)\n",
    "        data = tags_svd.transform(sparse)\n",
    "        \n",
    "    print('Predictions complete.')\n",
    "    \n",
    "    return regr.predict(data)"
   ]
  },
  {
   "cell_type": "markdown",
   "metadata": {},
   "source": [
    "#### Loop through all the Layer 1 models and build predictions dataframe"
   ]
  },
  {
   "cell_type": "code",
   "execution_count": 16,
   "metadata": {},
   "outputs": [
    {
     "data": {
      "text/plain": [
       "((23928, 7), (5982, 7))"
      ]
     },
     "execution_count": 16,
     "metadata": {},
     "output_type": "execute_result"
    }
   ],
   "source": [
    "X_meta_train.shape, X_meta_test.shape"
   ]
  },
  {
   "cell_type": "code",
   "execution_count": 17,
   "metadata": {},
   "outputs": [
    {
     "data": {
      "text/plain": [
       "(7, 27454)"
      ]
     },
     "execution_count": 17,
     "metadata": {},
     "output_type": "execute_result"
    }
   ],
   "source": [
    "sparse = tags_cv.transform(X_meta_train)\n",
    "sparse.shape"
   ]
  },
  {
   "cell_type": "code",
   "execution_count": 13,
   "metadata": {},
   "outputs": [
    {
     "data": {
      "text/plain": [
       "(7, 500)"
      ]
     },
     "execution_count": 13,
     "metadata": {},
     "output_type": "execute_result"
    }
   ],
   "source": [
    "data = tags_svd.transform(sparse)\n",
    "data.shape"
   ]
  },
  {
   "cell_type": "code",
   "execution_count": 14,
   "metadata": {},
   "outputs": [
    {
     "data": {
      "text/plain": [
       "(7, 27454)"
      ]
     },
     "execution_count": 14,
     "metadata": {},
     "output_type": "execute_result"
    }
   ],
   "source": [
    "sparse.shape"
   ]
  },
  {
   "cell_type": "code",
   "execution_count": 20,
   "metadata": {},
   "outputs": [
    {
     "data": {
      "text/plain": [
       "(23928, 7)"
      ]
     },
     "execution_count": 20,
     "metadata": {},
     "output_type": "execute_result"
    }
   ],
   "source": [
    "X_meta_train.shape"
   ]
  },
  {
   "cell_type": "code",
   "execution_count": 21,
   "metadata": {
    "collapsed": true
   },
   "outputs": [],
   "source": [
    "test = meta_rfr.predict(X_meta_train)"
   ]
  },
  {
   "cell_type": "code",
   "execution_count": 24,
   "metadata": {},
   "outputs": [
    {
     "data": {
      "text/plain": [
       "GradientBoostingRegressor(alpha=0.9, criterion='friedman_mse', init=None,\n",
       "             learning_rate=0.1, loss='ls', max_depth=3, max_features=None,\n",
       "             max_leaf_nodes=None, min_impurity_split=1e-07,\n",
       "             min_samples_leaf=1, min_samples_split=2,\n",
       "             min_weight_fraction_leaf=0.0, n_estimators=500,\n",
       "             presort='auto', random_state=None, subsample=1.0, verbose=0,\n",
       "             warm_start=False)"
      ]
     },
     "execution_count": 24,
     "metadata": {},
     "output_type": "execute_result"
    }
   ],
   "source": [
    "meta_gbr"
   ]
  },
  {
   "cell_type": "code",
   "execution_count": 36,
   "metadata": {},
   "outputs": [
    {
     "name": "stdout",
     "output_type": "stream",
     "text": [
      "Predictions complete.\n",
      "Predictions complete.\n",
      "Predictions complete.\n",
      "Predictions complete.\n",
      "Predictions complete.\n",
      "Predictions complete.\n",
      "Predictions complete.\n",
      "Predictions complete.\n",
      "All text predictions complete.\n",
      "\n",
      "Predictions complete.\n",
      "Predictions complete.\n",
      "Predictions complete.\n",
      "Predictions complete.\n",
      "Predictions complete.\n",
      "Predictions complete.\n",
      "Predictions complete.\n",
      "Predictions complete.\n",
      "All meta predictions complete.\n",
      "\n",
      "Predictions complete.\n",
      "Predictions complete.\n",
      "Predictions complete.\n",
      "Predictions complete.\n",
      "Predictions complete.\n",
      "Predictions complete.\n",
      "Predictions complete.\n",
      "Predictions complete.\n",
      "All tags predictions complete.\n",
      "\n"
     ]
    }
   ],
   "source": [
    "train_preds_dict = {}\n",
    "test_preds_dict = {}\n",
    "\n",
    "# loop through the text models\n",
    "text_models = [('text_rfr_preds', text_rfr), ('text_knr_preds', text_knr), \n",
    "               ('text_bayes_preds', text_bayes), ('text_gbr_preds', text_gbr)]\n",
    "for model in text_models:\n",
    "    train_preds = get_layer1_preds(X_text_train, model[1], dataset='text')\n",
    "    test_preds = get_layer1_preds(X_text_test, model[1], dataset='text')\n",
    "#     title = str(model) + '_preds'\n",
    "    title = model[0]\n",
    "    train_preds_dict[title] = train_preds\n",
    "    test_preds_dict[title] = test_preds\n",
    "print('All text predictions complete.', end='\\n\\n')\n",
    "\n",
    "# loop through the meta models\n",
    "meta_models = [('meta_rfr_preds', meta_rfr), ('meta_knr_preds', meta_knr), \n",
    "               ('meta_bayes_preds', meta_bayes), ('meta_gbr_preds', meta_gbr)]\n",
    "for model in meta_models:\n",
    "    train_preds = get_layer1_preds(X_meta_train, model[1], dataset='meta')\n",
    "    test_preds = get_layer1_preds(X_meta_test, model[1], dataset='meta')\n",
    "#     title = str(model) + '_preds'\n",
    "    title = model[0]\n",
    "    train_preds_dict[title] = train_preds\n",
    "    test_preds_dict[title] = test_preds\n",
    "print('All meta predictions complete.', end='\\n\\n')\n",
    "    \n",
    "# loop through the hashtags and mentions models\n",
    "tags_models = [('tags_rfr_preds', tags_rfr), ('tags_knr_preds', tags_knr), \n",
    "               ('tags_bayes_preds', tags_bayes), ('tags_gbr_preds', tags_gbr)]\n",
    "for model in tags_models:\n",
    "    train_preds = get_layer1_preds(X_tags_train, model[1], dataset='tags')\n",
    "    test_preds = get_layer1_preds(X_tags_test, model[1], dataset='tags')\n",
    "#     title = str(model) + '_preds'\n",
    "    title = model[0]\n",
    "    train_preds_dict[title] = train_preds\n",
    "    test_preds_dict[title] = test_preds\n",
    "print('All tags predictions complete.', end='\\n\\n')\n",
    "    \n",
    "# write the predictions to a dataframe\n",
    "X_train_preds = pd.DataFrame(train_preds_dict)\n",
    "X_test_preds = pd.DataFrame(test_preds_dict)"
   ]
  },
  {
   "cell_type": "code",
   "execution_count": 37,
   "metadata": {},
   "outputs": [
    {
     "data": {
      "text/plain": [
       "((23928, 12), (5982, 12))"
      ]
     },
     "execution_count": 37,
     "metadata": {},
     "output_type": "execute_result"
    }
   ],
   "source": [
    "X_train_preds.shape, X_test_preds.shape"
   ]
  },
  {
   "cell_type": "code",
   "execution_count": 38,
   "metadata": {},
   "outputs": [
    {
     "data": {
      "text/html": [
       "<div>\n",
       "<table border=\"1\" class=\"dataframe\">\n",
       "  <thead>\n",
       "    <tr style=\"text-align: right;\">\n",
       "      <th></th>\n",
       "      <th>meta_bayes_preds</th>\n",
       "      <th>meta_gbr_preds</th>\n",
       "      <th>meta_knr_preds</th>\n",
       "      <th>meta_rfr_preds</th>\n",
       "      <th>tags_bayes_preds</th>\n",
       "      <th>tags_gbr_preds</th>\n",
       "      <th>tags_knr_preds</th>\n",
       "      <th>tags_rfr_preds</th>\n",
       "      <th>text_bayes_preds</th>\n",
       "      <th>text_gbr_preds</th>\n",
       "      <th>text_knr_preds</th>\n",
       "      <th>text_rfr_preds</th>\n",
       "    </tr>\n",
       "  </thead>\n",
       "  <tbody>\n",
       "    <tr>\n",
       "      <th>0</th>\n",
       "      <td>1.719655</td>\n",
       "      <td>1.212186</td>\n",
       "      <td>0.683927</td>\n",
       "      <td>1.293152</td>\n",
       "      <td>1.033603</td>\n",
       "      <td>1.216027</td>\n",
       "      <td>0.950370</td>\n",
       "      <td>1.019919</td>\n",
       "      <td>1.001134</td>\n",
       "      <td>1.238841</td>\n",
       "      <td>1.475438</td>\n",
       "      <td>1.389571</td>\n",
       "    </tr>\n",
       "    <tr>\n",
       "      <th>1</th>\n",
       "      <td>1.927190</td>\n",
       "      <td>1.691713</td>\n",
       "      <td>0.824046</td>\n",
       "      <td>1.469156</td>\n",
       "      <td>0.889546</td>\n",
       "      <td>0.815355</td>\n",
       "      <td>0.885061</td>\n",
       "      <td>0.835178</td>\n",
       "      <td>1.299594</td>\n",
       "      <td>0.975144</td>\n",
       "      <td>1.350282</td>\n",
       "      <td>0.940923</td>\n",
       "    </tr>\n",
       "    <tr>\n",
       "      <th>2</th>\n",
       "      <td>1.728568</td>\n",
       "      <td>1.536328</td>\n",
       "      <td>1.367855</td>\n",
       "      <td>1.643884</td>\n",
       "      <td>1.435887</td>\n",
       "      <td>1.204169</td>\n",
       "      <td>1.921024</td>\n",
       "      <td>1.241845</td>\n",
       "      <td>1.171399</td>\n",
       "      <td>1.076198</td>\n",
       "      <td>1.517162</td>\n",
       "      <td>1.105408</td>\n",
       "    </tr>\n",
       "    <tr>\n",
       "      <th>3</th>\n",
       "      <td>0.796375</td>\n",
       "      <td>0.932308</td>\n",
       "      <td>0.485885</td>\n",
       "      <td>0.904777</td>\n",
       "      <td>0.908536</td>\n",
       "      <td>1.042771</td>\n",
       "      <td>0.783251</td>\n",
       "      <td>0.974224</td>\n",
       "      <td>1.360722</td>\n",
       "      <td>1.366308</td>\n",
       "      <td>1.472035</td>\n",
       "      <td>1.296520</td>\n",
       "    </tr>\n",
       "    <tr>\n",
       "      <th>4</th>\n",
       "      <td>1.691034</td>\n",
       "      <td>1.077659</td>\n",
       "      <td>0.990210</td>\n",
       "      <td>1.226798</td>\n",
       "      <td>1.335081</td>\n",
       "      <td>1.392498</td>\n",
       "      <td>1.349945</td>\n",
       "      <td>1.340941</td>\n",
       "      <td>1.424514</td>\n",
       "      <td>1.220606</td>\n",
       "      <td>1.165234</td>\n",
       "      <td>1.399955</td>\n",
       "    </tr>\n",
       "    <tr>\n",
       "      <th>5</th>\n",
       "      <td>0.795949</td>\n",
       "      <td>0.781308</td>\n",
       "      <td>0.099021</td>\n",
       "      <td>0.865690</td>\n",
       "      <td>1.399281</td>\n",
       "      <td>1.387207</td>\n",
       "      <td>2.196603</td>\n",
       "      <td>1.111936</td>\n",
       "      <td>1.696786</td>\n",
       "      <td>0.635934</td>\n",
       "      <td>0.572965</td>\n",
       "      <td>0.087035</td>\n",
       "    </tr>\n",
       "    <tr>\n",
       "      <th>6</th>\n",
       "      <td>1.738921</td>\n",
       "      <td>1.813892</td>\n",
       "      <td>1.920617</td>\n",
       "      <td>1.730203</td>\n",
       "      <td>1.029300</td>\n",
       "      <td>0.909361</td>\n",
       "      <td>0.796338</td>\n",
       "      <td>0.913549</td>\n",
       "      <td>1.256901</td>\n",
       "      <td>1.280574</td>\n",
       "      <td>1.411421</td>\n",
       "      <td>1.113748</td>\n",
       "    </tr>\n",
       "    <tr>\n",
       "      <th>7</th>\n",
       "      <td>1.750374</td>\n",
       "      <td>2.255784</td>\n",
       "      <td>0.980990</td>\n",
       "      <td>1.911983</td>\n",
       "      <td>1.769349</td>\n",
       "      <td>2.139223</td>\n",
       "      <td>1.815865</td>\n",
       "      <td>2.028715</td>\n",
       "      <td>1.898903</td>\n",
       "      <td>2.115284</td>\n",
       "      <td>2.104059</td>\n",
       "      <td>2.178317</td>\n",
       "    </tr>\n",
       "    <tr>\n",
       "      <th>8</th>\n",
       "      <td>2.057791</td>\n",
       "      <td>2.006518</td>\n",
       "      <td>2.491875</td>\n",
       "      <td>2.094972</td>\n",
       "      <td>1.557482</td>\n",
       "      <td>1.417007</td>\n",
       "      <td>1.880772</td>\n",
       "      <td>1.570778</td>\n",
       "      <td>1.333261</td>\n",
       "      <td>1.387988</td>\n",
       "      <td>1.069796</td>\n",
       "      <td>0.802058</td>\n",
       "    </tr>\n",
       "    <tr>\n",
       "      <th>9</th>\n",
       "      <td>1.042207</td>\n",
       "      <td>1.264176</td>\n",
       "      <td>1.740722</td>\n",
       "      <td>1.056741</td>\n",
       "      <td>1.393580</td>\n",
       "      <td>1.362044</td>\n",
       "      <td>1.445839</td>\n",
       "      <td>1.266276</td>\n",
       "      <td>1.823526</td>\n",
       "      <td>2.007191</td>\n",
       "      <td>1.852751</td>\n",
       "      <td>2.148076</td>\n",
       "    </tr>\n",
       "  </tbody>\n",
       "</table>\n",
       "</div>"
      ],
      "text/plain": [
       "   meta_bayes_preds  meta_gbr_preds  meta_knr_preds  meta_rfr_preds  \\\n",
       "0          1.719655        1.212186        0.683927        1.293152   \n",
       "1          1.927190        1.691713        0.824046        1.469156   \n",
       "2          1.728568        1.536328        1.367855        1.643884   \n",
       "3          0.796375        0.932308        0.485885        0.904777   \n",
       "4          1.691034        1.077659        0.990210        1.226798   \n",
       "5          0.795949        0.781308        0.099021        0.865690   \n",
       "6          1.738921        1.813892        1.920617        1.730203   \n",
       "7          1.750374        2.255784        0.980990        1.911983   \n",
       "8          2.057791        2.006518        2.491875        2.094972   \n",
       "9          1.042207        1.264176        1.740722        1.056741   \n",
       "\n",
       "   tags_bayes_preds  tags_gbr_preds  tags_knr_preds  tags_rfr_preds  \\\n",
       "0          1.033603        1.216027        0.950370        1.019919   \n",
       "1          0.889546        0.815355        0.885061        0.835178   \n",
       "2          1.435887        1.204169        1.921024        1.241845   \n",
       "3          0.908536        1.042771        0.783251        0.974224   \n",
       "4          1.335081        1.392498        1.349945        1.340941   \n",
       "5          1.399281        1.387207        2.196603        1.111936   \n",
       "6          1.029300        0.909361        0.796338        0.913549   \n",
       "7          1.769349        2.139223        1.815865        2.028715   \n",
       "8          1.557482        1.417007        1.880772        1.570778   \n",
       "9          1.393580        1.362044        1.445839        1.266276   \n",
       "\n",
       "   text_bayes_preds  text_gbr_preds  text_knr_preds  text_rfr_preds  \n",
       "0          1.001134        1.238841        1.475438        1.389571  \n",
       "1          1.299594        0.975144        1.350282        0.940923  \n",
       "2          1.171399        1.076198        1.517162        1.105408  \n",
       "3          1.360722        1.366308        1.472035        1.296520  \n",
       "4          1.424514        1.220606        1.165234        1.399955  \n",
       "5          1.696786        0.635934        0.572965        0.087035  \n",
       "6          1.256901        1.280574        1.411421        1.113748  \n",
       "7          1.898903        2.115284        2.104059        2.178317  \n",
       "8          1.333261        1.387988        1.069796        0.802058  \n",
       "9          1.823526        2.007191        1.852751        2.148076  "
      ]
     },
     "execution_count": 38,
     "metadata": {},
     "output_type": "execute_result"
    }
   ],
   "source": [
    "X_train_preds.head(10)"
   ]
  },
  {
   "cell_type": "markdown",
   "metadata": {},
   "source": [
    "### 2. Train the Blender"
   ]
  },
  {
   "cell_type": "code",
   "execution_count": 39,
   "metadata": {
    "collapsed": true
   },
   "outputs": [],
   "source": [
    "from sklearn.linear_model import LinearRegression, Lasso"
   ]
  },
  {
   "cell_type": "code",
   "execution_count": 40,
   "metadata": {
    "collapsed": true
   },
   "outputs": [],
   "source": [
    "# function to fit and score a regressor\n",
    "def fit_and_score(data, regr, return_regr=False):\n",
    "    '''\n",
    "    Fits the regressor to the training data and then prints train and test scores.\n",
    "    \n",
    "    Parameters:\n",
    "        data - iterable containing X_train, X_test, y_train, y_test\n",
    "        regr - instantiated regressor\n",
    "        return_regr - boolean, option to return the fit regressor (default: False)\n",
    "    \n",
    "    Returns: optional, regressor fit to the training data\n",
    "    '''\n",
    "    \n",
    "    print('Regressor: {}'.format(regr))\n",
    "    \n",
    "    regr.fit(data[0], data[2])\n",
    "    print('Train score: {}'.format(regr.score(data[0], data[2])))\n",
    "    \n",
    "    print('Test score: {}'.format(regr.score(data[1], data[3])))\n",
    "    \n",
    "    if return_regr:\n",
    "        return regr"
   ]
  },
  {
   "cell_type": "code",
   "execution_count": 41,
   "metadata": {
    "collapsed": true
   },
   "outputs": [],
   "source": [
    "data = (X_train_preds, X_test_preds, y_blender_train, y_blender_test)"
   ]
  },
  {
   "cell_type": "code",
   "execution_count": 42,
   "metadata": {},
   "outputs": [
    {
     "name": "stdout",
     "output_type": "stream",
     "text": [
      "Regressor: LinearRegression(copy_X=True, fit_intercept=True, n_jobs=1, normalize=False)\n",
      "Train score: 0.4922951265792904\n",
      "Test score: 0.5071965117148725\n"
     ]
    }
   ],
   "source": [
    "linreg = LinearRegression()\n",
    "fit_and_score(data, linreg)"
   ]
  },
  {
   "cell_type": "code",
   "execution_count": 51,
   "metadata": {},
   "outputs": [
    {
     "data": {
      "text/plain": [
       "['../data/7-blender_linreg.pkl']"
      ]
     },
     "execution_count": 51,
     "metadata": {},
     "output_type": "execute_result"
    }
   ],
   "source": [
    "joblib.dump(linreg, '../data/7-blender_linreg.pkl')"
   ]
  },
  {
   "cell_type": "code",
   "execution_count": 46,
   "metadata": {
    "collapsed": true
   },
   "outputs": [],
   "source": [
    "final_predictions = linreg.predict(X_test_preds)"
   ]
  },
  {
   "cell_type": "code",
   "execution_count": 44,
   "metadata": {
    "collapsed": true
   },
   "outputs": [],
   "source": [
    "import matplotlib.pyplot as plt\n",
    "import seaborn as sns\n",
    "%matplotlib inline"
   ]
  },
  {
   "cell_type": "code",
   "execution_count": 47,
   "metadata": {},
   "outputs": [
    {
     "data": {
      "text/html": [
       "<div>\n",
       "<table border=\"1\" class=\"dataframe\">\n",
       "  <thead>\n",
       "    <tr style=\"text-align: right;\">\n",
       "      <th></th>\n",
       "      <th>Actual</th>\n",
       "      <th>Predictions</th>\n",
       "    </tr>\n",
       "  </thead>\n",
       "  <tbody>\n",
       "    <tr>\n",
       "      <th>87376</th>\n",
       "      <td>1.098612</td>\n",
       "      <td>1.325723</td>\n",
       "    </tr>\n",
       "    <tr>\n",
       "      <th>87766</th>\n",
       "      <td>1.098612</td>\n",
       "      <td>1.733436</td>\n",
       "    </tr>\n",
       "    <tr>\n",
       "      <th>57239</th>\n",
       "      <td>2.639057</td>\n",
       "      <td>1.722085</td>\n",
       "    </tr>\n",
       "    <tr>\n",
       "      <th>34117</th>\n",
       "      <td>0.000000</td>\n",
       "      <td>0.864286</td>\n",
       "    </tr>\n",
       "    <tr>\n",
       "      <th>65838</th>\n",
       "      <td>2.772589</td>\n",
       "      <td>2.651178</td>\n",
       "    </tr>\n",
       "  </tbody>\n",
       "</table>\n",
       "</div>"
      ],
      "text/plain": [
       "         Actual  Predictions\n",
       "87376  1.098612     1.325723\n",
       "87766  1.098612     1.733436\n",
       "57239  2.639057     1.722085\n",
       "34117  0.000000     0.864286\n",
       "65838  2.772589     2.651178"
      ]
     },
     "execution_count": 47,
     "metadata": {},
     "output_type": "execute_result"
    }
   ],
   "source": [
    "results_dict = {'Predictions': final_predictions, 'Actual': y_blender_test}\n",
    "results_df = pd.DataFrame(results_dict)\n",
    "results_df.head()"
   ]
  },
  {
   "cell_type": "code",
   "execution_count": 48,
   "metadata": {
    "scrolled": true
   },
   "outputs": [
    {
     "data": {
      "text/plain": [
       "<matplotlib.axes._subplots.AxesSubplot at 0x7fefd6284630>"
      ]
     },
     "execution_count": 48,
     "metadata": {},
     "output_type": "execute_result"
    },
    {
     "data": {
      "image/png": "[encoded data removed]",
      "text/plain": [
       "<matplotlib.figure.Figure at 0x7fefd60bc198>"
      ]
     },
     "metadata": {},
     "output_type": "display_data"
    }
   ],
   "source": [
    "sns.regplot(x='Actual', y='Predictions', data=results_df)"
   ]
  },
  {
   "cell_type": "code",
   "execution_count": null,
   "metadata": {
    "collapsed": true
   },
   "outputs": [],
   "source": []
  }
 ],
 "metadata": {
  "kernelspec": {
   "display_name": "Python 3",
   "language": "python",
   "name": "python3"
  },
  "language_info": {
   "codemirror_mode": {
    "name": "ipython",
    "version": 3
   },
   "file_extension": ".py",
   "mimetype": "text/x-python",
   "name": "python",
   "nbconvert_exporter": "python",
   "pygments_lexer": "ipython3",
   "version": "3.6.2"
  }
 },
 "nbformat": 4,
 "nbformat_minor": 2
}
