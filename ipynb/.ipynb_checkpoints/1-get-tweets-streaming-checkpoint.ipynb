{
 "cells": [
  {
   "cell_type": "code",
   "execution_count": null,
   "metadata": {
    "collapsed": true
   },
   "outputs": [],
   "source": [
    "# !pip install twitter"
   ]
  },
  {
   "cell_type": "code",
   "execution_count": null,
   "metadata": {},
   "outputs": [],
   "source": [
    "# !pip install pymongo"
   ]
  },
  {
   "cell_type": "code",
   "execution_count": null,
   "metadata": {
    "collapsed": true
   },
   "outputs": [],
   "source": [
    "# import pandas as pd"
   ]
  },
  {
   "cell_type": "code",
   "execution_count": null,
   "metadata": {
    "collapsed": true
   },
   "outputs": [],
   "source": [
    "CONSUMER_KEY = \n",
    "CONSUMER_SECRET = \n",
    "ACCESS_TOKEN = \n",
    "ACCESS_SECRET = "
   ]
  },
  {
   "cell_type": "code",
   "execution_count": null,
   "metadata": {
    "collapsed": true
   },
   "outputs": [],
   "source": [
    "from twitter import TwitterStream\n",
    "from twitter import OAuth\n",
    "\n",
    "oauth = OAuth(ACCESS_TOKEN,\n",
    "              ACCESS_SECRET,\n",
    "              CONSUMER_KEY,\n",
    "              CONSUMER_SECRET)\n",
    "\n",
    "east_bbox = \"-95.05,30.49,-65.0,52.4\""
   ]
  },
  {
   "cell_type": "code",
   "execution_count": null,
   "metadata": {},
   "outputs": [],
   "source": [
    "twitter_stream = TwitterStream(auth=oauth)\n",
    "twitterator = (twitter_stream\n",
    "               .statuses\n",
    "               .filter(locations=east_bbox))\n",
    "\n",
    "\n",
    "# coll_ref.insert_one(next(twitterator))"
   ]
  },
  {
   "cell_type": "code",
   "execution_count": null,
   "metadata": {},
   "outputs": [],
   "source": [
    "from pymongo import MongoClient\n",
    "def tweets_to_mongo():\n",
    "    client = MongoClient('54.191.107.201', 27016)\n",
    "    db_ref = client.twitter\n",
    "    coll_ref = db_ref.tweets\n",
    "\n",
    "    i = 1\n",
    "    while i < 1001:\n",
    "        coll_ref.insert_one(next(twitterator))\n",
    "        if i % 100 == 0:\n",
    "            print('{} tweets written to database.'.format(coll_ref.count()))\n",
    "        i += 1"
   ]
  },
  {
   "cell_type": "code",
   "execution_count": null,
   "metadata": {
    "collapsed": true
   },
   "outputs": [],
   "source": [
    "import pandas as pd\n",
    "def tweets_to_file(filename):\n",
    "    east_tweets = []\n",
    "    i = 1\n",
    "    while i < 300001:\n",
    "        east_tweets.append(next(twitterator))\n",
    "        print('tweets: {}, file: {}'.format(i,filename), end='\\r')\n",
    "\n",
    "        if i % 1000 == 0:\n",
    "            pd.DataFrame(east_tweets).to_pickle(filename)\n",
    "\n",
    "\n",
    "        if i % 10000 == 0:\n",
    "            filename = 'data/east-{}.p'.format(int(filename[-4:-2])+1)\n",
    "            east_tweets = []\n",
    "        \n",
    "        i += 1"
   ]
  },
  {
   "cell_type": "code",
   "execution_count": null,
   "metadata": {
    "collapsed": true
   },
   "outputs": [],
   "source": [
    "tweets_to_file('data/east-51.p')"
   ]
  },
  {
   "cell_type": "code",
   "execution_count": null,
   "metadata": {
    "collapsed": true
   },
   "outputs": [],
   "source": []
  }
 ],
 "metadata": {
  "kernelspec": {
   "display_name": "Python 3",
   "language": "python",
   "name": "python3"
  },
  "language_info": {
   "codemirror_mode": {
    "name": "ipython",
    "version": 3
   },
   "file_extension": ".py",
   "mimetype": "text/x-python",
   "name": "python",
   "nbconvert_exporter": "python",
   "pygments_lexer": "ipython3",
   "version": "3.6.2"
  }
 },
 "nbformat": 4,
 "nbformat_minor": 2
}
