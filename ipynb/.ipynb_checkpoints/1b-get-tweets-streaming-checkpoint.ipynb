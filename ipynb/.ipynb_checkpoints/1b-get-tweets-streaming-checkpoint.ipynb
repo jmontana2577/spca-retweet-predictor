{
 "cells": [
  {
   "cell_type": "markdown",
   "metadata": {},
   "source": [
    "## Notebook 1b - Get Tweets using Twitter Streaming API\n",
    "The purpose of this notebook is to gather random tweets from across the US and Canada so that I can use them to fit the text encoder."
   ]
  },
  {
   "cell_type": "code",
   "execution_count": null,
   "metadata": {},
   "outputs": [],
   "source": [
    "# !pip install twitter"
   ]
  },
  {
   "cell_type": "code",
   "execution_count": null,
   "metadata": {
    "collapsed": true
   },
   "outputs": [],
   "source": [
    "# !pip install pymongo"
   ]
  },
  {
   "cell_type": "code",
   "execution_count": null,
   "metadata": {
    "collapsed": true
   },
   "outputs": [],
   "source": [
    "CONSUMER_KEY = \n",
    "CONSUMER_SECRET = \n",
    "ACCESS_TOKEN = \n",
    "ACCESS_SECRET = "
   ]
  },
  {
   "cell_type": "code",
   "execution_count": null,
   "metadata": {},
   "outputs": [],
   "source": [
    "from twitter import TwitterStream\n",
    "from twitter import OAuth\n",
    "\n",
    "oauth = OAuth(ACCESS_TOKEN,\n",
    "              ACCESS_SECRET,\n",
    "              CONSUMER_KEY,\n",
    "              CONSUMER_SECRET)\n",
    "\n",
    "# using this box for the eastern half\n",
    "east_bbox = \"-95.05,30.49,-65.0,52.4\""
   ]
  },
  {
   "cell_type": "code",
   "execution_count": null,
   "metadata": {
    "collapsed": true
   },
   "outputs": [],
   "source": [
    "# connect to the API and create iterator with desired location\n",
    "twitter_stream = TwitterStream(auth=oauth)\n",
    "twitterator = (twitter_stream\n",
    "               .statuses\n",
    "               .filter(locations=east_bbox))"
   ]
  },
  {
   "cell_type": "code",
   "execution_count": null,
   "metadata": {
    "collapsed": true
   },
   "outputs": [],
   "source": [
    "# use this function if writing tweets to MongoDB\n",
    "from pymongo import MongoClient\n",
    "def tweets_to_mongo():\n",
    "    client = MongoClient('54.191.107.201', 27016)\n",
    "    db_ref = client.twitter\n",
    "    coll_ref = db_ref.tweets\n",
    "\n",
    "    i = 1\n",
    "    while i < 1001:\n",
    "        coll_ref.insert_one(next(twitterator))\n",
    "        if i % 100 == 0:\n",
    "            print('{} tweets written to database.'.format(coll_ref.count()))\n",
    "        i += 1"
   ]
  },
  {
   "cell_type": "code",
   "execution_count": null,
   "metadata": {},
   "outputs": [],
   "source": [
    "# use this function if pickling tweets\n",
    "import pandas as pd\n",
    "def tweets_to_file(filename):\n",
    "    east_tweets = []\n",
    "    i = 1\n",
    "    while i < 300001:\n",
    "        east_tweets.append(next(twitterator))\n",
    "\n",
    "        # counter showing tweets and the file they'll be written to\n",
    "        print('tweets: {}, file: {}'.format(i,filename), end='\\r')\n",
    "\n",
    "        # write to the pickle file every 1000 tweets\n",
    "        if i % 1000 == 0:\n",
    "            pd.DataFrame(east_tweets).to_pickle(filename)\n",
    "\n",
    "        # change filename every 10,000 tweets and restart the list\n",
    "        if i % 10000 == 0:\n",
    "            \n",
    "            # account for filenames ending in 01 through 08\n",
    "            if int(filename[-4:-2]) < 9:\n",
    "                filename = 'data/east-0{}.p'.format(int(filename[-4:-2])+1)\n",
    "            else:\n",
    "                filename = 'data/east-{}.p'.format(int(filename[-4:-2])+1)\n",
    "            \n",
    "            east_tweets = []\n",
    "        \n",
    "        i += 1"
   ]
  },
  {
   "cell_type": "code",
   "execution_count": null,
   "metadata": {},
   "outputs": [],
   "source": [
    "tweets_to_file('data/east-01.p')"
   ]
  },
  {
   "cell_type": "code",
   "execution_count": null,
   "metadata": {
    "collapsed": true
   },
   "outputs": [],
   "source": []
  }
 ],
 "metadata": {
  "kernelspec": {
   "display_name": "Python 3",
   "language": "python",
   "name": "python3"
  },
  "language_info": {
   "codemirror_mode": {
    "name": "ipython",
    "version": 3
   },
   "file_extension": ".py",
   "mimetype": "text/x-python",
   "name": "python",
   "nbconvert_exporter": "python",
   "pygments_lexer": "ipython3",
   "version": "3.6.2"
  }
 },
 "nbformat": 4,
 "nbformat_minor": 2
}
