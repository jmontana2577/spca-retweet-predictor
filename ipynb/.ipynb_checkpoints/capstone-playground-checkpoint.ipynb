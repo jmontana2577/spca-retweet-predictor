{
 "cells": [
  {
   "cell_type": "code",
   "execution_count": 28,
   "metadata": {},
   "outputs": [
    {
     "name": "stdout",
     "output_type": "stream",
     "text": [
      "/home/jovyan/capstone/GetOldTweets-python\n"
     ]
    }
   ],
   "source": [
    "cd /home/jovyan/capstone/GetOldTweets-python/"
   ]
  },
  {
   "cell_type": "code",
   "execution_count": 29,
   "metadata": {},
   "outputs": [],
   "source": [
    "import pandas as pd\n",
    "import got3 as got\n",
    "from pprint import pprint "
   ]
  },
  {
   "cell_type": "markdown",
   "metadata": {},
   "source": [
    "### Looking at JSON file to see if I can filter out tweets that are replies to other tweets. Also looking for geo and username fields."
   ]
  },
  {
   "cell_type": "markdown",
   "metadata": {},
   "source": [
    "**Update:**  Added functionality to skip replies. Found username field but couldn't find any location information (geo, coordinates, location)."
   ]
  },
  {
   "cell_type": "code",
   "execution_count": 31,
   "metadata": {
    "collapsed": true
   },
   "outputs": [],
   "source": [
    "import urllib.request, urllib.parse, urllib.error, json, re, datetime, sys, http.cookiejar\n",
    "from got3 import models\n",
    "from pyquery import PyQuery"
   ]
  },
  {
   "cell_type": "code",
   "execution_count": 42,
   "metadata": {
    "collapsed": true
   },
   "outputs": [],
   "source": [
    "username = 'pspca'\n",
    "since = '2017-09-03'\n",
    "until = '2017-09-07'\n",
    "\n",
    "# max_tweets = 1"
   ]
  },
  {
   "cell_type": "code",
   "execution_count": 43,
   "metadata": {
    "collapsed": true
   },
   "outputs": [],
   "source": [
    "# this is the beginning of getTweets, including some of the default parameters\n",
    "tweetCriteria = got.manager.TweetCriteria().setUsername(username).setSince(since).setUntil(until)\n",
    "\n",
    "receiveBuffer = None  # parameter passed to getTweets\n",
    "bufferLength=100 # parameter passed to getTweets\n",
    "proxy=None # parameter passed to getTweets\n",
    "refreshCursor = ''\n",
    "results = []\n",
    "resultsAux = []\n",
    "cookieJar = http.cookiejar.CookieJar()"
   ]
  },
  {
   "cell_type": "code",
   "execution_count": 34,
   "metadata": {},
   "outputs": [
    {
     "name": "stdout",
     "output_type": "stream",
     "text": [
      "https://twitter.com/i/search/timeline?f=tweets&q=%20from%3Apspca%20since%3A2017-09-06%20until%3A2017-09-07&src=typd&max_position=\n"
     ]
    }
   ],
   "source": [
    "# this is all the functionality in getJsonResponse which is called inside getTweets\n",
    "url = \"https://twitter.com/i/search/timeline?f=tweets&q=%s&src=typd&%smax_position=%s\"\n",
    "\n",
    "urlGetData = ''\n",
    "if hasattr(tweetCriteria, 'username'):\n",
    "\turlGetData += ' from:' + tweetCriteria.username\n",
    "\t\n",
    "if hasattr(tweetCriteria, 'since'):\n",
    "\turlGetData += ' since:' + tweetCriteria.since\n",
    "\t\n",
    "if hasattr(tweetCriteria, 'until'):\n",
    "\turlGetData += ' until:' + tweetCriteria.until\n",
    "\t\n",
    "if hasattr(tweetCriteria, 'querySearch'):\n",
    "\turlGetData += ' ' + tweetCriteria.querySearch\n",
    "\t\n",
    "if hasattr(tweetCriteria, 'lang'):\n",
    "\turlLang = 'lang=' + tweetCriteria.lang + '&'\n",
    "else:\n",
    "\turlLang = ''\n",
    "url = url % (urllib.parse.quote(urlGetData), urlLang, refreshCursor)\n",
    "print(url)\n",
    "headers = [\n",
    "\t('Host', \"twitter.com\"),\n",
    "\t('User-Agent', \"Mozilla/5.0 (Windows NT 6.1; Win64; x64)\"),\n",
    "\t('Accept', \"application/json, text/javascript, */*; q=0.01\"),\n",
    "\t('Accept-Language', \"de,en-US;q=0.7,en;q=0.3\"),\n",
    "\t('X-Requested-With', \"XMLHttpRequest\"),\n",
    "\t('Referer', url),\n",
    "\t('Connection', \"keep-alive\")\n",
    "]\n",
    "\n",
    "if proxy:\n",
    "\topener = urllib.request.build_opener(urllib.request.ProxyHandler({'http': proxy, 'https': proxy}), urllib.request.HTTPCookieProcessor(cookieJar))\n",
    "else:\n",
    "\topener = urllib.request.build_opener(urllib.request.HTTPCookieProcessor(cookieJar))\n",
    "opener.addheaders = headers\n",
    "\n",
    "response = opener.open(url)\n",
    "jsonResponse = response.read()\n",
    "\n",
    "dataJson = json.loads(jsonResponse.decode())"
   ]
  },
  {
   "cell_type": "code",
   "execution_count": null,
   "metadata": {
    "collapsed": true
   },
   "outputs": [],
   "source": [
    "dataJson['items_html'].keys()"
   ]
  },
  {
   "cell_type": "code",
   "execution_count": null,
   "metadata": {
    "collapsed": true,
    "scrolled": true
   },
   "outputs": [],
   "source": [
    "# pprint(dataJson)"
   ]
  },
  {
   "cell_type": "code",
   "execution_count": null,
   "metadata": {
    "collapsed": true
   },
   "outputs": [],
   "source": [
    "# how to see if tweet is a reply\n",
    "tweetPQ(\"div.tweet\").attr(\"data-is-reply-to\")"
   ]
  },
  {
   "cell_type": "code",
   "execution_count": null,
   "metadata": {
    "collapsed": true
   },
   "outputs": [],
   "source": [
    "# how to get username from tweet\n",
    "tweetPQ(\"div.tweet\").attr(\"data-screen-name\")"
   ]
  },
  {
   "cell_type": "markdown",
   "metadata": {},
   "source": [
    "### Now that I got json file, look at how getTweets gets the attributes"
   ]
  },
  {
   "cell_type": "code",
   "execution_count": null,
   "metadata": {
    "collapsed": true
   },
   "outputs": [],
   "source": [
    "refreshCursor = dataJson['min_position']\n",
    "tweets = PyQuery(dataJson['items_html'])('div.js-stream-tweet')\n",
    "\n",
    "for tweetHTML in tweets:\n",
    "    tweetPQ = PyQuery(tweetHTML)\n",
    "    tweet = models.Tweet()\n",
    "    break"
   ]
  },
  {
   "cell_type": "markdown",
   "metadata": {},
   "source": [
    "### Create data frame to see what gets outputted in a dataframe"
   ]
  },
  {
   "cell_type": "code",
   "execution_count": 44,
   "metadata": {
    "collapsed": true
   },
   "outputs": [
    {
     "data": {
      "text/html": [
       "<div>\n",
       "<table border=\"1\" class=\"dataframe\">\n",
       "  <thead>\n",
       "    <tr style=\"text-align: right;\">\n",
       "      <th></th>\n",
       "      <th>author_id</th>\n",
       "      <th>date</th>\n",
       "      <th>favorites</th>\n",
       "      <th>geo</th>\n",
       "      <th>hashtags</th>\n",
       "      <th>id</th>\n",
       "      <th>mentions</th>\n",
       "      <th>permalink</th>\n",
       "      <th>retweets</th>\n",
       "      <th>text</th>\n",
       "      <th>urls</th>\n",
       "      <th>username</th>\n",
       "    </tr>\n",
       "  </thead>\n",
       "  <tbody>\n",
       "    <tr>\n",
       "      <th>0</th>\n",
       "      <td>23483274</td>\n",
       "      <td>2017-09-06 14:15:24</td>\n",
       "      <td>10</td>\n",
       "      <td></td>\n",
       "      <td></td>\n",
       "      <td>905434261041373184</td>\n",
       "      <td></td>\n",
       "      <td>https://twitter.com/PSPCA/status/9054342610413...</td>\n",
       "      <td>6</td>\n",
       "      <td>5 years is a long time to wait to go home. Pur...</td>\n",
       "      <td>http://ow.ly/JpvE30eW58l</td>\n",
       "      <td>PSPCA</td>\n",
       "    </tr>\n",
       "    <tr>\n",
       "      <th>1</th>\n",
       "      <td>23483274</td>\n",
       "      <td>2017-09-05 23:15:13</td>\n",
       "      <td>10</td>\n",
       "      <td></td>\n",
       "      <td>#150for150</td>\n",
       "      <td>905207721447886848</td>\n",
       "      <td></td>\n",
       "      <td>https://twitter.com/PSPCA/status/9052077214478...</td>\n",
       "      <td>4</td>\n",
       "      <td>\"I adopted Coco in January '13. I had been wat...</td>\n",
       "      <td>http://ow.ly/ZF5q30eW2Wk</td>\n",
       "      <td>PSPCA</td>\n",
       "    </tr>\n",
       "    <tr>\n",
       "      <th>2</th>\n",
       "      <td>23483274</td>\n",
       "      <td>2017-09-05 14:12:37</td>\n",
       "      <td>1</td>\n",
       "      <td></td>\n",
       "      <td>#PetProject</td>\n",
       "      <td>905071170982219777</td>\n",
       "      <td>@CarolNewsbreak @CBSPhilly</td>\n",
       "      <td>https://twitter.com/PSPCA/status/9050711709822...</td>\n",
       "      <td>1</td>\n",
       "      <td>Have you wondered how your dog gets along w/ c...</td>\n",
       "      <td>http://ow.ly/UhfR30eVgje</td>\n",
       "      <td>PSPCA</td>\n",
       "    </tr>\n",
       "    <tr>\n",
       "      <th>3</th>\n",
       "      <td>23483274</td>\n",
       "      <td>2017-09-04 22:15:10</td>\n",
       "      <td>9</td>\n",
       "      <td></td>\n",
       "      <td>#150for150</td>\n",
       "      <td>904830223241359361</td>\n",
       "      <td></td>\n",
       "      <td>https://twitter.com/PSPCA/status/9048302232413...</td>\n",
       "      <td>1</td>\n",
       "      <td>\"Despite assurances he was going to live forev...</td>\n",
       "      <td>http://ow.ly/jN6G30eQTyK</td>\n",
       "      <td>PSPCA</td>\n",
       "    </tr>\n",
       "    <tr>\n",
       "      <th>4</th>\n",
       "      <td>23483274</td>\n",
       "      <td>2017-09-04 16:35:11</td>\n",
       "      <td>4</td>\n",
       "      <td></td>\n",
       "      <td></td>\n",
       "      <td>904744662191276039</td>\n",
       "      <td>@Petfinder_fnd @buildabear</td>\n",
       "      <td>https://twitter.com/PSPCA/status/9047446621912...</td>\n",
       "      <td>2</td>\n",
       "      <td>Thanks you to the @Petfinder_fnd on behalf of ...</td>\n",
       "      <td></td>\n",
       "      <td>PSPCA</td>\n",
       "    </tr>\n",
       "    <tr>\n",
       "      <th>5</th>\n",
       "      <td>23483274</td>\n",
       "      <td>2017-09-04 14:05:20</td>\n",
       "      <td>12</td>\n",
       "      <td></td>\n",
       "      <td>#Fishtown #Danville</td>\n",
       "      <td>904706951396941825</td>\n",
       "      <td></td>\n",
       "      <td>https://twitter.com/PSPCA/status/9047069513969...</td>\n",
       "      <td>5</td>\n",
       "      <td>Happy Labor Day! Our Erie Avenue headquarters ...</td>\n",
       "      <td></td>\n",
       "      <td>PSPCA</td>\n",
       "    </tr>\n",
       "    <tr>\n",
       "      <th>6</th>\n",
       "      <td>23483274</td>\n",
       "      <td>2017-09-03 22:20:07</td>\n",
       "      <td>7</td>\n",
       "      <td></td>\n",
       "      <td>#150for150</td>\n",
       "      <td>904469080622686208</td>\n",
       "      <td></td>\n",
       "      <td>https://twitter.com/PSPCA/status/9044690806226...</td>\n",
       "      <td>3</td>\n",
       "      <td>\"The PSPCA rescued Mazzy from an abandoned hou...</td>\n",
       "      <td>http://ow.ly/qxUp30eQRZ7</td>\n",
       "      <td>PSPCA</td>\n",
       "    </tr>\n",
       "    <tr>\n",
       "      <th>7</th>\n",
       "      <td>23483274</td>\n",
       "      <td>2017-09-03 14:15:14</td>\n",
       "      <td>32</td>\n",
       "      <td></td>\n",
       "      <td>#pittie #furever</td>\n",
       "      <td>904347053928665088</td>\n",
       "      <td></td>\n",
       "      <td>https://twitter.com/PSPCA/status/9043470539286...</td>\n",
       "      <td>26</td>\n",
       "      <td>Special Pet Sunday! Meet Bruce, an adorable 3-...</td>\n",
       "      <td>http://ow.ly/hts530eQPEH</td>\n",
       "      <td>PSPCA</td>\n",
       "    </tr>\n",
       "    <tr>\n",
       "      <th>8</th>\n",
       "      <td>23483274</td>\n",
       "      <td>2017-09-03 11:35:05</td>\n",
       "      <td>5</td>\n",
       "      <td></td>\n",
       "      <td>#petproject</td>\n",
       "      <td>904306751016755202</td>\n",
       "      <td>@CBSPhilly @CarolNewsbreak @JanCarabeoCBS3</td>\n",
       "      <td>https://twitter.com/PSPCA/status/9043067510167...</td>\n",
       "      <td>1</td>\n",
       "      <td>It's our favorite time of the week. Tune into ...</td>\n",
       "      <td></td>\n",
       "      <td>PSPCA</td>\n",
       "    </tr>\n",
       "  </tbody>\n",
       "</table>\n",
       "</div>"
      ],
      "text/plain": [
       "   author_id                date  favorites geo             hashtags  \\\n",
       "0   23483274 2017-09-06 14:15:24         10                            \n",
       "1   23483274 2017-09-05 23:15:13         10               #150for150   \n",
       "2   23483274 2017-09-05 14:12:37          1              #PetProject   \n",
       "3   23483274 2017-09-04 22:15:10          9               #150for150   \n",
       "4   23483274 2017-09-04 16:35:11          4                            \n",
       "5   23483274 2017-09-04 14:05:20         12      #Fishtown #Danville   \n",
       "6   23483274 2017-09-03 22:20:07          7               #150for150   \n",
       "7   23483274 2017-09-03 14:15:14         32         #pittie #furever   \n",
       "8   23483274 2017-09-03 11:35:05          5              #petproject   \n",
       "\n",
       "                   id                                    mentions  \\\n",
       "0  905434261041373184                                               \n",
       "1  905207721447886848                                               \n",
       "2  905071170982219777                  @CarolNewsbreak @CBSPhilly   \n",
       "3  904830223241359361                                               \n",
       "4  904744662191276039                  @Petfinder_fnd @buildabear   \n",
       "5  904706951396941825                                               \n",
       "6  904469080622686208                                               \n",
       "7  904347053928665088                                               \n",
       "8  904306751016755202  @CBSPhilly @CarolNewsbreak @JanCarabeoCBS3   \n",
       "\n",
       "                                           permalink  retweets  \\\n",
       "0  https://twitter.com/PSPCA/status/9054342610413...         6   \n",
       "1  https://twitter.com/PSPCA/status/9052077214478...         4   \n",
       "2  https://twitter.com/PSPCA/status/9050711709822...         1   \n",
       "3  https://twitter.com/PSPCA/status/9048302232413...         1   \n",
       "4  https://twitter.com/PSPCA/status/9047446621912...         2   \n",
       "5  https://twitter.com/PSPCA/status/9047069513969...         5   \n",
       "6  https://twitter.com/PSPCA/status/9044690806226...         3   \n",
       "7  https://twitter.com/PSPCA/status/9043470539286...        26   \n",
       "8  https://twitter.com/PSPCA/status/9043067510167...         1   \n",
       "\n",
       "                                                text  \\\n",
       "0  5 years is a long time to wait to go home. Pur...   \n",
       "1  \"I adopted Coco in January '13. I had been wat...   \n",
       "2  Have you wondered how your dog gets along w/ c...   \n",
       "3  \"Despite assurances he was going to live forev...   \n",
       "4  Thanks you to the @Petfinder_fnd on behalf of ...   \n",
       "5  Happy Labor Day! Our Erie Avenue headquarters ...   \n",
       "6  \"The PSPCA rescued Mazzy from an abandoned hou...   \n",
       "7  Special Pet Sunday! Meet Bruce, an adorable 3-...   \n",
       "8  It's our favorite time of the week. Tune into ...   \n",
       "\n",
       "                       urls username  \n",
       "0  http://ow.ly/JpvE30eW58l    PSPCA  \n",
       "1  http://ow.ly/ZF5q30eW2Wk    PSPCA  \n",
       "2  http://ow.ly/UhfR30eVgje    PSPCA  \n",
       "3  http://ow.ly/jN6G30eQTyK    PSPCA  \n",
       "4                              PSPCA  \n",
       "5                              PSPCA  \n",
       "6  http://ow.ly/qxUp30eQRZ7    PSPCA  \n",
       "7  http://ow.ly/hts530eQPEH    PSPCA  \n",
       "8                              PSPCA  "
      ]
     },
     "execution_count": 44,
     "metadata": {},
     "output_type": "execute_result"
    }
   ],
   "source": [
    "tweet_list = got.manager.TweetManager.getTweets(tweetCriteria)\n",
    "\n",
    "from collections import defaultdict\n",
    "d = defaultdict(list)\n",
    "attributes = ['date', 'favorites', 'retweets', 'hashtags', 'geo', 'id',\n",
    "                  'mentions', 'text', 'urls', 'username', 'permalink', 'author_id']\n",
    "for tweet in tweet_list:\n",
    "    for att in attributes:\n",
    "        d[att].append(eval(\"tweet.\" + att))\n",
    "\n",
    "df = pd.DataFrame(d)\n",
    "df"
   ]
  },
  {
   "cell_type": "code",
   "execution_count": 37,
   "metadata": {
    "collapsed": true
   },
   "outputs": [],
   "source": [
    "# this adjusts the hour for time zone difference since API gives it in UTC\n",
    "def adjust_hour(hour, offset):\n",
    "    if hour >= offset:\n",
    "        hour -= offset\n",
    "    else:\n",
    "        hour += 24 - offset\n",
    "    return hour"
   ]
  },
  {
   "cell_type": "code",
   "execution_count": 38,
   "metadata": {
    "collapsed": true
   },
   "outputs": [],
   "source": [
    "# splits the datetime column into separate features\n",
    "def add_date_features(df, offset=0):\n",
    "    df['year'] = df.date.apply(lambda x: x.year)\n",
    "    df['month'] = df.date.apply(lambda x: x.month)\n",
    "    df['weekday'] = df.date.apply(lambda x: x.weekday())\n",
    "    hours = df.date.apply(lambda x: x.hour)\n",
    "    df['local_hour'] = hours.apply(adjust_hour, args=(offset,))\n",
    "    \n",
    "    return df"
   ]
  },
  {
   "cell_type": "code",
   "execution_count": 41,
   "metadata": {},
   "outputs": [
    {
     "data": {
      "text/html": [
       "<div>\n",
       "<table border=\"1\" class=\"dataframe\">\n",
       "  <thead>\n",
       "    <tr style=\"text-align: right;\">\n",
       "      <th></th>\n",
       "      <th>author_id</th>\n",
       "      <th>date</th>\n",
       "      <th>favorites</th>\n",
       "      <th>geo</th>\n",
       "      <th>hashtags</th>\n",
       "      <th>id</th>\n",
       "      <th>mentions</th>\n",
       "      <th>permalink</th>\n",
       "      <th>retweets</th>\n",
       "      <th>text</th>\n",
       "      <th>urls</th>\n",
       "      <th>username</th>\n",
       "      <th>year</th>\n",
       "      <th>month</th>\n",
       "      <th>weekday</th>\n",
       "      <th>local_hour</th>\n",
       "    </tr>\n",
       "  </thead>\n",
       "  <tbody>\n",
       "    <tr>\n",
       "      <th>0</th>\n",
       "      <td>23483274</td>\n",
       "      <td>2017-09-06 14:15:24</td>\n",
       "      <td>10</td>\n",
       "      <td></td>\n",
       "      <td></td>\n",
       "      <td>905434261041373184</td>\n",
       "      <td></td>\n",
       "      <td>https://twitter.com/PSPCA/status/9054342610413...</td>\n",
       "      <td>6</td>\n",
       "      <td>5 years is a long time to wait to go home. Pur...</td>\n",
       "      <td>http://ow.ly/JpvE30eW58l</td>\n",
       "      <td>PSPCA</td>\n",
       "      <td>2017</td>\n",
       "      <td>9</td>\n",
       "      <td>2</td>\n",
       "      <td>10</td>\n",
       "    </tr>\n",
       "  </tbody>\n",
       "</table>\n",
       "</div>"
      ],
      "text/plain": [
       "   author_id                date  favorites geo hashtags                  id  \\\n",
       "0   23483274 2017-09-06 14:15:24         10               905434261041373184   \n",
       "\n",
       "  mentions                                          permalink  retweets  \\\n",
       "0           https://twitter.com/PSPCA/status/9054342610413...         6   \n",
       "\n",
       "                                                text  \\\n",
       "0  5 years is a long time to wait to go home. Pur...   \n",
       "\n",
       "                       urls username  year  month  weekday  local_hour  \n",
       "0  http://ow.ly/JpvE30eW58l    PSPCA  2017      9        2          10  "
      ]
     },
     "execution_count": 41,
     "metadata": {},
     "output_type": "execute_result"
    }
   ],
   "source": [
    "df = add_date_features(df, offset=4)\n",
    "df"
   ]
  },
  {
   "cell_type": "code",
   "execution_count": 45,
   "metadata": {
    "collapsed": true
   },
   "outputs": [],
   "source": [
    "df = pd.read_pickle('../data/all_tweets.p')"
   ]
  },
  {
   "cell_type": "code",
   "execution_count": 50,
   "metadata": {},
   "outputs": [
    {
     "data": {
      "text/html": [
       "<div>\n",
       "<table border=\"1\" class=\"dataframe\">\n",
       "  <thead>\n",
       "    <tr style=\"text-align: right;\">\n",
       "      <th></th>\n",
       "      <th>date</th>\n",
       "      <th>username</th>\n",
       "      <th>local_hour</th>\n",
       "      <th>year</th>\n",
       "    </tr>\n",
       "  </thead>\n",
       "  <tbody>\n",
       "    <tr>\n",
       "      <th>7263</th>\n",
       "      <td>2017-04-09 04:15:06</td>\n",
       "      <td>PSPCA</td>\n",
       "      <td>0</td>\n",
       "      <td>2017</td>\n",
       "    </tr>\n",
       "    <tr>\n",
       "      <th>70599</th>\n",
       "      <td>2017-06-12 07:05:17</td>\n",
       "      <td>FMSPCA</td>\n",
       "      <td>1</td>\n",
       "      <td>2017</td>\n",
       "    </tr>\n",
       "    <tr>\n",
       "      <th>91182</th>\n",
       "      <td>2017-01-30 07:08:01</td>\n",
       "      <td>BC_SPCA</td>\n",
       "      <td>0</td>\n",
       "      <td>2017</td>\n",
       "    </tr>\n",
       "    <tr>\n",
       "      <th>91205</th>\n",
       "      <td>2017-01-26 07:01:04</td>\n",
       "      <td>BC_SPCA</td>\n",
       "      <td>0</td>\n",
       "      <td>2017</td>\n",
       "    </tr>\n",
       "    <tr>\n",
       "      <th>91231</th>\n",
       "      <td>2017-01-22 07:36:01</td>\n",
       "      <td>BC_SPCA</td>\n",
       "      <td>0</td>\n",
       "      <td>2017</td>\n",
       "    </tr>\n",
       "    <tr>\n",
       "      <th>91265</th>\n",
       "      <td>2017-01-16 07:37:01</td>\n",
       "      <td>BC_SPCA</td>\n",
       "      <td>0</td>\n",
       "      <td>2017</td>\n",
       "    </tr>\n",
       "    <tr>\n",
       "      <th>91311</th>\n",
       "      <td>2017-01-08 07:23:01</td>\n",
       "      <td>BC_SPCA</td>\n",
       "      <td>0</td>\n",
       "      <td>2017</td>\n",
       "    </tr>\n",
       "    <tr>\n",
       "      <th>91344</th>\n",
       "      <td>2017-01-02 07:01:01</td>\n",
       "      <td>BC_SPCA</td>\n",
       "      <td>0</td>\n",
       "      <td>2017</td>\n",
       "    </tr>\n",
       "    <tr>\n",
       "      <th>91349</th>\n",
       "      <td>2017-01-01 07:07:00</td>\n",
       "      <td>BC_SPCA</td>\n",
       "      <td>0</td>\n",
       "      <td>2017</td>\n",
       "    </tr>\n",
       "    <tr>\n",
       "      <th>91367</th>\n",
       "      <td>2017-02-26 07:23:01</td>\n",
       "      <td>BC_SPCA</td>\n",
       "      <td>0</td>\n",
       "      <td>2017</td>\n",
       "    </tr>\n",
       "    <tr>\n",
       "      <th>91403</th>\n",
       "      <td>2017-02-20 07:01:02</td>\n",
       "      <td>BC_SPCA</td>\n",
       "      <td>0</td>\n",
       "      <td>2017</td>\n",
       "    </tr>\n",
       "    <tr>\n",
       "      <th>91408</th>\n",
       "      <td>2017-02-19 07:16:01</td>\n",
       "      <td>BC_SPCA</td>\n",
       "      <td>0</td>\n",
       "      <td>2017</td>\n",
       "    </tr>\n",
       "    <tr>\n",
       "      <th>91447</th>\n",
       "      <td>2017-02-13 07:22:02</td>\n",
       "      <td>BC_SPCA</td>\n",
       "      <td>0</td>\n",
       "      <td>2017</td>\n",
       "    </tr>\n",
       "    <tr>\n",
       "      <th>91452</th>\n",
       "      <td>2017-02-12 07:17:01</td>\n",
       "      <td>BC_SPCA</td>\n",
       "      <td>0</td>\n",
       "      <td>2017</td>\n",
       "    </tr>\n",
       "    <tr>\n",
       "      <th>91512</th>\n",
       "      <td>2017-02-02 07:15:01</td>\n",
       "      <td>BC_SPCA</td>\n",
       "      <td>0</td>\n",
       "      <td>2017</td>\n",
       "    </tr>\n",
       "    <tr>\n",
       "      <th>91647</th>\n",
       "      <td>2017-03-12 07:03:01</td>\n",
       "      <td>BC_SPCA</td>\n",
       "      <td>0</td>\n",
       "      <td>2017</td>\n",
       "    </tr>\n",
       "    <tr>\n",
       "      <th>91652</th>\n",
       "      <td>2017-03-11 07:13:01</td>\n",
       "      <td>BC_SPCA</td>\n",
       "      <td>0</td>\n",
       "      <td>2017</td>\n",
       "    </tr>\n",
       "    <tr>\n",
       "      <th>91683</th>\n",
       "      <td>2017-03-06 07:19:01</td>\n",
       "      <td>BC_SPCA</td>\n",
       "      <td>0</td>\n",
       "      <td>2017</td>\n",
       "    </tr>\n",
       "    <tr>\n",
       "      <th>91688</th>\n",
       "      <td>2017-03-05 07:24:01</td>\n",
       "      <td>BC_SPCA</td>\n",
       "      <td>0</td>\n",
       "      <td>2017</td>\n",
       "    </tr>\n",
       "    <tr>\n",
       "      <th>91699</th>\n",
       "      <td>2017-03-03 07:00:01</td>\n",
       "      <td>BC_SPCA</td>\n",
       "      <td>0</td>\n",
       "      <td>2017</td>\n",
       "    </tr>\n",
       "    <tr>\n",
       "      <th>92393</th>\n",
       "      <td>2017-08-27 07:11:01</td>\n",
       "      <td>BC_SPCA</td>\n",
       "      <td>0</td>\n",
       "      <td>2017</td>\n",
       "    </tr>\n",
       "    <tr>\n",
       "      <th>92397</th>\n",
       "      <td>2017-08-26 07:05:02</td>\n",
       "      <td>BC_SPCA</td>\n",
       "      <td>0</td>\n",
       "      <td>2017</td>\n",
       "    </tr>\n",
       "  </tbody>\n",
       "</table>\n",
       "</div>"
      ],
      "text/plain": [
       "                     date username  local_hour  year\n",
       "7263  2017-04-09 04:15:06    PSPCA           0  2017\n",
       "70599 2017-06-12 07:05:17   FMSPCA           1  2017\n",
       "91182 2017-01-30 07:08:01  BC_SPCA           0  2017\n",
       "91205 2017-01-26 07:01:04  BC_SPCA           0  2017\n",
       "91231 2017-01-22 07:36:01  BC_SPCA           0  2017\n",
       "91265 2017-01-16 07:37:01  BC_SPCA           0  2017\n",
       "91311 2017-01-08 07:23:01  BC_SPCA           0  2017\n",
       "91344 2017-01-02 07:01:01  BC_SPCA           0  2017\n",
       "91349 2017-01-01 07:07:00  BC_SPCA           0  2017\n",
       "91367 2017-02-26 07:23:01  BC_SPCA           0  2017\n",
       "91403 2017-02-20 07:01:02  BC_SPCA           0  2017\n",
       "91408 2017-02-19 07:16:01  BC_SPCA           0  2017\n",
       "91447 2017-02-13 07:22:02  BC_SPCA           0  2017\n",
       "91452 2017-02-12 07:17:01  BC_SPCA           0  2017\n",
       "91512 2017-02-02 07:15:01  BC_SPCA           0  2017\n",
       "91647 2017-03-12 07:03:01  BC_SPCA           0  2017\n",
       "91652 2017-03-11 07:13:01  BC_SPCA           0  2017\n",
       "91683 2017-03-06 07:19:01  BC_SPCA           0  2017\n",
       "91688 2017-03-05 07:24:01  BC_SPCA           0  2017\n",
       "91699 2017-03-03 07:00:01  BC_SPCA           0  2017\n",
       "92393 2017-08-27 07:11:01  BC_SPCA           0  2017\n",
       "92397 2017-08-26 07:05:02  BC_SPCA           0  2017"
      ]
     },
     "execution_count": 50,
     "metadata": {},
     "output_type": "execute_result"
    }
   ],
   "source": [
    "df.loc[(df['local_hour'] < 5) & (df['year'] == 2017)][['date', 'username', 'local_hour', 'year']]"
   ]
  },
  {
   "cell_type": "code",
   "execution_count": 54,
   "metadata": {},
   "outputs": [
    {
     "data": {
      "text/html": [
       "<div>\n",
       "<table border=\"1\" class=\"dataframe\">\n",
       "  <thead>\n",
       "    <tr style=\"text-align: right;\">\n",
       "      <th></th>\n",
       "      <th>author_id</th>\n",
       "      <th>date</th>\n",
       "      <th>favorites</th>\n",
       "      <th>hashtags</th>\n",
       "      <th>id</th>\n",
       "      <th>mentions</th>\n",
       "      <th>permalink</th>\n",
       "      <th>retweets</th>\n",
       "      <th>text</th>\n",
       "      <th>urls</th>\n",
       "      <th>username</th>\n",
       "      <th>year</th>\n",
       "      <th>month</th>\n",
       "      <th>weekday</th>\n",
       "      <th>local_hour</th>\n",
       "      <th>country</th>\n",
       "    </tr>\n",
       "  </thead>\n",
       "  <tbody>\n",
       "    <tr>\n",
       "      <th>10739</th>\n",
       "      <td>16630213</td>\n",
       "      <td>2008-10-07 15:24:26</td>\n",
       "      <td>0</td>\n",
       "      <td></td>\n",
       "      <td>949757786</td>\n",
       "      <td></td>\n",
       "      <td>https://twitter.com/spcaoftexas/status/949757786</td>\n",
       "      <td>0</td>\n",
       "      <td>Big Dog Special! Only fifty dollars to adopt a...</td>\n",
       "      <td></td>\n",
       "      <td>spcaoftexas</td>\n",
       "      <td>2008</td>\n",
       "      <td>10</td>\n",
       "      <td>1</td>\n",
       "      <td>10</td>\n",
       "      <td>usa</td>\n",
       "    </tr>\n",
       "    <tr>\n",
       "      <th>10740</th>\n",
       "      <td>16630213</td>\n",
       "      <td>2008-12-23 20:09:13</td>\n",
       "      <td>0</td>\n",
       "      <td>#jollyrancher</td>\n",
       "      <td>1074937042</td>\n",
       "      <td></td>\n",
       "      <td>https://twitter.com/spcaoftexas/status/1074937042</td>\n",
       "      <td>0</td>\n",
       "      <td>Have you met Jolly Rancher? http://tinyurl.com...</td>\n",
       "      <td></td>\n",
       "      <td>spcaoftexas</td>\n",
       "      <td>2008</td>\n",
       "      <td>12</td>\n",
       "      <td>1</td>\n",
       "      <td>15</td>\n",
       "      <td>usa</td>\n",
       "    </tr>\n",
       "    <tr>\n",
       "      <th>10741</th>\n",
       "      <td>16630213</td>\n",
       "      <td>2008-12-22 21:18:29</td>\n",
       "      <td>0</td>\n",
       "      <td></td>\n",
       "      <td>1073029217</td>\n",
       "      <td></td>\n",
       "      <td>https://twitter.com/spcaoftexas/status/1073029217</td>\n",
       "      <td>0</td>\n",
       "      <td>Looking for Last Minute Gifts? Check out www.s...</td>\n",
       "      <td></td>\n",
       "      <td>spcaoftexas</td>\n",
       "      <td>2008</td>\n",
       "      <td>12</td>\n",
       "      <td>0</td>\n",
       "      <td>16</td>\n",
       "      <td>usa</td>\n",
       "    </tr>\n",
       "    <tr>\n",
       "      <th>10742</th>\n",
       "      <td>16630213</td>\n",
       "      <td>2008-12-21 20:43:24</td>\n",
       "      <td>0</td>\n",
       "      <td>#cupcake</td>\n",
       "      <td>1071042131</td>\n",
       "      <td></td>\n",
       "      <td>https://twitter.com/spcaoftexas/status/1071042131</td>\n",
       "      <td>0</td>\n",
       "      <td>Have You Met Cupcake??? http://tinyurl.com/9s5...</td>\n",
       "      <td></td>\n",
       "      <td>spcaoftexas</td>\n",
       "      <td>2008</td>\n",
       "      <td>12</td>\n",
       "      <td>6</td>\n",
       "      <td>15</td>\n",
       "      <td>usa</td>\n",
       "    </tr>\n",
       "    <tr>\n",
       "      <th>10743</th>\n",
       "      <td>16630213</td>\n",
       "      <td>2008-12-18 15:45:04</td>\n",
       "      <td>0</td>\n",
       "      <td></td>\n",
       "      <td>1065108068</td>\n",
       "      <td></td>\n",
       "      <td>https://twitter.com/spcaoftexas/status/1065108068</td>\n",
       "      <td>0</td>\n",
       "      <td>Help bring them Home for the Holidays: http://...</td>\n",
       "      <td></td>\n",
       "      <td>spcaoftexas</td>\n",
       "      <td>2008</td>\n",
       "      <td>12</td>\n",
       "      <td>3</td>\n",
       "      <td>10</td>\n",
       "      <td>usa</td>\n",
       "    </tr>\n",
       "    <tr>\n",
       "      <th>10744</th>\n",
       "      <td>16630213</td>\n",
       "      <td>2008-12-17 15:18:03</td>\n",
       "      <td>0</td>\n",
       "      <td></td>\n",
       "      <td>1062904509</td>\n",
       "      <td></td>\n",
       "      <td>https://twitter.com/spcaoftexas/status/1062904509</td>\n",
       "      <td>0</td>\n",
       "      <td>A Holiday Message from James Bias, SPCA of Tex...</td>\n",
       "      <td></td>\n",
       "      <td>spcaoftexas</td>\n",
       "      <td>2008</td>\n",
       "      <td>12</td>\n",
       "      <td>2</td>\n",
       "      <td>10</td>\n",
       "      <td>usa</td>\n",
       "    </tr>\n",
       "    <tr>\n",
       "      <th>10745</th>\n",
       "      <td>16630213</td>\n",
       "      <td>2008-12-16 14:40:32</td>\n",
       "      <td>0</td>\n",
       "      <td></td>\n",
       "      <td>1060683829</td>\n",
       "      <td></td>\n",
       "      <td>https://twitter.com/spcaoftexas/status/1060683829</td>\n",
       "      <td>0</td>\n",
       "      <td>Keep your pets comfy and warm in this cold win...</td>\n",
       "      <td></td>\n",
       "      <td>spcaoftexas</td>\n",
       "      <td>2008</td>\n",
       "      <td>12</td>\n",
       "      <td>1</td>\n",
       "      <td>9</td>\n",
       "      <td>usa</td>\n",
       "    </tr>\n",
       "    <tr>\n",
       "      <th>10746</th>\n",
       "      <td>16630213</td>\n",
       "      <td>2008-12-15 23:11:07</td>\n",
       "      <td>0</td>\n",
       "      <td></td>\n",
       "      <td>1059503636</td>\n",
       "      <td></td>\n",
       "      <td>https://twitter.com/spcaoftexas/status/1059503636</td>\n",
       "      <td>0</td>\n",
       "      <td>Marley and Me Photo Contest is Over. Visit htt...</td>\n",
       "      <td></td>\n",
       "      <td>spcaoftexas</td>\n",
       "      <td>2008</td>\n",
       "      <td>12</td>\n",
       "      <td>0</td>\n",
       "      <td>18</td>\n",
       "      <td>usa</td>\n",
       "    </tr>\n",
       "    <tr>\n",
       "      <th>10747</th>\n",
       "      <td>16630213</td>\n",
       "      <td>2008-12-15 20:09:30</td>\n",
       "      <td>0</td>\n",
       "      <td></td>\n",
       "      <td>1059177914</td>\n",
       "      <td></td>\n",
       "      <td>https://twitter.com/spcaoftexas/status/1059177914</td>\n",
       "      <td>0</td>\n",
       "      <td>Don't Forget!! Today is the last day to submit...</td>\n",
       "      <td></td>\n",
       "      <td>spcaoftexas</td>\n",
       "      <td>2008</td>\n",
       "      <td>12</td>\n",
       "      <td>0</td>\n",
       "      <td>15</td>\n",
       "      <td>usa</td>\n",
       "    </tr>\n",
       "    <tr>\n",
       "      <th>10748</th>\n",
       "      <td>16630213</td>\n",
       "      <td>2008-12-10 14:45:26</td>\n",
       "      <td>0</td>\n",
       "      <td></td>\n",
       "      <td>1049225894</td>\n",
       "      <td>@730</td>\n",
       "      <td>https://twitter.com/spcaoftexas/status/1049225894</td>\n",
       "      <td>0</td>\n",
       "      <td>Get free advance screening passes to Marley &amp; ...</td>\n",
       "      <td></td>\n",
       "      <td>spcaoftexas</td>\n",
       "      <td>2008</td>\n",
       "      <td>12</td>\n",
       "      <td>2</td>\n",
       "      <td>9</td>\n",
       "      <td>usa</td>\n",
       "    </tr>\n",
       "    <tr>\n",
       "      <th>10749</th>\n",
       "      <td>16630213</td>\n",
       "      <td>2008-12-10 02:40:56</td>\n",
       "      <td>0</td>\n",
       "      <td></td>\n",
       "      <td>1048387391</td>\n",
       "      <td></td>\n",
       "      <td>https://twitter.com/spcaoftexas/status/1048387391</td>\n",
       "      <td>0</td>\n",
       "      <td>Marley &amp; Me Photo Contest: http://www.spca.org...</td>\n",
       "      <td></td>\n",
       "      <td>spcaoftexas</td>\n",
       "      <td>2008</td>\n",
       "      <td>12</td>\n",
       "      <td>2</td>\n",
       "      <td>21</td>\n",
       "      <td>usa</td>\n",
       "    </tr>\n",
       "    <tr>\n",
       "      <th>10754</th>\n",
       "      <td>16630213</td>\n",
       "      <td>2008-12-31 16:56:33</td>\n",
       "      <td>0</td>\n",
       "      <td>#jade</td>\n",
       "      <td>1088314338</td>\n",
       "      <td></td>\n",
       "      <td>https://twitter.com/spcaoftexas/status/1088314338</td>\n",
       "      <td>0</td>\n",
       "      <td>Meet Jade - she's waiting for you: http://tiny...</td>\n",
       "      <td></td>\n",
       "      <td>spcaoftexas</td>\n",
       "      <td>2008</td>\n",
       "      <td>12</td>\n",
       "      <td>2</td>\n",
       "      <td>11</td>\n",
       "      <td>usa</td>\n",
       "    </tr>\n",
       "    <tr>\n",
       "      <th>10755</th>\n",
       "      <td>16630213</td>\n",
       "      <td>2008-12-31 13:41:01</td>\n",
       "      <td>0</td>\n",
       "      <td></td>\n",
       "      <td>1087948782</td>\n",
       "      <td></td>\n",
       "      <td>https://twitter.com/spcaoftexas/status/1087948782</td>\n",
       "      <td>0</td>\n",
       "      <td>Happy New Year from all of us at the SPCA of T...</td>\n",
       "      <td></td>\n",
       "      <td>spcaoftexas</td>\n",
       "      <td>2008</td>\n",
       "      <td>12</td>\n",
       "      <td>2</td>\n",
       "      <td>8</td>\n",
       "      <td>usa</td>\n",
       "    </tr>\n",
       "  </tbody>\n",
       "</table>\n",
       "</div>"
      ],
      "text/plain": [
       "       author_id                date  favorites       hashtags          id  \\\n",
       "10739   16630213 2008-10-07 15:24:26          0                  949757786   \n",
       "10740   16630213 2008-12-23 20:09:13          0  #jollyrancher  1074937042   \n",
       "10741   16630213 2008-12-22 21:18:29          0                 1073029217   \n",
       "10742   16630213 2008-12-21 20:43:24          0       #cupcake  1071042131   \n",
       "10743   16630213 2008-12-18 15:45:04          0                 1065108068   \n",
       "10744   16630213 2008-12-17 15:18:03          0                 1062904509   \n",
       "10745   16630213 2008-12-16 14:40:32          0                 1060683829   \n",
       "10746   16630213 2008-12-15 23:11:07          0                 1059503636   \n",
       "10747   16630213 2008-12-15 20:09:30          0                 1059177914   \n",
       "10748   16630213 2008-12-10 14:45:26          0                 1049225894   \n",
       "10749   16630213 2008-12-10 02:40:56          0                 1048387391   \n",
       "10754   16630213 2008-12-31 16:56:33          0          #jade  1088314338   \n",
       "10755   16630213 2008-12-31 13:41:01          0                 1087948782   \n",
       "\n",
       "      mentions                                          permalink  retweets  \\\n",
       "10739            https://twitter.com/spcaoftexas/status/949757786         0   \n",
       "10740           https://twitter.com/spcaoftexas/status/1074937042         0   \n",
       "10741           https://twitter.com/spcaoftexas/status/1073029217         0   \n",
       "10742           https://twitter.com/spcaoftexas/status/1071042131         0   \n",
       "10743           https://twitter.com/spcaoftexas/status/1065108068         0   \n",
       "10744           https://twitter.com/spcaoftexas/status/1062904509         0   \n",
       "10745           https://twitter.com/spcaoftexas/status/1060683829         0   \n",
       "10746           https://twitter.com/spcaoftexas/status/1059503636         0   \n",
       "10747           https://twitter.com/spcaoftexas/status/1059177914         0   \n",
       "10748     @730  https://twitter.com/spcaoftexas/status/1049225894         0   \n",
       "10749           https://twitter.com/spcaoftexas/status/1048387391         0   \n",
       "10754           https://twitter.com/spcaoftexas/status/1088314338         0   \n",
       "10755           https://twitter.com/spcaoftexas/status/1087948782         0   \n",
       "\n",
       "                                                    text urls     username  \\\n",
       "10739  Big Dog Special! Only fifty dollars to adopt a...       spcaoftexas   \n",
       "10740  Have you met Jolly Rancher? http://tinyurl.com...       spcaoftexas   \n",
       "10741  Looking for Last Minute Gifts? Check out www.s...       spcaoftexas   \n",
       "10742  Have You Met Cupcake??? http://tinyurl.com/9s5...       spcaoftexas   \n",
       "10743  Help bring them Home for the Holidays: http://...       spcaoftexas   \n",
       "10744  A Holiday Message from James Bias, SPCA of Tex...       spcaoftexas   \n",
       "10745  Keep your pets comfy and warm in this cold win...       spcaoftexas   \n",
       "10746  Marley and Me Photo Contest is Over. Visit htt...       spcaoftexas   \n",
       "10747  Don't Forget!! Today is the last day to submit...       spcaoftexas   \n",
       "10748  Get free advance screening passes to Marley & ...       spcaoftexas   \n",
       "10749  Marley & Me Photo Contest: http://www.spca.org...       spcaoftexas   \n",
       "10754  Meet Jade - she's waiting for you: http://tiny...       spcaoftexas   \n",
       "10755  Happy New Year from all of us at the SPCA of T...       spcaoftexas   \n",
       "\n",
       "       year  month  weekday  local_hour country  \n",
       "10739  2008     10        1          10     usa  \n",
       "10740  2008     12        1          15     usa  \n",
       "10741  2008     12        0          16     usa  \n",
       "10742  2008     12        6          15     usa  \n",
       "10743  2008     12        3          10     usa  \n",
       "10744  2008     12        2          10     usa  \n",
       "10745  2008     12        1           9     usa  \n",
       "10746  2008     12        0          18     usa  \n",
       "10747  2008     12        0          15     usa  \n",
       "10748  2008     12        2           9     usa  \n",
       "10749  2008     12        2          21     usa  \n",
       "10754  2008     12        2          11     usa  \n",
       "10755  2008     12        2           8     usa  "
      ]
     },
     "execution_count": 54,
     "metadata": {},
     "output_type": "execute_result"
    }
   ],
   "source": [
    "df.loc[df['year']==2008]"
   ]
  },
  {
   "cell_type": "markdown",
   "metadata": {},
   "source": [
    "### Playing around with time zone converstions making datetime aware."
   ]
  },
  {
   "cell_type": "code",
   "execution_count": 74,
   "metadata": {
    "collapsed": true
   },
   "outputs": [],
   "source": [
    "from datetime import datetime\n",
    "import pytz"
   ]
  },
  {
   "cell_type": "code",
   "execution_count": 75,
   "metadata": {
    "collapsed": true
   },
   "outputs": [],
   "source": [
    "# get the time zones\n",
    "utc_zone = pytz.timezone('UTC')\n",
    "et_zone = pytz.timezone('US/Eastern')"
   ]
  },
  {
   "cell_type": "code",
   "execution_count": 69,
   "metadata": {},
   "outputs": [
    {
     "data": {
      "text/plain": [
       "Timestamp('2009-03-30 17:19:45')"
      ]
     },
     "execution_count": 69,
     "metadata": {},
     "output_type": "execute_result"
    }
   ],
   "source": [
    "# get a timestamp from the dataframe\n",
    "test = df.date[0]\n",
    "test"
   ]
  },
  {
   "cell_type": "code",
   "execution_count": 76,
   "metadata": {},
   "outputs": [
    {
     "data": {
      "text/plain": [
       "datetime.datetime(2009, 3, 30, 17, 19, 45, tzinfo=<UTC>)"
      ]
     },
     "execution_count": 76,
     "metadata": {},
     "output_type": "execute_result"
    }
   ],
   "source": [
    "# converts pandas timestamp to datetime aware object\n",
    "test_utc = test.to_pydatetime().replace(tzinfo=utc_zone)\n",
    "test_utc"
   ]
  },
  {
   "cell_type": "code",
   "execution_count": 77,
   "metadata": {},
   "outputs": [
    {
     "data": {
      "text/plain": [
       "datetime.datetime(2009, 3, 30, 13, 19, 45, tzinfo=<DstTzInfo 'US/Eastern' EDT-1 day, 20:00:00 DST>)"
      ]
     },
     "execution_count": 77,
     "metadata": {},
     "output_type": "execute_result"
    }
   ],
   "source": [
    "# convert the utc to eastern\n",
    "eastern = test_utc.astimezone(et_zone)\n",
    "eastern"
   ]
  },
  {
   "cell_type": "code",
   "execution_count": 104,
   "metadata": {},
   "outputs": [
    {
     "data": {
      "text/plain": [
       "Timestamp('2010-01-26 15:31:43')"
      ]
     },
     "execution_count": 104,
     "metadata": {},
     "output_type": "execute_result"
    }
   ],
   "source": [
    "# find a date that is outside dst\n",
    "test2 = df.loc[(df['month'] == 1) & (df['username'] == 'PSPCA')].iloc[0,1]\n",
    "test2"
   ]
  },
  {
   "cell_type": "code",
   "execution_count": 108,
   "metadata": {},
   "outputs": [
    {
     "data": {
      "text/plain": [
       "datetime.datetime(2010, 1, 26, 15, 31, 43, tzinfo=<UTC>)"
      ]
     },
     "execution_count": 108,
     "metadata": {},
     "output_type": "execute_result"
    }
   ],
   "source": [
    "test2_utc = test2.to_pydatetime().replace(tzinfo=utc_zone)\n",
    "test2_utc"
   ]
  },
  {
   "cell_type": "code",
   "execution_count": 109,
   "metadata": {},
   "outputs": [
    {
     "data": {
      "text/plain": [
       "datetime.datetime(2010, 1, 26, 10, 31, 43, tzinfo=<DstTzInfo 'US/Eastern' EST-1 day, 19:00:00 STD>)"
      ]
     },
     "execution_count": 109,
     "metadata": {},
     "output_type": "execute_result"
    }
   ],
   "source": [
    "# IT WORKS!!!!!\n",
    "eastern2 = test2_utc.astimezone(et_zone)\n",
    "eastern2"
   ]
  },
  {
   "cell_type": "code",
   "execution_count": 112,
   "metadata": {
    "collapsed": true
   },
   "outputs": [],
   "source": [
    "# test the function to be used in the project\n",
    "\n",
    "# get the time zones\n",
    "et_zone = pytz.timezone('US/Eastern')\n",
    "ct_zone = pytz.timezone('US/Central')\n",
    "mt_zone = pytz.timezone('US/Mountain')\n",
    "pt_zone = pytz.timezone('US/Pacific')\n",
    "\n",
    "from datetime import datetime\n",
    "import pytz\n",
    "# function that replaces pandas timestamp with timezone adjusted datetime aware object\n",
    "def convert_to_datetime_aware(date, tz=None):\n",
    "    '''\n",
    "    Parameters: \n",
    "        date - pandas UTC timestamp , \n",
    "        tz - a pytz time zone to convert to (default is None)\n",
    "    \n",
    "    Returns:\n",
    "        datetime aware object in specified time zone (UTC if None)\n",
    "    \n",
    "    '''\n",
    "    utc_zone = pytz.timezone('UTC')\n",
    "    date = date.to_pydatetime().replace(tzinfo=utc_zone)\n",
    "    \n",
    "    if tz:\n",
    "        return date.astimezone(tz)\n",
    "    \n",
    "    return date"
   ]
  },
  {
   "cell_type": "code",
   "execution_count": 126,
   "metadata": {},
   "outputs": [
    {
     "data": {
      "text/plain": [
       "datetime.datetime(2009, 3, 30, 13, 19, 45, tzinfo=<DstTzInfo 'US/Eastern' EDT-1 day, 20:00:00 DST>)"
      ]
     },
     "execution_count": 126,
     "metadata": {},
     "output_type": "execute_result"
    }
   ],
   "source": [
    "date = convert_to_datetime_aware(test, et_zone)\n",
    "date"
   ]
  },
  {
   "cell_type": "code",
   "execution_count": 122,
   "metadata": {},
   "outputs": [
    {
     "data": {
      "text/plain": [
       "3"
      ]
     },
     "execution_count": 122,
     "metadata": {},
     "output_type": "execute_result"
    }
   ],
   "source": [
    "date.month"
   ]
  },
  {
   "cell_type": "code",
   "execution_count": 127,
   "metadata": {},
   "outputs": [
    {
     "data": {
      "text/plain": [
       "0   2009-03-30 10:19:45-07:00\n",
       "1   2009-03-28 14:49:03-07:00\n",
       "2   2009-03-27 10:00:50-07:00\n",
       "Name: date, dtype: datetime64[ns, US/Pacific]"
      ]
     },
     "execution_count": 127,
     "metadata": {},
     "output_type": "execute_result"
    }
   ],
   "source": [
    "df_sfspca = pd.read_pickle('../data/sfspca_tweets.p')\n",
    "df_sfspca.date.apply(convert_to_datetime_aware, args=(pt_zone,)).head(3)"
   ]
  },
  {
   "cell_type": "code",
   "execution_count": 128,
   "metadata": {},
   "outputs": [
    {
     "data": {
      "text/plain": [
       "0   2009-03-30 17:19:45\n",
       "1   2009-03-28 21:49:03\n",
       "2   2009-03-27 17:00:50\n",
       "Name: date, dtype: datetime64[ns]"
      ]
     },
     "execution_count": 128,
     "metadata": {},
     "output_type": "execute_result"
    }
   ],
   "source": [
    "df_sfspca.date.head(3)"
   ]
  },
  {
   "cell_type": "code",
   "execution_count": 129,
   "metadata": {},
   "outputs": [
    {
     "data": {
      "text/plain": [
       "0   2009-03-30 17:19:45+00:00\n",
       "1   2009-03-28 21:49:03+00:00\n",
       "2   2009-03-27 17:00:50+00:00\n",
       "Name: date, dtype: datetime64[ns, UTC]"
      ]
     },
     "execution_count": 129,
     "metadata": {},
     "output_type": "execute_result"
    }
   ],
   "source": [
    "df_sfspca.date.apply(convert_to_datetime_aware).head(3)"
   ]
  },
  {
   "cell_type": "markdown",
   "metadata": {},
   "source": [
    "**Result:**  \n",
    "The `pytz` looks to be working well, accounting for timezones and dst."
   ]
  },
  {
   "cell_type": "markdown",
   "metadata": {},
   "source": [
    "### New functionality to account for end date not being inclusive"
   ]
  },
  {
   "cell_type": "code",
   "execution_count": null,
   "metadata": {
    "collapsed": true
   },
   "outputs": [],
   "source": [
    "# ADJUSTMENT FOR UNTIL NOT BEING INCLUSIVE, SO START EACH MONTH WITH END OF PREVIOUS MONTH\n",
    "#     years = ['2008', '2009', '2010', '2011', '2012', '2013', '2014', '2015', '2016', '2017']\n",
    "#     months = [('01', '31'), ('02', '28'), ('03', '31'), ('04', '30'), ('05', '31'), ('06', '30'),\n",
    "#               ('07', '31'), ('08', '31'), ('09', '30'), ('10', '31'), ('11', '30'), ('12', '31')]\n",
    "#     total = 0\n",
    "#     for year in years:\n",
    "#         for month in months:\n",
    "#             if year == '2008' and month[0] == '01':\n",
    "#                 since = year + '-' + month[0] + '-01'\n",
    "#             else:\n",
    "#                 since = until\n",
    "#             until = year + '-' + month[0] + '-' + month[1]\n",
    "#             print(since, until)"
   ]
  },
  {
   "cell_type": "markdown",
   "metadata": {
    "collapsed": true
   },
   "source": [
    "### 9/6/17 - Playing around with Twittercounter API"
   ]
  },
  {
   "cell_type": "code",
   "execution_count": 1,
   "metadata": {
    "collapsed": true
   },
   "outputs": [],
   "source": [
    "import pandas as pd\n",
    "from urllib.parse import urlencode\n",
    "import requests"
   ]
  },
  {
   "cell_type": "code",
   "execution_count": 2,
   "metadata": {
    "collapsed": true
   },
   "outputs": [],
   "source": [
    "df_sfspca = pd.read_pickle('../data/sfspca_tweets.p')\n",
    "df_pspca = pd.read_pickle('../data/pspca_tweets.p')\n",
    "df_houston = pd.read_pickle('../data/houston_tweets.p')\n",
    "df_texas = pd.read_pickle('../data/texas_tweets.p')\n",
    "df_tulsa = pd.read_pickle('../data/tulsa_tweets.p')\n",
    "df_richmond = pd.read_pickle('../data/richmond_tweets.p')\n",
    "df_ontario = pd.read_pickle('../data/ontario_tweets.p')\n",
    "df_alberta = pd.read_pickle('../data/alberta_tweets.p')\n",
    "df_bc = pd.read_pickle('../data/bc_tweets.p')"
   ]
  },
  {
   "cell_type": "code",
   "execution_count": 16,
   "metadata": {},
   "outputs": [],
   "source": [
    "url = 'http://api.twittercounter.com'\n",
    "api_key = '7e7c4964440d3b1f61cdc34a0fbb3576'\n",
    "user_id = '23483274'\n",
    "r = requests.get(url + '?' + urlencode({'apikey':api_key, 'twitter_id':user_id}))"
   ]
  },
  {
   "cell_type": "code",
   "execution_count": 17,
   "metadata": {},
   "outputs": [
    {
     "data": {
      "text/plain": [
       "dict_keys(['version', 'twitter_id', 'username', 'url', 'avatar', 'name', 'description', 'timezone', 'location', 'last_tweet_id', 'followers_current', 'date_updated', 'follow_days', 'started_followers', 'growth_since', 'average_growth', 'tomorrow', 'next_month', 'followers_yesterday', 'rank', 'followersperdate', 'last_update'])"
      ]
     },
     "execution_count": 17,
     "metadata": {},
     "output_type": "execute_result"
    }
   ],
   "source": [
    "data = r.json()\n",
    "data.keys()"
   ]
  },
  {
   "cell_type": "code",
   "execution_count": 18,
   "metadata": {},
   "outputs": [
    {
     "data": {
      "text/plain": [
       "{'date2016-07-12': 6339,\n",
       " 'date2016-07-16': 6347,\n",
       " 'date2016-07-18': 6356,\n",
       " 'date2016-08-18': 6520,\n",
       " 'date2016-09-04': 6651,\n",
       " 'date2016-09-16': 6724,\n",
       " 'date2016-11-02': 6875,\n",
       " 'date2016-11-03': 6885,\n",
       " 'date2016-11-11': 6914,\n",
       " 'date2016-12-09': 7001,\n",
       " 'date2017-02-17': 7249,\n",
       " 'date2017-04-19': 7475,\n",
       " 'date2017-04-20': 7475,\n",
       " 'date2017-06-18': 7650}"
      ]
     },
     "execution_count": 18,
     "metadata": {},
     "output_type": "execute_result"
    }
   ],
   "source": [
    "data['followersperdate']"
   ]
  },
  {
   "cell_type": "code",
   "execution_count": 19,
   "metadata": {},
   "outputs": [
    {
     "data": {
      "text/plain": [
       "'2885'"
      ]
     },
     "execution_count": 19,
     "metadata": {},
     "output_type": "execute_result"
    }
   ],
   "source": [
    "data['follow_days']"
   ]
  },
  {
   "cell_type": "markdown",
   "metadata": {},
   "source": [
    "**Result:**  \n",
    "Can't go back far enough so stretch goal would be to subset the data so that it only goes back far enough to track number of followers. Then I can include that in my metric."
   ]
  },
  {
   "cell_type": "code",
   "execution_count": null,
   "metadata": {
    "collapsed": true
   },
   "outputs": [],
   "source": []
  }
 ],
 "metadata": {
  "kernelspec": {
   "display_name": "Python 3",
   "language": "python",
   "name": "python3"
  },
  "language_info": {
   "codemirror_mode": {
    "name": "ipython",
    "version": 3
   },
   "file_extension": ".py",
   "mimetype": "text/x-python",
   "name": "python",
   "nbconvert_exporter": "python",
   "pygments_lexer": "ipython3",
   "version": "3.6.2"
  }
 },
 "nbformat": 4,
 "nbformat_minor": 2
}
