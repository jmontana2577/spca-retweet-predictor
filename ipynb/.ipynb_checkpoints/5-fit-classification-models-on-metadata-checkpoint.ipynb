{
 "cells": [
  {
   "cell_type": "markdown",
   "metadata": {},
   "source": [
    "## Notebook 5 - Fit Regression Models on the Tweet Metadata\n",
    "The purpose of this notebook is to train classification models on the non-text features of the tweets."
   ]
  },
  {
   "cell_type": "code",
   "execution_count": 1,
   "metadata": {
    "collapsed": true
   },
   "outputs": [],
   "source": [
    "import pandas as pd\n",
    "import numpy as np\n",
    "import re"
   ]
  },
  {
   "cell_type": "code",
   "execution_count": 2,
   "metadata": {
    "collapsed": true
   },
   "outputs": [],
   "source": [
    "df_spca = pd.read_pickle('../data/3-post_eda.p')"
   ]
  },
  {
   "cell_type": "code",
   "execution_count": 3,
   "metadata": {},
   "outputs": [
    {
     "data": {
      "text/html": [
       "<div>\n",
       "<table border=\"1\" class=\"dataframe\">\n",
       "  <thead>\n",
       "    <tr style=\"text-align: right;\">\n",
       "      <th></th>\n",
       "      <th>author_id</th>\n",
       "      <th>local_datetime</th>\n",
       "      <th>favorites</th>\n",
       "      <th>hashtags</th>\n",
       "      <th>id</th>\n",
       "      <th>mentions</th>\n",
       "      <th>permalink</th>\n",
       "      <th>retweets</th>\n",
       "      <th>text</th>\n",
       "      <th>urls</th>\n",
       "      <th>username</th>\n",
       "      <th>country</th>\n",
       "      <th>year</th>\n",
       "      <th>month</th>\n",
       "      <th>weekday</th>\n",
       "      <th>hour</th>\n",
       "      <th>has_mention</th>\n",
       "      <th>has_hashtag</th>\n",
       "      <th>has_url</th>\n",
       "    </tr>\n",
       "  </thead>\n",
       "  <tbody>\n",
       "    <tr>\n",
       "      <th>1398</th>\n",
       "      <td>22213454</td>\n",
       "      <td>2012-01-30 10:18:54-08:00</td>\n",
       "      <td>0</td>\n",
       "      <td></td>\n",
       "      <td>164049967055503360</td>\n",
       "      <td></td>\n",
       "      <td>https://twitter.com/sfspca/status/164049967055...</td>\n",
       "      <td>1.098612</td>\n",
       "      <td>Adoptable of the Week: KC! If KC had his way t...</td>\n",
       "      <td>http://fb.me/16dUVX4Xp</td>\n",
       "      <td>sfspca</td>\n",
       "      <td>usa</td>\n",
       "      <td>2012</td>\n",
       "      <td>1</td>\n",
       "      <td>0</td>\n",
       "      <td>10</td>\n",
       "      <td>0</td>\n",
       "      <td>0</td>\n",
       "      <td>1</td>\n",
       "    </tr>\n",
       "    <tr>\n",
       "      <th>1399</th>\n",
       "      <td>22213454</td>\n",
       "      <td>2012-01-29 13:12:21-08:00</td>\n",
       "      <td>0</td>\n",
       "      <td></td>\n",
       "      <td>163731230481846272</td>\n",
       "      <td></td>\n",
       "      <td>https://twitter.com/sfspca/status/163731230481...</td>\n",
       "      <td>1.609438</td>\n",
       "      <td>Donate your old car to the SF SPCA! Hassle-fre...</td>\n",
       "      <td>http://fb.me/MpZqiDTz</td>\n",
       "      <td>sfspca</td>\n",
       "      <td>usa</td>\n",
       "      <td>2012</td>\n",
       "      <td>1</td>\n",
       "      <td>6</td>\n",
       "      <td>13</td>\n",
       "      <td>0</td>\n",
       "      <td>0</td>\n",
       "      <td>1</td>\n",
       "    </tr>\n",
       "    <tr>\n",
       "      <th>1400</th>\n",
       "      <td>22213454</td>\n",
       "      <td>2012-01-29 09:50:19-08:00</td>\n",
       "      <td>0</td>\n",
       "      <td></td>\n",
       "      <td>163680385379733505</td>\n",
       "      <td></td>\n",
       "      <td>https://twitter.com/sfspca/status/163680385379...</td>\n",
       "      <td>1.386294</td>\n",
       "      <td>Do you see cats in your neighborhood with no p...</td>\n",
       "      <td>http://fb.me/10Ge4JL5o</td>\n",
       "      <td>sfspca</td>\n",
       "      <td>usa</td>\n",
       "      <td>2012</td>\n",
       "      <td>1</td>\n",
       "      <td>6</td>\n",
       "      <td>9</td>\n",
       "      <td>0</td>\n",
       "      <td>0</td>\n",
       "      <td>1</td>\n",
       "    </tr>\n",
       "    <tr>\n",
       "      <th>1401</th>\n",
       "      <td>22213454</td>\n",
       "      <td>2012-01-28 07:01:22-08:00</td>\n",
       "      <td>4</td>\n",
       "      <td></td>\n",
       "      <td>163275481335087104</td>\n",
       "      <td></td>\n",
       "      <td>https://twitter.com/sfspca/status/163275481335...</td>\n",
       "      <td>1.098612</td>\n",
       "      <td>Photo: pig in a blanket! http:// tmblr.co/ZEVw...</td>\n",
       "      <td>http://tmblr.co/ZEVwxwFVZsZM</td>\n",
       "      <td>sfspca</td>\n",
       "      <td>usa</td>\n",
       "      <td>2012</td>\n",
       "      <td>1</td>\n",
       "      <td>5</td>\n",
       "      <td>7</td>\n",
       "      <td>0</td>\n",
       "      <td>0</td>\n",
       "      <td>1</td>\n",
       "    </tr>\n",
       "    <tr>\n",
       "      <th>1402</th>\n",
       "      <td>22213454</td>\n",
       "      <td>2012-01-27 17:10:56-08:00</td>\n",
       "      <td>0</td>\n",
       "      <td></td>\n",
       "      <td>163066492647251968</td>\n",
       "      <td></td>\n",
       "      <td>https://twitter.com/sfspca/status/163066492647...</td>\n",
       "      <td>1.386294</td>\n",
       "      <td>Come meet these adorable, adoptable animals at...</td>\n",
       "      <td>http://fb.me/1e7m3Pz0s</td>\n",
       "      <td>sfspca</td>\n",
       "      <td>usa</td>\n",
       "      <td>2012</td>\n",
       "      <td>1</td>\n",
       "      <td>4</td>\n",
       "      <td>17</td>\n",
       "      <td>0</td>\n",
       "      <td>0</td>\n",
       "      <td>1</td>\n",
       "    </tr>\n",
       "  </tbody>\n",
       "</table>\n",
       "</div>"
      ],
      "text/plain": [
       "      author_id             local_datetime  favorites hashtags  \\\n",
       "1398   22213454  2012-01-30 10:18:54-08:00          0            \n",
       "1399   22213454  2012-01-29 13:12:21-08:00          0            \n",
       "1400   22213454  2012-01-29 09:50:19-08:00          0            \n",
       "1401   22213454  2012-01-28 07:01:22-08:00          4            \n",
       "1402   22213454  2012-01-27 17:10:56-08:00          0            \n",
       "\n",
       "                      id mentions  \\\n",
       "1398  164049967055503360            \n",
       "1399  163731230481846272            \n",
       "1400  163680385379733505            \n",
       "1401  163275481335087104            \n",
       "1402  163066492647251968            \n",
       "\n",
       "                                              permalink  retweets  \\\n",
       "1398  https://twitter.com/sfspca/status/164049967055...  1.098612   \n",
       "1399  https://twitter.com/sfspca/status/163731230481...  1.609438   \n",
       "1400  https://twitter.com/sfspca/status/163680385379...  1.386294   \n",
       "1401  https://twitter.com/sfspca/status/163275481335...  1.098612   \n",
       "1402  https://twitter.com/sfspca/status/163066492647...  1.386294   \n",
       "\n",
       "                                                   text  \\\n",
       "1398  Adoptable of the Week: KC! If KC had his way t...   \n",
       "1399  Donate your old car to the SF SPCA! Hassle-fre...   \n",
       "1400  Do you see cats in your neighborhood with no p...   \n",
       "1401  Photo: pig in a blanket! http:// tmblr.co/ZEVw...   \n",
       "1402  Come meet these adorable, adoptable animals at...   \n",
       "\n",
       "                              urls username country  year  month  weekday  \\\n",
       "1398        http://fb.me/16dUVX4Xp   sfspca     usa  2012      1        0   \n",
       "1399         http://fb.me/MpZqiDTz   sfspca     usa  2012      1        6   \n",
       "1400        http://fb.me/10Ge4JL5o   sfspca     usa  2012      1        6   \n",
       "1401  http://tmblr.co/ZEVwxwFVZsZM   sfspca     usa  2012      1        5   \n",
       "1402        http://fb.me/1e7m3Pz0s   sfspca     usa  2012      1        4   \n",
       "\n",
       "      hour  has_mention  has_hashtag  has_url  \n",
       "1398    10            0            0        1  \n",
       "1399    13            0            0        1  \n",
       "1400     9            0            0        1  \n",
       "1401     7            0            0        1  \n",
       "1402    17            0            0        1  "
      ]
     },
     "execution_count": 3,
     "metadata": {},
     "output_type": "execute_result"
    }
   ],
   "source": [
    "df_spca.head()"
   ]
  },
  {
   "cell_type": "markdown",
   "metadata": {},
   "source": [
    "### Train models with the following predictors:\n",
    "1. Year tweet was created\n",
    "1. Month tweet was created\n",
    "1. Hour tweet was created\n",
    "1. Day of week tweet was created\n",
    "1. Tweet has a hashtag\n",
    "1. Tweet has a mention\n",
    "1. Tweet has a url"
   ]
  },
  {
   "cell_type": "code",
   "execution_count": 4,
   "metadata": {
    "collapsed": true
   },
   "outputs": [],
   "source": [
    "# pull the desired features and split the data into train and test sets\n",
    "from sklearn.model_selection import train_test_split\n",
    "cols = ['year', 'month', 'hour', 'weekday', 'has_hashtag', 'has_mention', 'has_url']\n",
    "X_train, X_test, y_train, y_test = train_test_split(df_spca[cols], df_spca.retweets, \n",
    "                                                      test_size=.3, random_state=55)"
   ]
  },
  {
   "cell_type": "markdown",
   "metadata": {},
   "source": [
    "### To-do: Change these to classifiers"
   ]
  },
  {
   "cell_type": "code",
   "execution_count": 5,
   "metadata": {
    "collapsed": true
   },
   "outputs": [],
   "source": [
    "from sklearn.linear_model import LinearRegression, Lasso, BayesianRidge, SGDRegressor\n",
    "from sklearn.tree import DecisionTreeRegressor\n",
    "from sklearn.neighbors import KNeighborsRegressor"
   ]
  },
  {
   "cell_type": "code",
   "execution_count": 6,
   "metadata": {
    "collapsed": true
   },
   "outputs": [],
   "source": [
    "def fit_and_score(data, regr):\n",
    "    print('Regressor: {}'.format(regr))\n",
    "    \n",
    "    regr.fit(X_train, data[2])\n",
    "    print('Train score: {}'.format(regr.score(X_train, data[2])))\n",
    "    print('Test score: {}'.format(regr.score(X_test, data[3])))"
   ]
  },
  {
   "cell_type": "code",
   "execution_count": 7,
   "metadata": {
    "collapsed": true
   },
   "outputs": [],
   "source": [
    "data = (X_train, X_test, y_train, y_test)"
   ]
  },
  {
   "cell_type": "code",
   "execution_count": 8,
   "metadata": {
    "collapsed": true
   },
   "outputs": [],
   "source": [
    "lasso = Lasso()\n",
    "sgd = SGDRegressor()\n",
    "knr = KNeighborsRegressor(n_jobs=-1)\n",
    "bayes = BayesianRidge()\n",
    "models = [lasso, sgd, knr, bayes]"
   ]
  },
  {
   "cell_type": "code",
   "execution_count": 9,
   "metadata": {},
   "outputs": [
    {
     "name": "stdout",
     "output_type": "stream",
     "text": [
      "Regressor: Lasso(alpha=1.0, copy_X=True, fit_intercept=True, max_iter=1000,\n",
      "   normalize=False, positive=False, precompute=False, random_state=None,\n",
      "   selection='cyclic', tol=0.0001, warm_start=False)\n",
      "Train score: 0.0\n",
      "Test score: -3.583835111786726e-06\n",
      "\n",
      "Regressor: SGDRegressor(alpha=0.0001, average=False, epsilon=0.1, eta0=0.01,\n",
      "       fit_intercept=True, l1_ratio=0.15, learning_rate='invscaling',\n",
      "       loss='squared_loss', n_iter=5, penalty='l2', power_t=0.25,\n",
      "       random_state=None, shuffle=True, verbose=0, warm_start=False)\n",
      "Train score: -1.751284707370474e+29\n",
      "Test score: -1.7495617275622054e+29\n",
      "\n",
      "Regressor: KNeighborsRegressor(algorithm='auto', leaf_size=30, metric='minkowski',\n",
      "          metric_params=None, n_jobs=-1, n_neighbors=5, p=2,\n",
      "          weights='uniform')\n",
      "Train score: 0.5026726315772778\n",
      "Test score: 0.27120937059065\n",
      "\n",
      "Regressor: BayesianRidge(alpha_1=1e-06, alpha_2=1e-06, compute_score=False, copy_X=True,\n",
      "       fit_intercept=True, lambda_1=1e-06, lambda_2=1e-06, n_iter=300,\n",
      "       normalize=False, tol=0.001, verbose=False)\n",
      "Train score: 0.24419701752946057\n",
      "Test score: 0.2465349791830128\n",
      "\n"
     ]
    }
   ],
   "source": [
    "for model in models:\n",
    "    fit_and_score(data, model)\n",
    "    print()"
   ]
  },
  {
   "cell_type": "code",
   "execution_count": null,
   "metadata": {
    "collapsed": true
   },
   "outputs": [],
   "source": []
  }
 ],
 "metadata": {
  "kernelspec": {
   "display_name": "Python 3",
   "language": "python",
   "name": "python3"
  },
  "language_info": {
   "codemirror_mode": {
    "name": "ipython",
    "version": 3
   },
   "file_extension": ".py",
   "mimetype": "text/x-python",
   "name": "python",
   "nbconvert_exporter": "python",
   "pygments_lexer": "ipython3",
   "version": "3.6.2"
  }
 },
 "nbformat": 4,
 "nbformat_minor": 2
}
