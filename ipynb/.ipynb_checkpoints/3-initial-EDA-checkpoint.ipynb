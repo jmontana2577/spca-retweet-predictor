{
 "cells": [
  {
   "cell_type": "markdown",
   "metadata": {},
   "source": [
    "## Notebook 3 - EDA and Next Steps\n",
    "The purpose of this notebook is to perform EDA on the tweets and create a list of next steps based on findings."
   ]
  },
  {
   "cell_type": "code",
   "execution_count": 1,
   "metadata": {
    "collapsed": true
   },
   "outputs": [],
   "source": [
    "import numpy as np\n",
    "import pandas as pd\n",
    "import matplotlib.pyplot as plt\n",
    "import seaborn as sns\n",
    "%matplotlib inline"
   ]
  },
  {
   "cell_type": "code",
   "execution_count": 2,
   "metadata": {
    "collapsed": true
   },
   "outputs": [],
   "source": [
    "df = pd.read_pickle('../data/all_tweets.p')"
   ]
  },
  {
   "cell_type": "code",
   "execution_count": 3,
   "metadata": {},
   "outputs": [
    {
     "name": "stdout",
     "output_type": "stream",
     "text": [
      "<class 'pandas.core.frame.DataFrame'>\n",
      "RangeIndex: 92530 entries, 0 to 92529\n",
      "Data columns (total 16 columns):\n",
      "author_id         92530 non-null int64\n",
      "local_datetime    92530 non-null object\n",
      "favorites         92530 non-null int64\n",
      "hashtags          92530 non-null object\n",
      "id                92530 non-null object\n",
      "mentions          92530 non-null object\n",
      "permalink         92530 non-null object\n",
      "retweets          92530 non-null int64\n",
      "text              92530 non-null object\n",
      "urls              92530 non-null object\n",
      "username          92530 non-null object\n",
      "country           92530 non-null object\n",
      "year              92530 non-null int64\n",
      "month             92530 non-null int64\n",
      "weekday           92530 non-null int64\n",
      "hour              92530 non-null int64\n",
      "dtypes: int64(7), object(9)\n",
      "memory usage: 11.3+ MB\n"
     ]
    }
   ],
   "source": [
    "df.info()"
   ]
  },
  {
   "cell_type": "code",
   "execution_count": 4,
   "metadata": {},
   "outputs": [
    {
     "data": {
      "text/html": [
       "<div>\n",
       "<table border=\"1\" class=\"dataframe\">\n",
       "  <thead>\n",
       "    <tr style=\"text-align: right;\">\n",
       "      <th></th>\n",
       "      <th>author_id</th>\n",
       "      <th>local_datetime</th>\n",
       "      <th>favorites</th>\n",
       "      <th>hashtags</th>\n",
       "      <th>id</th>\n",
       "      <th>mentions</th>\n",
       "      <th>permalink</th>\n",
       "      <th>retweets</th>\n",
       "      <th>text</th>\n",
       "      <th>urls</th>\n",
       "      <th>username</th>\n",
       "      <th>country</th>\n",
       "      <th>year</th>\n",
       "      <th>month</th>\n",
       "      <th>weekday</th>\n",
       "      <th>hour</th>\n",
       "    </tr>\n",
       "  </thead>\n",
       "  <tbody>\n",
       "    <tr>\n",
       "      <th>3316</th>\n",
       "      <td>22213454</td>\n",
       "      <td>2015-08-10 10:55:09-07:00</td>\n",
       "      <td>51</td>\n",
       "      <td>#MuttMonday</td>\n",
       "      <td>630799560462348288</td>\n",
       "      <td>@HumaneSociety</td>\n",
       "      <td>https://twitter.com/sfspca/status/630799560462...</td>\n",
       "      <td>82</td>\n",
       "      <td>#MuttMonday Polly has come a LONG way (Korea) ...</td>\n",
       "      <td>http://bit.ly/AdoptPolly</td>\n",
       "      <td>sfspca</td>\n",
       "      <td>usa</td>\n",
       "      <td>2015</td>\n",
       "      <td>8</td>\n",
       "      <td>0</td>\n",
       "      <td>10</td>\n",
       "    </tr>\n",
       "    <tr>\n",
       "      <th>17358</th>\n",
       "      <td>141346613</td>\n",
       "      <td>2014-05-13 18:45:19-05:00</td>\n",
       "      <td>0</td>\n",
       "      <td>#tulsaspca</td>\n",
       "      <td>466363591722299393</td>\n",
       "      <td>@regentbank</td>\n",
       "      <td>https://twitter.com/Tulsa_SPCA/status/46636359...</td>\n",
       "      <td>0</td>\n",
       "      <td>Special thanks to @regentbank for sponsoring P...</td>\n",
       "      <td>http://ow.ly/i/5xWHW</td>\n",
       "      <td>Tulsa_SPCA</td>\n",
       "      <td>usa</td>\n",
       "      <td>2014</td>\n",
       "      <td>5</td>\n",
       "      <td>1</td>\n",
       "      <td>18</td>\n",
       "    </tr>\n",
       "    <tr>\n",
       "      <th>14651</th>\n",
       "      <td>16630213</td>\n",
       "      <td>2014-09-22 10:58:36-05:00</td>\n",
       "      <td>12</td>\n",
       "      <td>#happytails</td>\n",
       "      <td>514081337360125952</td>\n",
       "      <td></td>\n",
       "      <td>https://twitter.com/spcaoftexas/status/5140813...</td>\n",
       "      <td>8</td>\n",
       "      <td>Senior bffs, Dory &amp; Shadow, were adopted toget...</td>\n",
       "      <td></td>\n",
       "      <td>spcaoftexas</td>\n",
       "      <td>usa</td>\n",
       "      <td>2014</td>\n",
       "      <td>9</td>\n",
       "      <td>0</td>\n",
       "      <td>10</td>\n",
       "    </tr>\n",
       "    <tr>\n",
       "      <th>36787</th>\n",
       "      <td>33549978</td>\n",
       "      <td>2014-11-12 11:01:32-05:00</td>\n",
       "      <td>5</td>\n",
       "      <td>#iAdopt4TheHolidays #pet</td>\n",
       "      <td>532563857622183936</td>\n",
       "      <td></td>\n",
       "      <td>https://twitter.com/OntarioSPCA/status/5325638...</td>\n",
       "      <td>13</td>\n",
       "      <td>#iAdopt4TheHolidays is on until Dec 31st. If y...</td>\n",
       "      <td>http://www.iadopt.ca</td>\n",
       "      <td>OntarioSPCA</td>\n",
       "      <td>canada</td>\n",
       "      <td>2014</td>\n",
       "      <td>11</td>\n",
       "      <td>2</td>\n",
       "      <td>11</td>\n",
       "    </tr>\n",
       "    <tr>\n",
       "      <th>70126</th>\n",
       "      <td>239171363</td>\n",
       "      <td>2017-05-24 12:05:19-06:00</td>\n",
       "      <td>2</td>\n",
       "      <td>#fmspca #shelter #ymm</td>\n",
       "      <td>867441396755689476</td>\n",
       "      <td></td>\n",
       "      <td>https://twitter.com/FMSPCA/status/867441396755...</td>\n",
       "      <td>5</td>\n",
       "      <td>The #fmspca has some great clothing for sale i...</td>\n",
       "      <td></td>\n",
       "      <td>FMSPCA</td>\n",
       "      <td>canada</td>\n",
       "      <td>2017</td>\n",
       "      <td>5</td>\n",
       "      <td>2</td>\n",
       "      <td>12</td>\n",
       "    </tr>\n",
       "  </tbody>\n",
       "</table>\n",
       "</div>"
      ],
      "text/plain": [
       "       author_id             local_datetime  favorites  \\\n",
       "3316    22213454  2015-08-10 10:55:09-07:00         51   \n",
       "17358  141346613  2014-05-13 18:45:19-05:00          0   \n",
       "14651   16630213  2014-09-22 10:58:36-05:00         12   \n",
       "36787   33549978  2014-11-12 11:01:32-05:00          5   \n",
       "70126  239171363  2017-05-24 12:05:19-06:00          2   \n",
       "\n",
       "                       hashtags                  id        mentions  \\\n",
       "3316                #MuttMonday  630799560462348288  @HumaneSociety   \n",
       "17358                #tulsaspca  466363591722299393     @regentbank   \n",
       "14651               #happytails  514081337360125952                   \n",
       "36787  #iAdopt4TheHolidays #pet  532563857622183936                   \n",
       "70126     #fmspca #shelter #ymm  867441396755689476                   \n",
       "\n",
       "                                               permalink  retweets  \\\n",
       "3316   https://twitter.com/sfspca/status/630799560462...        82   \n",
       "17358  https://twitter.com/Tulsa_SPCA/status/46636359...         0   \n",
       "14651  https://twitter.com/spcaoftexas/status/5140813...         8   \n",
       "36787  https://twitter.com/OntarioSPCA/status/5325638...        13   \n",
       "70126  https://twitter.com/FMSPCA/status/867441396755...         5   \n",
       "\n",
       "                                                    text  \\\n",
       "3316   #MuttMonday Polly has come a LONG way (Korea) ...   \n",
       "17358  Special thanks to @regentbank for sponsoring P...   \n",
       "14651  Senior bffs, Dory & Shadow, were adopted toget...   \n",
       "36787  #iAdopt4TheHolidays is on until Dec 31st. If y...   \n",
       "70126  The #fmspca has some great clothing for sale i...   \n",
       "\n",
       "                           urls     username country  year  month  weekday  \\\n",
       "3316   http://bit.ly/AdoptPolly       sfspca     usa  2015      8        0   \n",
       "17358      http://ow.ly/i/5xWHW   Tulsa_SPCA     usa  2014      5        1   \n",
       "14651                            spcaoftexas     usa  2014      9        0   \n",
       "36787      http://www.iadopt.ca  OntarioSPCA  canada  2014     11        2   \n",
       "70126                                 FMSPCA  canada  2017      5        2   \n",
       "\n",
       "       hour  \n",
       "3316     10  \n",
       "17358    18  \n",
       "14651    10  \n",
       "36787    11  \n",
       "70126    12  "
      ]
     },
     "execution_count": 4,
     "metadata": {},
     "output_type": "execute_result"
    }
   ],
   "source": [
    "df.sample(5)"
   ]
  },
  {
   "cell_type": "markdown",
   "metadata": {},
   "source": [
    "**Note:**  \n",
    "Checking to see if only the SPCA's are in the username field. Looks like there are others in there. I'm going to remove them."
   ]
  },
  {
   "cell_type": "code",
   "execution_count": 5,
   "metadata": {},
   "outputs": [
    {
     "data": {
      "text/plain": [
       "FMSPCA             26795\n",
       "OntarioSPCA        22543\n",
       "BC_SPCA            20726\n",
       "spcaoftexas         5335\n",
       "sfspca              4202\n",
       "RichmondSPCA        3757\n",
       "PSPCA               3478\n",
       "HoustonSPCA         3059\n",
       "Tulsa_SPCA          2624\n",
       "FMUnitedWay            2\n",
       "Mix1037radio           2\n",
       "southernpride50        1\n",
       "911TheBridge           1\n",
       "OSPCARenfrew           1\n",
       "steve_reeve            1\n",
       "NorthStarFord          1\n",
       "DonaldKScott           1\n",
       "Toddske                1\n",
       "Name: username, dtype: int64"
      ]
     },
     "execution_count": 5,
     "metadata": {},
     "output_type": "execute_result"
    }
   ],
   "source": [
    "df.username.value_counts()"
   ]
  },
  {
   "cell_type": "code",
   "execution_count": 6,
   "metadata": {},
   "outputs": [
    {
     "data": {
      "text/plain": [
       "(92519, 16)"
      ]
     },
     "execution_count": 6,
     "metadata": {},
     "output_type": "execute_result"
    }
   ],
   "source": [
    "# created this list by printing unique usernames and erasing non-SPCA's\n",
    "all_sfspcas = ['sfspca', 'PSPCA', 'HoustonSPCA', 'spcaoftexas', 'Tulsa_SPCA', 'RichmondSPCA',\n",
    "              'OntarioSPCA', 'FMSPCA', 'BC_SPCA']\n",
    "\n",
    "df = df.loc[df.username.isin(all_sfspcas)]\n",
    "df.shape"
   ]
  },
  {
   "cell_type": "markdown",
   "metadata": {},
   "source": [
    "**Note:**  \n",
    "Dropping the tweets by Houston SPCA since Hurricane Harvey because they are getting atypical numbers of retweets."
   ]
  },
  {
   "cell_type": "code",
   "execution_count": 7,
   "metadata": {
    "collapsed": true
   },
   "outputs": [],
   "source": [
    "from datetime import datetime\n",
    "import pytz"
   ]
  },
  {
   "cell_type": "code",
   "execution_count": 8,
   "metadata": {
    "collapsed": true
   },
   "outputs": [],
   "source": [
    "# set the cutoff for midnight on August 23\n",
    "condition = datetime(2017,8,23, tzinfo=pytz.timezone('US/Central'))"
   ]
  },
  {
   "cell_type": "code",
   "execution_count": 9,
   "metadata": {
    "scrolled": true
   },
   "outputs": [
    {
     "data": {
      "text/plain": [
       "(92487, 16)"
      ]
     },
     "execution_count": 9,
     "metadata": {},
     "output_type": "execute_result"
    }
   ],
   "source": [
    "# drop the tweets from Houston after the cutoff\n",
    "df = df.loc[~((df.local_datetime > condition) & (df.username == 'HoustonSPCA'))]\n",
    "df.shape"
   ]
  },
  {
   "cell_type": "markdown",
   "metadata": {},
   "source": [
    "**Note:**  \n",
    "Looking at tweets per user per year in consideration of dropping the first couple years of data."
   ]
  },
  {
   "cell_type": "code",
   "execution_count": 10,
   "metadata": {
    "collapsed": true
   },
   "outputs": [],
   "source": [
    "by_year_user = df.groupby(by=['year','username'],as_index=False,sort=False)[['author_id']].count()\n",
    "by_year_user.rename(columns = {'author_id': 'num_tweets'}, inplace=True)"
   ]
  },
  {
   "cell_type": "code",
   "execution_count": 11,
   "metadata": {},
   "outputs": [
    {
     "data": {
      "text/plain": [
       "<matplotlib.axes._subplots.AxesSubplot at 0x7f346b9d34a8>"
      ]
     },
     "execution_count": 11,
     "metadata": {},
     "output_type": "execute_result"
    },
    {
     "data": {
      "image/png": "[encoded data removed]",
      "text/plain": [
       "<matplotlib.figure.Figure at 0x7f343358f6d8>"
      ]
     },
     "metadata": {},
     "output_type": "display_data"
    }
   ],
   "source": [
    "fig = plt.figure(figsize=(15,6))\n",
    "sns.barplot(x='year', y='num_tweets', hue='username', data=by_year_user, ci=None)"
   ]
  },
  {
   "cell_type": "markdown",
   "metadata": {},
   "source": [
    "**Note:**  \n",
    "Dropping all tweets before 2012 since that's when Twitter had IPO and started gaining in popularity."
   ]
  },
  {
   "cell_type": "code",
   "execution_count": 12,
   "metadata": {},
   "outputs": [
    {
     "data": {
      "text/plain": [
       "(82175, 16)"
      ]
     },
     "execution_count": 12,
     "metadata": {},
     "output_type": "execute_result"
    }
   ],
   "source": [
    "df = df.loc[df.year > 2011]\n",
    "df.shape"
   ]
  },
  {
   "cell_type": "markdown",
   "metadata": {},
   "source": [
    "**Note:**  \n",
    "Because retweets of a tweet create more potential viewers of the tweet than favoriting a tweet does, I'm going to use number of retweets as the scoring metric (and the target for my model). I will not be using favorites as a predictor because it is the result of a tweet and isn't a known value before the tweet is sent. I will now look at minimizing the effects of outliers by first addressing the skew in my target and then identifying outliers using the Tukey method."
   ]
  },
  {
   "cell_type": "code",
   "execution_count": 13,
   "metadata": {
    "scrolled": false
   },
   "outputs": [
    {
     "data": {
      "text/html": [
       "<div>\n",
       "<table border=\"1\" class=\"dataframe\">\n",
       "  <thead>\n",
       "    <tr style=\"text-align: right;\">\n",
       "      <th></th>\n",
       "      <th>retweets</th>\n",
       "    </tr>\n",
       "  </thead>\n",
       "  <tbody>\n",
       "    <tr>\n",
       "      <th>count</th>\n",
       "      <td>82175.000000</td>\n",
       "    </tr>\n",
       "    <tr>\n",
       "      <th>mean</th>\n",
       "      <td>4.771804</td>\n",
       "    </tr>\n",
       "    <tr>\n",
       "      <th>std</th>\n",
       "      <td>8.889234</td>\n",
       "    </tr>\n",
       "    <tr>\n",
       "      <th>min</th>\n",
       "      <td>0.000000</td>\n",
       "    </tr>\n",
       "    <tr>\n",
       "      <th>25%</th>\n",
       "      <td>0.000000</td>\n",
       "    </tr>\n",
       "    <tr>\n",
       "      <th>50%</th>\n",
       "      <td>2.000000</td>\n",
       "    </tr>\n",
       "    <tr>\n",
       "      <th>75%</th>\n",
       "      <td>6.000000</td>\n",
       "    </tr>\n",
       "    <tr>\n",
       "      <th>max</th>\n",
       "      <td>826.000000</td>\n",
       "    </tr>\n",
       "  </tbody>\n",
       "</table>\n",
       "</div>"
      ],
      "text/plain": [
       "           retweets\n",
       "count  82175.000000\n",
       "mean       4.771804\n",
       "std        8.889234\n",
       "min        0.000000\n",
       "25%        0.000000\n",
       "50%        2.000000\n",
       "75%        6.000000\n",
       "max      826.000000"
      ]
     },
     "execution_count": 13,
     "metadata": {},
     "output_type": "execute_result"
    }
   ],
   "source": [
    "# looking at stats for the target\n",
    "df[['retweets']].describe()"
   ]
  },
  {
   "cell_type": "markdown",
   "metadata": {},
   "source": [
    "**Note:**  \n",
    "With a lot of the data gathered around 0 and very high maximums relative to the mean, our data appears heavily skewed right. Need to transform the data to minimize the skew."
   ]
  },
  {
   "cell_type": "code",
   "execution_count": 14,
   "metadata": {},
   "outputs": [
    {
     "data": {
      "text/plain": [
       "retweets    25.222896\n",
       "dtype: float64"
      ]
     },
     "execution_count": 14,
     "metadata": {},
     "output_type": "execute_result"
    }
   ],
   "source": [
    "# get measure of skew to confirm suspicion stated above\n",
    "from scipy.stats import skew\n",
    "\n",
    "skewed_features = df[['retweets']].apply(lambda x: skew(x))\n",
    "skewed_features"
   ]
  },
  {
   "cell_type": "markdown",
   "metadata": {},
   "source": [
    "**Note:**  \n",
    "This is a very high skew measurement (as suspected from the max compared to the mean and median), so I'm going to  transform with `log1p` (add 1 and take the natural log)."
   ]
  },
  {
   "cell_type": "code",
   "execution_count": 15,
   "metadata": {},
   "outputs": [],
   "source": [
    "df['retweets'] = np.log1p(df['retweets'])"
   ]
  },
  {
   "cell_type": "code",
   "execution_count": 16,
   "metadata": {},
   "outputs": [
    {
     "data": {
      "text/plain": [
       "retweets    0.34423\n",
       "dtype: float64"
      ]
     },
     "execution_count": 16,
     "metadata": {},
     "output_type": "execute_result"
    }
   ],
   "source": [
    "# get measure of skew to confirm suspicion stated above\n",
    "from scipy.stats import skew\n",
    "\n",
    "skewed_features = df[['retweets']].apply(lambda x: skew(x))\n",
    "skewed_features"
   ]
  },
  {
   "cell_type": "code",
   "execution_count": 17,
   "metadata": {
    "scrolled": false
   },
   "outputs": [
    {
     "data": {
      "image/png": "[encoded data removed]",
      "text/plain": [
       "<matplotlib.figure.Figure at 0x7f343368fb70>"
      ]
     },
     "metadata": {},
     "output_type": "display_data"
    }
   ],
   "source": [
    "# plot the distribution of retweets and favorites\n",
    "fig = plt.figure(figsize=(8,4))\n",
    "sns.distplot(df.retweets, kde=False)\n",
    "plt.show()"
   ]
  },
  {
   "cell_type": "markdown",
   "metadata": {},
   "source": [
    "**Note:**  \n",
    "The transformation has significantly reduced the skew. Time to identify outliers."
   ]
  },
  {
   "cell_type": "code",
   "execution_count": 18,
   "metadata": {
    "collapsed": true
   },
   "outputs": [],
   "source": [
    "# function to implement the Tukey method\n",
    "def identify_outliers(dataframe, col):\n",
    "    Q1 = np.percentile(dataframe[col], 25)\n",
    "    Q3 = np.percentile(dataframe[col], 75)\n",
    "    tukey_window = 1.5*(Q3-Q1)\n",
    "    less_than_Q1 = dataframe[col] < Q1 - tukey_window\n",
    "    greater_than_Q3 = dataframe[col] > Q3 + tukey_window\n",
    "    tukey_mask = (less_than_Q1 | greater_than_Q3)\n",
    "    return dataframe[tukey_mask]"
   ]
  },
  {
   "cell_type": "code",
   "execution_count": 19,
   "metadata": {
    "scrolled": true
   },
   "outputs": [
    {
     "data": {
      "text/plain": [
       "(20, 16)"
      ]
     },
     "execution_count": 19,
     "metadata": {},
     "output_type": "execute_result"
    }
   ],
   "source": [
    "outliers = identify_outliers(df,'retweets')\n",
    "outliers.shape"
   ]
  },
  {
   "cell_type": "code",
   "execution_count": 20,
   "metadata": {},
   "outputs": [
    {
     "data": {
      "text/html": [
       "<div>\n",
       "<table border=\"1\" class=\"dataframe\">\n",
       "  <thead>\n",
       "    <tr style=\"text-align: right;\">\n",
       "      <th></th>\n",
       "      <th>author_id</th>\n",
       "      <th>local_datetime</th>\n",
       "      <th>favorites</th>\n",
       "      <th>hashtags</th>\n",
       "      <th>id</th>\n",
       "      <th>mentions</th>\n",
       "      <th>permalink</th>\n",
       "      <th>retweets</th>\n",
       "      <th>text</th>\n",
       "      <th>urls</th>\n",
       "      <th>username</th>\n",
       "      <th>country</th>\n",
       "      <th>year</th>\n",
       "      <th>month</th>\n",
       "      <th>weekday</th>\n",
       "      <th>hour</th>\n",
       "    </tr>\n",
       "  </thead>\n",
       "  <tbody>\n",
       "    <tr>\n",
       "      <th>3097</th>\n",
       "      <td>22213454</td>\n",
       "      <td>2015-03-19 11:49:33-07:00</td>\n",
       "      <td>198</td>\n",
       "      <td>#KoreaDogs</td>\n",
       "      <td>578629397164482560</td>\n",
       "      <td></td>\n",
       "      <td>https://twitter.com/sfspca/status/578629397164...</td>\n",
       "      <td>5.153292</td>\n",
       "      <td>We've helped rescue 57 dogs from a dog meat fa...</td>\n",
       "      <td>http://www.sfspca.org/koreadogs</td>\n",
       "      <td>sfspca</td>\n",
       "      <td>usa</td>\n",
       "      <td>2015</td>\n",
       "      <td>3</td>\n",
       "      <td>3</td>\n",
       "      <td>11</td>\n",
       "    </tr>\n",
       "    <tr>\n",
       "      <th>3467</th>\n",
       "      <td>22213454</td>\n",
       "      <td>2015-10-07 12:10:39-07:00</td>\n",
       "      <td>184</td>\n",
       "      <td>#VetoExtinction</td>\n",
       "      <td>651837056172228608</td>\n",
       "      <td>@POTUS</td>\n",
       "      <td>https://twitter.com/sfspca/status/651837056172...</td>\n",
       "      <td>5.241747</td>\n",
       "      <td>Some Senators don't believe saving endangered ...</td>\n",
       "      <td></td>\n",
       "      <td>sfspca</td>\n",
       "      <td>usa</td>\n",
       "      <td>2015</td>\n",
       "      <td>10</td>\n",
       "      <td>2</td>\n",
       "      <td>12</td>\n",
       "    </tr>\n",
       "    <tr>\n",
       "      <th>3852</th>\n",
       "      <td>22213454</td>\n",
       "      <td>2016-08-17 11:31:49-07:00</td>\n",
       "      <td>463</td>\n",
       "      <td>#BlackCatAppreciationDay</td>\n",
       "      <td>765979460734562304</td>\n",
       "      <td></td>\n",
       "      <td>https://twitter.com/sfspca/status/765979460734...</td>\n",
       "      <td>5.823046</td>\n",
       "      <td>Black cats often have a harder time getting ad...</td>\n",
       "      <td></td>\n",
       "      <td>sfspca</td>\n",
       "      <td>usa</td>\n",
       "      <td>2016</td>\n",
       "      <td>8</td>\n",
       "      <td>2</td>\n",
       "      <td>11</td>\n",
       "    </tr>\n",
       "    <tr>\n",
       "      <th>12898</th>\n",
       "      <td>16630213</td>\n",
       "      <td>2013-05-21 15:34:42-05:00</td>\n",
       "      <td>189</td>\n",
       "      <td>#lostfound #Oklahoma</td>\n",
       "      <td>336943152558653441</td>\n",
       "      <td></td>\n",
       "      <td>https://twitter.com/spcaoftexas/status/3369431...</td>\n",
       "      <td>6.597146</td>\n",
       "      <td>Help reunite families- Please share this offic...</td>\n",
       "      <td>http://okclostpets.com/</td>\n",
       "      <td>spcaoftexas</td>\n",
       "      <td>usa</td>\n",
       "      <td>2013</td>\n",
       "      <td>5</td>\n",
       "      <td>1</td>\n",
       "      <td>15</td>\n",
       "    </tr>\n",
       "    <tr>\n",
       "      <th>15759</th>\n",
       "      <td>16630213</td>\n",
       "      <td>2016-10-18 18:02:47-05:00</td>\n",
       "      <td>439</td>\n",
       "      <td></td>\n",
       "      <td>788515698473480192</td>\n",
       "      <td>@EzekielElliott</td>\n",
       "      <td>https://twitter.com/spcaoftexas/status/7885156...</td>\n",
       "      <td>5.525453</td>\n",
       "      <td>@EzekielElliott incredibly kind heart and gene...</td>\n",
       "      <td></td>\n",
       "      <td>spcaoftexas</td>\n",
       "      <td>usa</td>\n",
       "      <td>2016</td>\n",
       "      <td>10</td>\n",
       "      <td>1</td>\n",
       "      <td>18</td>\n",
       "    </tr>\n",
       "    <tr>\n",
       "      <th>15766</th>\n",
       "      <td>16630213</td>\n",
       "      <td>2016-10-16 16:14:33-05:00</td>\n",
       "      <td>543</td>\n",
       "      <td>#RunToTheShelter</td>\n",
       "      <td>787763688237260800</td>\n",
       "      <td>@EzekielElliott @our</td>\n",
       "      <td>https://twitter.com/spcaoftexas/status/7877636...</td>\n",
       "      <td>5.533389</td>\n",
       "      <td>It's almost time to #RunToTheShelter ! All day...</td>\n",
       "      <td></td>\n",
       "      <td>spcaoftexas</td>\n",
       "      <td>usa</td>\n",
       "      <td>2016</td>\n",
       "      <td>10</td>\n",
       "      <td>6</td>\n",
       "      <td>16</td>\n",
       "    </tr>\n",
       "    <tr>\n",
       "      <th>15800</th>\n",
       "      <td>16630213</td>\n",
       "      <td>2016-11-14 20:26:49-06:00</td>\n",
       "      <td>840</td>\n",
       "      <td></td>\n",
       "      <td>798351519829659649</td>\n",
       "      <td></td>\n",
       "      <td>https://twitter.com/spcaoftexas/status/7983515...</td>\n",
       "      <td>5.488938</td>\n",
       "      <td>We were honored to welcome President George W....</td>\n",
       "      <td></td>\n",
       "      <td>spcaoftexas</td>\n",
       "      <td>usa</td>\n",
       "      <td>2016</td>\n",
       "      <td>11</td>\n",
       "      <td>0</td>\n",
       "      <td>20</td>\n",
       "    </tr>\n",
       "    <tr>\n",
       "      <th>16036</th>\n",
       "      <td>16630213</td>\n",
       "      <td>2017-08-28 19:48:07-05:00</td>\n",
       "      <td>271</td>\n",
       "      <td></td>\n",
       "      <td>902331998500528130</td>\n",
       "      <td>@OpKindness</td>\n",
       "      <td>https://twitter.com/spcaoftexas/status/9023319...</td>\n",
       "      <td>4.912655</td>\n",
       "      <td>Thank you to our good friends @OpKindness ! Th...</td>\n",
       "      <td>http://bit.ly/2xIcSAh</td>\n",
       "      <td>spcaoftexas</td>\n",
       "      <td>usa</td>\n",
       "      <td>2017</td>\n",
       "      <td>8</td>\n",
       "      <td>0</td>\n",
       "      <td>19</td>\n",
       "    </tr>\n",
       "    <tr>\n",
       "      <th>16037</th>\n",
       "      <td>16630213</td>\n",
       "      <td>2017-08-28 10:17:59-05:00</td>\n",
       "      <td>1888</td>\n",
       "      <td></td>\n",
       "      <td>902188520177111041</td>\n",
       "      <td></td>\n",
       "      <td>https://twitter.com/spcaoftexas/status/9021885...</td>\n",
       "      <td>6.717805</td>\n",
       "      <td>We are using every available resource to assis...</td>\n",
       "      <td>http://bit.ly/2wip6jB</td>\n",
       "      <td>spcaoftexas</td>\n",
       "      <td>usa</td>\n",
       "      <td>2017</td>\n",
       "      <td>8</td>\n",
       "      <td>0</td>\n",
       "      <td>10</td>\n",
       "    </tr>\n",
       "    <tr>\n",
       "      <th>16038</th>\n",
       "      <td>16630213</td>\n",
       "      <td>2017-08-26 11:52:27-05:00</td>\n",
       "      <td>291</td>\n",
       "      <td>#HurricaneHarvey</td>\n",
       "      <td>901487518469828608</td>\n",
       "      <td></td>\n",
       "      <td>https://twitter.com/spcaoftexas/status/9014875...</td>\n",
       "      <td>5.828946</td>\n",
       "      <td>UPDATE: #HurricaneHarvey : Please visit http:/...</td>\n",
       "      <td>http://www.spca.org/blog</td>\n",
       "      <td>spcaoftexas</td>\n",
       "      <td>usa</td>\n",
       "      <td>2017</td>\n",
       "      <td>8</td>\n",
       "      <td>5</td>\n",
       "      <td>11</td>\n",
       "    </tr>\n",
       "    <tr>\n",
       "      <th>16039</th>\n",
       "      <td>16630213</td>\n",
       "      <td>2017-08-25 16:50:09-05:00</td>\n",
       "      <td>642</td>\n",
       "      <td></td>\n",
       "      <td>901200047051767810</td>\n",
       "      <td></td>\n",
       "      <td>https://twitter.com/spcaoftexas/status/9012000...</td>\n",
       "      <td>5.805135</td>\n",
       "      <td>BREAKING: Hurricane Harvey Evacuations: Our fe...</td>\n",
       "      <td></td>\n",
       "      <td>spcaoftexas</td>\n",
       "      <td>usa</td>\n",
       "      <td>2017</td>\n",
       "      <td>8</td>\n",
       "      <td>4</td>\n",
       "      <td>16</td>\n",
       "    </tr>\n",
       "    <tr>\n",
       "      <th>27434</th>\n",
       "      <td>33549978</td>\n",
       "      <td>2012-06-30 09:28:10-04:00</td>\n",
       "      <td>1</td>\n",
       "      <td>#heatcankill #OSPCARescue</td>\n",
       "      <td>219059756030115840</td>\n",
       "      <td></td>\n",
       "      <td>https://twitter.com/OntarioSPCA/status/2190597...</td>\n",
       "      <td>4.955827</td>\n",
       "      <td>If you can tweet one thing today, make it a re...</td>\n",
       "      <td></td>\n",
       "      <td>OntarioSPCA</td>\n",
       "      <td>canada</td>\n",
       "      <td>2012</td>\n",
       "      <td>6</td>\n",
       "      <td>5</td>\n",
       "      <td>9</td>\n",
       "    </tr>\n",
       "    <tr>\n",
       "      <th>34785</th>\n",
       "      <td>33549978</td>\n",
       "      <td>2014-05-20 11:23:17-04:00</td>\n",
       "      <td>107</td>\n",
       "      <td>#nohotpets</td>\n",
       "      <td>468773964861296640</td>\n",
       "      <td></td>\n",
       "      <td>https://twitter.com/OntarioSPCA/status/4687739...</td>\n",
       "      <td>5.488938</td>\n",
       "      <td>Hot cars can kill. Visit http:// nohotpets.ca/...</td>\n",
       "      <td>http://nohotpets.ca/?utm_source=RTB&amp;utm_medium...</td>\n",
       "      <td>OntarioSPCA</td>\n",
       "      <td>canada</td>\n",
       "      <td>2014</td>\n",
       "      <td>5</td>\n",
       "      <td>1</td>\n",
       "      <td>11</td>\n",
       "    </tr>\n",
       "    <tr>\n",
       "      <th>39940</th>\n",
       "      <td>33549978</td>\n",
       "      <td>2016-01-27 10:02:27-05:00</td>\n",
       "      <td>69</td>\n",
       "      <td>#depression #BellLetsTalk</td>\n",
       "      <td>692362034890063872</td>\n",
       "      <td>@HABRITweets</td>\n",
       "      <td>https://twitter.com/OntarioSPCA/status/6923620...</td>\n",
       "      <td>5.789960</td>\n",
       "      <td>Did you know? Pets help relieve #depression . ...</td>\n",
       "      <td>http://ontariospca.ca/blog/5-ways-pets-relieve...</td>\n",
       "      <td>OntarioSPCA</td>\n",
       "      <td>canada</td>\n",
       "      <td>2016</td>\n",
       "      <td>1</td>\n",
       "      <td>2</td>\n",
       "      <td>10</td>\n",
       "    </tr>\n",
       "    <tr>\n",
       "      <th>42501</th>\n",
       "      <td>33549978</td>\n",
       "      <td>2016-11-25 14:09:03-05:00</td>\n",
       "      <td>149</td>\n",
       "      <td>#Marineland #investigations #ospca</td>\n",
       "      <td>802227618997272577</td>\n",
       "      <td></td>\n",
       "      <td>https://twitter.com/OntarioSPCA/status/8022276...</td>\n",
       "      <td>5.153292</td>\n",
       "      <td>The Ontario SPCA charges #Marineland with 5 co...</td>\n",
       "      <td>http://ow.ly/QDAD306wFgj</td>\n",
       "      <td>OntarioSPCA</td>\n",
       "      <td>canada</td>\n",
       "      <td>2016</td>\n",
       "      <td>11</td>\n",
       "      <td>4</td>\n",
       "      <td>14</td>\n",
       "    </tr>\n",
       "    <tr>\n",
       "      <th>55895</th>\n",
       "      <td>239171363</td>\n",
       "      <td>2013-11-01 16:08:18-06:00</td>\n",
       "      <td>50</td>\n",
       "      <td>#Pawitforward</td>\n",
       "      <td>396398318772695040</td>\n",
       "      <td></td>\n",
       "      <td>https://twitter.com/FMSPCA/status/396398318772...</td>\n",
       "      <td>4.976734</td>\n",
       "      <td>November is ADOPT A SENIOR PET month! #Pawitfo...</td>\n",
       "      <td></td>\n",
       "      <td>FMSPCA</td>\n",
       "      <td>canada</td>\n",
       "      <td>2013</td>\n",
       "      <td>11</td>\n",
       "      <td>4</td>\n",
       "      <td>16</td>\n",
       "    </tr>\n",
       "    <tr>\n",
       "      <th>66700</th>\n",
       "      <td>239171363</td>\n",
       "      <td>2016-05-05 12:01:17-06:00</td>\n",
       "      <td>43</td>\n",
       "      <td>#ymm #pets #ymmfire #pet</td>\n",
       "      <td>728283440433475584</td>\n",
       "      <td></td>\n",
       "      <td>https://twitter.com/FMSPCA/status/728283440433...</td>\n",
       "      <td>4.983607</td>\n",
       "      <td>#ymm pet owners looking for #pets in left in c...</td>\n",
       "      <td>http://ow.ly/4nsZ2l</td>\n",
       "      <td>FMSPCA</td>\n",
       "      <td>canada</td>\n",
       "      <td>2016</td>\n",
       "      <td>5</td>\n",
       "      <td>3</td>\n",
       "      <td>12</td>\n",
       "    </tr>\n",
       "    <tr>\n",
       "      <th>66706</th>\n",
       "      <td>239171363</td>\n",
       "      <td>2016-05-04 13:39:19-06:00</td>\n",
       "      <td>65</td>\n",
       "      <td>#fmspca #ymm</td>\n",
       "      <td>727945724571308032</td>\n",
       "      <td></td>\n",
       "      <td>https://twitter.com/FMSPCA/status/727945724571...</td>\n",
       "      <td>4.867534</td>\n",
       "      <td>Thank you to everyone asking how they can dona...</td>\n",
       "      <td>http://fortmcmurrayspca.ca/index.php?area_id=1...</td>\n",
       "      <td>FMSPCA</td>\n",
       "      <td>canada</td>\n",
       "      <td>2016</td>\n",
       "      <td>5</td>\n",
       "      <td>2</td>\n",
       "      <td>13</td>\n",
       "    </tr>\n",
       "    <tr>\n",
       "      <th>66712</th>\n",
       "      <td>239171363</td>\n",
       "      <td>2016-05-04 07:08:37-06:00</td>\n",
       "      <td>153</td>\n",
       "      <td>#ymmfires</td>\n",
       "      <td>727847399998263297</td>\n",
       "      <td></td>\n",
       "      <td>https://twitter.com/FMSPCA/status/727847399998...</td>\n",
       "      <td>6.200509</td>\n",
       "      <td>IF YOU STILL HAVE ANIMALS IN YOUR HOME AND YOU...</td>\n",
       "      <td></td>\n",
       "      <td>FMSPCA</td>\n",
       "      <td>canada</td>\n",
       "      <td>2016</td>\n",
       "      <td>5</td>\n",
       "      <td>2</td>\n",
       "      <td>7</td>\n",
       "    </tr>\n",
       "    <tr>\n",
       "      <th>90670</th>\n",
       "      <td>69678362</td>\n",
       "      <td>2016-10-28 12:02:02-07:00</td>\n",
       "      <td>177</td>\n",
       "      <td>#Burnaby</td>\n",
       "      <td>792078993042255874</td>\n",
       "      <td></td>\n",
       "      <td>https://twitter.com/BC_SPCA/status/79207899304...</td>\n",
       "      <td>6.011267</td>\n",
       "      <td>Our #Burnaby shelter is in desperate need of b...</td>\n",
       "      <td></td>\n",
       "      <td>BC_SPCA</td>\n",
       "      <td>canada</td>\n",
       "      <td>2016</td>\n",
       "      <td>10</td>\n",
       "      <td>4</td>\n",
       "      <td>12</td>\n",
       "    </tr>\n",
       "  </tbody>\n",
       "</table>\n",
       "</div>"
      ],
      "text/plain": [
       "       author_id             local_datetime  favorites  \\\n",
       "3097    22213454  2015-03-19 11:49:33-07:00        198   \n",
       "3467    22213454  2015-10-07 12:10:39-07:00        184   \n",
       "3852    22213454  2016-08-17 11:31:49-07:00        463   \n",
       "12898   16630213  2013-05-21 15:34:42-05:00        189   \n",
       "15759   16630213  2016-10-18 18:02:47-05:00        439   \n",
       "15766   16630213  2016-10-16 16:14:33-05:00        543   \n",
       "15800   16630213  2016-11-14 20:26:49-06:00        840   \n",
       "16036   16630213  2017-08-28 19:48:07-05:00        271   \n",
       "16037   16630213  2017-08-28 10:17:59-05:00       1888   \n",
       "16038   16630213  2017-08-26 11:52:27-05:00        291   \n",
       "16039   16630213  2017-08-25 16:50:09-05:00        642   \n",
       "27434   33549978  2012-06-30 09:28:10-04:00          1   \n",
       "34785   33549978  2014-05-20 11:23:17-04:00        107   \n",
       "39940   33549978  2016-01-27 10:02:27-05:00         69   \n",
       "42501   33549978  2016-11-25 14:09:03-05:00        149   \n",
       "55895  239171363  2013-11-01 16:08:18-06:00         50   \n",
       "66700  239171363  2016-05-05 12:01:17-06:00         43   \n",
       "66706  239171363  2016-05-04 13:39:19-06:00         65   \n",
       "66712  239171363  2016-05-04 07:08:37-06:00        153   \n",
       "90670   69678362  2016-10-28 12:02:02-07:00        177   \n",
       "\n",
       "                                 hashtags                  id  \\\n",
       "3097                           #KoreaDogs  578629397164482560   \n",
       "3467                      #VetoExtinction  651837056172228608   \n",
       "3852             #BlackCatAppreciationDay  765979460734562304   \n",
       "12898                #lostfound #Oklahoma  336943152558653441   \n",
       "15759                                      788515698473480192   \n",
       "15766                    #RunToTheShelter  787763688237260800   \n",
       "15800                                      798351519829659649   \n",
       "16036                                      902331998500528130   \n",
       "16037                                      902188520177111041   \n",
       "16038                    #HurricaneHarvey  901487518469828608   \n",
       "16039                                      901200047051767810   \n",
       "27434           #heatcankill #OSPCARescue  219059756030115840   \n",
       "34785                          #nohotpets  468773964861296640   \n",
       "39940           #depression #BellLetsTalk  692362034890063872   \n",
       "42501  #Marineland #investigations #ospca  802227618997272577   \n",
       "55895                       #Pawitforward  396398318772695040   \n",
       "66700            #ymm #pets #ymmfire #pet  728283440433475584   \n",
       "66706                        #fmspca #ymm  727945724571308032   \n",
       "66712                           #ymmfires  727847399998263297   \n",
       "90670                            #Burnaby  792078993042255874   \n",
       "\n",
       "                   mentions  \\\n",
       "3097                          \n",
       "3467                 @POTUS   \n",
       "3852                          \n",
       "12898                         \n",
       "15759       @EzekielElliott   \n",
       "15766  @EzekielElliott @our   \n",
       "15800                         \n",
       "16036           @OpKindness   \n",
       "16037                         \n",
       "16038                         \n",
       "16039                         \n",
       "27434                         \n",
       "34785                         \n",
       "39940          @HABRITweets   \n",
       "42501                         \n",
       "55895                         \n",
       "66700                         \n",
       "66706                         \n",
       "66712                         \n",
       "90670                         \n",
       "\n",
       "                                               permalink  retweets  \\\n",
       "3097   https://twitter.com/sfspca/status/578629397164...  5.153292   \n",
       "3467   https://twitter.com/sfspca/status/651837056172...  5.241747   \n",
       "3852   https://twitter.com/sfspca/status/765979460734...  5.823046   \n",
       "12898  https://twitter.com/spcaoftexas/status/3369431...  6.597146   \n",
       "15759  https://twitter.com/spcaoftexas/status/7885156...  5.525453   \n",
       "15766  https://twitter.com/spcaoftexas/status/7877636...  5.533389   \n",
       "15800  https://twitter.com/spcaoftexas/status/7983515...  5.488938   \n",
       "16036  https://twitter.com/spcaoftexas/status/9023319...  4.912655   \n",
       "16037  https://twitter.com/spcaoftexas/status/9021885...  6.717805   \n",
       "16038  https://twitter.com/spcaoftexas/status/9014875...  5.828946   \n",
       "16039  https://twitter.com/spcaoftexas/status/9012000...  5.805135   \n",
       "27434  https://twitter.com/OntarioSPCA/status/2190597...  4.955827   \n",
       "34785  https://twitter.com/OntarioSPCA/status/4687739...  5.488938   \n",
       "39940  https://twitter.com/OntarioSPCA/status/6923620...  5.789960   \n",
       "42501  https://twitter.com/OntarioSPCA/status/8022276...  5.153292   \n",
       "55895  https://twitter.com/FMSPCA/status/396398318772...  4.976734   \n",
       "66700  https://twitter.com/FMSPCA/status/728283440433...  4.983607   \n",
       "66706  https://twitter.com/FMSPCA/status/727945724571...  4.867534   \n",
       "66712  https://twitter.com/FMSPCA/status/727847399998...  6.200509   \n",
       "90670  https://twitter.com/BC_SPCA/status/79207899304...  6.011267   \n",
       "\n",
       "                                                    text  \\\n",
       "3097   We've helped rescue 57 dogs from a dog meat fa...   \n",
       "3467   Some Senators don't believe saving endangered ...   \n",
       "3852   Black cats often have a harder time getting ad...   \n",
       "12898  Help reunite families- Please share this offic...   \n",
       "15759  @EzekielElliott incredibly kind heart and gene...   \n",
       "15766  It's almost time to #RunToTheShelter ! All day...   \n",
       "15800  We were honored to welcome President George W....   \n",
       "16036  Thank you to our good friends @OpKindness ! Th...   \n",
       "16037  We are using every available resource to assis...   \n",
       "16038  UPDATE: #HurricaneHarvey : Please visit http:/...   \n",
       "16039  BREAKING: Hurricane Harvey Evacuations: Our fe...   \n",
       "27434  If you can tweet one thing today, make it a re...   \n",
       "34785  Hot cars can kill. Visit http:// nohotpets.ca/...   \n",
       "39940  Did you know? Pets help relieve #depression . ...   \n",
       "42501  The Ontario SPCA charges #Marineland with 5 co...   \n",
       "55895  November is ADOPT A SENIOR PET month! #Pawitfo...   \n",
       "66700  #ymm pet owners looking for #pets in left in c...   \n",
       "66706  Thank you to everyone asking how they can dona...   \n",
       "66712  IF YOU STILL HAVE ANIMALS IN YOUR HOME AND YOU...   \n",
       "90670  Our #Burnaby shelter is in desperate need of b...   \n",
       "\n",
       "                                                    urls     username country  \\\n",
       "3097                     http://www.sfspca.org/koreadogs       sfspca     usa   \n",
       "3467                                                           sfspca     usa   \n",
       "3852                                                           sfspca     usa   \n",
       "12898                            http://okclostpets.com/  spcaoftexas     usa   \n",
       "15759                                                     spcaoftexas     usa   \n",
       "15766                                                     spcaoftexas     usa   \n",
       "15800                                                     spcaoftexas     usa   \n",
       "16036                              http://bit.ly/2xIcSAh  spcaoftexas     usa   \n",
       "16037                              http://bit.ly/2wip6jB  spcaoftexas     usa   \n",
       "16038                           http://www.spca.org/blog  spcaoftexas     usa   \n",
       "16039                                                     spcaoftexas     usa   \n",
       "27434                                                     OntarioSPCA  canada   \n",
       "34785  http://nohotpets.ca/?utm_source=RTB&utm_medium...  OntarioSPCA  canada   \n",
       "39940  http://ontariospca.ca/blog/5-ways-pets-relieve...  OntarioSPCA  canada   \n",
       "42501                           http://ow.ly/QDAD306wFgj  OntarioSPCA  canada   \n",
       "55895                                                          FMSPCA  canada   \n",
       "66700                                http://ow.ly/4nsZ2l       FMSPCA  canada   \n",
       "66706  http://fortmcmurrayspca.ca/index.php?area_id=1...       FMSPCA  canada   \n",
       "66712                                                          FMSPCA  canada   \n",
       "90670                                                         BC_SPCA  canada   \n",
       "\n",
       "       year  month  weekday  hour  \n",
       "3097   2015      3        3    11  \n",
       "3467   2015     10        2    12  \n",
       "3852   2016      8        2    11  \n",
       "12898  2013      5        1    15  \n",
       "15759  2016     10        1    18  \n",
       "15766  2016     10        6    16  \n",
       "15800  2016     11        0    20  \n",
       "16036  2017      8        0    19  \n",
       "16037  2017      8        0    10  \n",
       "16038  2017      8        5    11  \n",
       "16039  2017      8        4    16  \n",
       "27434  2012      6        5     9  \n",
       "34785  2014      5        1    11  \n",
       "39940  2016      1        2    10  \n",
       "42501  2016     11        4    14  \n",
       "55895  2013     11        4    16  \n",
       "66700  2016      5        3    12  \n",
       "66706  2016      5        2    13  \n",
       "66712  2016      5        2     7  \n",
       "90670  2016     10        4    12  "
      ]
     },
     "execution_count": 20,
     "metadata": {},
     "output_type": "execute_result"
    }
   ],
   "source": [
    "outliers"
   ]
  },
  {
   "cell_type": "markdown",
   "metadata": {},
   "source": [
    "**Note:**  \n",
    "Some of these outliers are tweets relating to natural disasters like hurricanes, tornados, and wildfires. I'm going to remove those tweets but keep the rest of the outliers."
   ]
  },
  {
   "cell_type": "code",
   "execution_count": 21,
   "metadata": {},
   "outputs": [],
   "source": [
    "df.drop([66712, 66706, 66700, 16039, 16036, 12898], inplace=True)"
   ]
  },
  {
   "cell_type": "markdown",
   "metadata": {},
   "source": [
    "**Note:**  \n",
    "I'm going to create three more columns that are boolean values, one each for whether or not a tweet has a hashtag, a mention or a url."
   ]
  },
  {
   "cell_type": "code",
   "execution_count": 22,
   "metadata": {
    "collapsed": true
   },
   "outputs": [],
   "source": [
    "# new columns based on presence of mention, hashtag, url\n",
    "empty = lambda x: 0 if x == '' else 1\n",
    "df['has_mention'] = df.mentions.apply(empty)\n",
    "df['has_hashtag'] = df.hashtags.apply(empty)\n",
    "df['has_url'] = df.urls.apply(empty)"
   ]
  },
  {
   "cell_type": "code",
   "execution_count": 23,
   "metadata": {},
   "outputs": [
    {
     "data": {
      "image/png": "[encoded data removed]",
      "text/plain": [
       "<matplotlib.figure.Figure at 0x7f3437ec47b8>"
      ]
     },
     "metadata": {},
     "output_type": "display_data"
    }
   ],
   "source": [
    "fig, axes = plt.subplots(nrows=1, ncols=2, figsize=(20,6))\n",
    "plt.suptitle('Mean and Median Retweets for Each Organization Based on Presence of Mentions', fontsize=20)\n",
    "sns.barplot(x='username', y='retweets', hue='has_mention', data=df, ci=None, ax=axes[0])\n",
    "sns.barplot(x='username', y='retweets', hue='has_mention', data=df, estimator=np.median,ci=None, ax=axes[1])\n",
    "for ax in axes:\n",
    "    plt.sca(ax)\n",
    "    plt.xticks(rotation=45)\n",
    "    ax.yaxis.label.set_fontsize(16)\n",
    "    ax.xaxis.label.set_fontsize(16)"
   ]
  },
  {
   "cell_type": "code",
   "execution_count": 24,
   "metadata": {},
   "outputs": [
    {
     "data": {
      "image/png": "[encoded data removed]",
      "text/plain": [
       "<matplotlib.figure.Figure at 0x7f34375eb940>"
      ]
     },
     "metadata": {},
     "output_type": "display_data"
    }
   ],
   "source": [
    "fig, axes = plt.subplots(nrows=1, ncols=2, figsize=(20,6))\n",
    "plt.suptitle('Mean and Median Retweets for Each Organization Based on Presence of Hashtags', fontsize=20)\n",
    "sns.barplot(x='username', y='retweets', hue='has_hashtag', data=df, ci=None, ax=axes[0])\n",
    "sns.barplot(x='username', y='retweets', hue='has_hashtag', data=df, estimator=np.median,ci=None, ax=axes[1])\n",
    "for ax in axes:\n",
    "    plt.sca(ax)\n",
    "    plt.xticks(rotation=45)\n",
    "    ax.yaxis.label.set_fontsize(16)\n",
    "    ax.xaxis.label.set_fontsize(16)"
   ]
  },
  {
   "cell_type": "code",
   "execution_count": 25,
   "metadata": {},
   "outputs": [
    {
     "data": {
      "image/png": "[encoded data removed]",
      "text/plain": [
       "<matplotlib.figure.Figure at 0x7f34380404e0>"
      ]
     },
     "metadata": {},
     "output_type": "display_data"
    }
   ],
   "source": [
    "fig, axes = plt.subplots(nrows=1, ncols=2, figsize=(20,6))\n",
    "plt.suptitle('Mean and Median Retweets for Each Organization Based on Presence of URLs', fontsize=20)\n",
    "sns.barplot(x='username', y='retweets', hue='has_url', data=df, ci=None, ax=axes[0])\n",
    "sns.barplot(x='username', y='retweets', hue='has_url', data=df, estimator=np.median,ci=None, ax=axes[1])\n",
    "for ax in axes:\n",
    "    plt.sca(ax)\n",
    "    plt.xticks(rotation=45)\n",
    "    ax.yaxis.label.set_fontsize(16)\n",
    "    ax.xaxis.label.set_fontsize(16)"
   ]
  },
  {
   "cell_type": "code",
   "execution_count": 26,
   "metadata": {},
   "outputs": [
    {
     "data": {
      "image/png": "[encoded data removed]",
      "text/plain": [
       "<matplotlib.figure.Figure at 0x7f3438089940>"
      ]
     },
     "metadata": {},
     "output_type": "display_data"
    }
   ],
   "source": [
    "fig, axes = plt.subplots(nrows=1, ncols=2, figsize=(20,6))\n",
    "plt.suptitle('Mean and Median Retweets by Hour', fontsize=20)\n",
    "sns.barplot(x='hour', y='retweets', data=df, ci=None, ax=axes[0])\n",
    "sns.barplot(x='hour', y='retweets', data=df, estimator=np.median,ci=None, ax=axes[1])\n",
    "for ax in axes:\n",
    "    plt.sca(ax)\n",
    "    ax.yaxis.label.set_fontsize(16)\n",
    "    ax.xaxis.label.set_fontsize(16)"
   ]
  },
  {
   "cell_type": "code",
   "execution_count": 27,
   "metadata": {},
   "outputs": [
    {
     "data": {
      "text/plain": [
       "FMSPCA        43\n",
       "Tulsa_SPCA     1\n",
       "sfspca         1\n",
       "Name: username, dtype: int64"
      ]
     },
     "execution_count": 27,
     "metadata": {},
     "output_type": "execute_result"
    }
   ],
   "source": [
    "# look at tweets at 3 am to see what's causing such a high value\n",
    "df.loc[df.hour == 3].username.value_counts()"
   ]
  },
  {
   "cell_type": "markdown",
   "metadata": {},
   "source": [
    "**Note:**  \n",
    "Almost all of the 3 am tweets are from the Alberta organization. Maybe they are using a scheduling tool like zoho or hootsuite."
   ]
  },
  {
   "cell_type": "code",
   "execution_count": 28,
   "metadata": {},
   "outputs": [
    {
     "data": {
      "image/png": "[encoded data removed]",
      "text/plain": [
       "<matplotlib.figure.Figure at 0x7f3437e66c88>"
      ]
     },
     "metadata": {},
     "output_type": "display_data"
    }
   ],
   "source": [
    "fig, axes = plt.subplots(nrows=1, ncols=2, figsize=(20,6))\n",
    "plt.suptitle('Mean and Median Retweets by Month', fontsize=20)\n",
    "sns.barplot(x='month', y='retweets', data=df, ci=None, ax=axes[0])\n",
    "sns.barplot(x='month', y='retweets', data=df, estimator=np.median,ci=None, ax=axes[1])\n",
    "for ax in axes:\n",
    "    plt.sca(ax)\n",
    "    ax.yaxis.label.set_fontsize(16)\n",
    "    ax.xaxis.label.set_fontsize(16)"
   ]
  },
  {
   "cell_type": "code",
   "execution_count": 29,
   "metadata": {},
   "outputs": [
    {
     "data": {
      "image/png": "[encoded data removed]",
      "text/plain": [
       "<matplotlib.figure.Figure at 0x7f3437586b70>"
      ]
     },
     "metadata": {},
     "output_type": "display_data"
    }
   ],
   "source": [
    "fig, axes = plt.subplots(nrows=1, ncols=2, figsize=(20,6))\n",
    "plt.suptitle('Mean and Median Retweets by Day of Week', fontsize=20)\n",
    "sns.barplot(x='weekday', y='retweets', data=df, ci=None, ax=axes[0])\n",
    "sns.barplot(x='weekday', y='retweets', data=df, estimator=np.median,ci=None, ax=axes[1])\n",
    "for ax in axes:\n",
    "    plt.sca(ax)\n",
    "    ax.yaxis.label.set_fontsize(16)\n",
    "    ax.xaxis.label.set_fontsize(16)"
   ]
  },
  {
   "cell_type": "markdown",
   "metadata": {},
   "source": [
    "**Notes:**  \n",
    "1. Having a mention seems to result in lower retweets.\n",
    "1. Having a hashtag seems to result in higher retweets.\n",
    "1. Having a url has varying affects depending on organization.\n",
    "1. It appears tweets sent in the very early morning hours have the highest number of retweets.\n",
    "1. Tweets sent in July and August got a little bump in retweets.\n",
    "1. It looks like weekend tweets get more retweets than those sent during the week."
   ]
  },
  {
   "cell_type": "markdown",
   "metadata": {
    "collapsed": true
   },
   "source": [
    "## Next Steps\n",
    "1. Can I get number of followers from the Twitter API?  \n",
    "**Result:** Yes, but only back to mid-2016  \n",
    "\n",
    "1. Look into timezone of timestamp so that \"hour\" is local to user and day of week is local too. Might need to add this as tweets are pulled since adjustment for each SPCA may be different. Also got lots of tweets at 3 am from Alberta organization. Can this be real?  \n",
    "**Result:** Fixed time zone issue and graph remained relatively unchanged. I suspect they're using a scheduling tool to send tweets in the wee hours.  \n",
    "\n",
    "1. Investigate how those 11 tweets from non-SPCA users got into the data.  \n",
    "**Result:** Not worth investigating. Just gonna drop them.  \n",
    "\n",
    "1. Drop the tweets from Houston since Hurricane Harvey.  \n",
    "**Result:** These tweets were dropped along with other outliers identified as a result of natural disaster.\n"
   ]
  },
  {
   "cell_type": "code",
   "execution_count": null,
   "metadata": {
    "collapsed": true
   },
   "outputs": [],
   "source": []
  }
 ],
 "metadata": {
  "kernelspec": {
   "display_name": "Python 3",
   "language": "python",
   "name": "python3"
  },
  "language_info": {
   "codemirror_mode": {
    "name": "ipython",
    "version": 3
   },
   "file_extension": ".py",
   "mimetype": "text/x-python",
   "name": "python",
   "nbconvert_exporter": "python",
   "pygments_lexer": "ipython3",
   "version": "3.6.2"
  }
 },
 "nbformat": 4,
 "nbformat_minor": 2
}
