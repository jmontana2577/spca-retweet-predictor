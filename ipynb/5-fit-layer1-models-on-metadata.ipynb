{
 "cells": [
  {
   "cell_type": "markdown",
   "metadata": {},
   "source": [
    "## Notebook 5 - Fit Regression Models on the Tweet Metadata\n",
    "The purpose of this notebook is to train regression models on the non-text features of the tweets for the first layer of the model stack."
   ]
  },
  {
   "cell_type": "code",
   "execution_count": 1,
   "metadata": {
    "collapsed": true
   },
   "outputs": [],
   "source": [
    "import pandas as pd\n",
    "import numpy as np\n",
    "import re\n",
    "from sklearn.externals import joblib"
   ]
  },
  {
   "cell_type": "markdown",
   "metadata": {},
   "source": [
    "### Train models with the following features:\n",
    "1. Year tweet was created\n",
    "1. Month tweet was created\n",
    "1. Day of week tweet was created\n",
    "1. Hour tweet was created\n",
    "1. Tweet has a hashtag\n",
    "1. Tweet has a mention\n",
    "1. Tweet has a url"
   ]
  },
  {
   "cell_type": "code",
   "execution_count": 2,
   "metadata": {
    "collapsed": true
   },
   "outputs": [],
   "source": [
    "# import the layer1 training and test sets\n",
    "df_layer1_train = joblib.load('../data/df_layer1_train.pkl')\n",
    "df_layer1_test = joblib.load('../data/df_layer1_test.pkl')\n",
    "y_layer1_train = joblib.load('../data/y_layer1_train.pkl')\n",
    "y_layer1_test = joblib.load('../data/y_layer1_test.pkl')"
   ]
  },
  {
   "cell_type": "code",
   "execution_count": 3,
   "metadata": {
    "collapsed": true
   },
   "outputs": [],
   "source": [
    "# get the desired features \n",
    "cols = ['year', 'month', 'hour', 'weekday', 'has_hashtag', 'has_mention', 'has_url']\n",
    "X_layer1_train = df_layer1_train[cols]\n",
    "X_layer1_test = df_layer1_test[cols]"
   ]
  },
  {
   "cell_type": "code",
   "execution_count": 4,
   "metadata": {
    "collapsed": true
   },
   "outputs": [],
   "source": [
    "from sklearn.linear_model import Lasso, BayesianRidge, SGDRegressor\n",
    "from sklearn.ensemble import RandomForestRegressor, AdaBoostRegressor, GradientBoostingRegressor\n",
    "from sklearn.neighbors import KNeighborsRegressor"
   ]
  },
  {
   "cell_type": "code",
   "execution_count": 5,
   "metadata": {
    "collapsed": true
   },
   "outputs": [],
   "source": [
    "# function to fit and score a regressor\n",
    "def fit_and_score(data, regr, return_regr=False):\n",
    "    '''\n",
    "    Fits the regressor to the training data and then prints train and test scores.\n",
    "    \n",
    "    Parameters:\n",
    "        data - iterable containing X_train, X_test, y_train, y_test\n",
    "        regr - instantiated regressor\n",
    "        return_regr - boolean, option to return the fit regressor (default: False)\n",
    "    \n",
    "    Returns: optional, regressor fit to the training data\n",
    "    '''\n",
    "    \n",
    "    print('Regressor: {}'.format(regr))\n",
    "    \n",
    "    regr.fit(data[0], data[2])\n",
    "    print('Train score: {}'.format(regr.score(data[0], data[2])))\n",
    "    \n",
    "    print('Test score: {}'.format(regr.score(data[1], data[3])))\n",
    "    \n",
    "    if return_regr:\n",
    "        return regr"
   ]
  },
  {
   "cell_type": "code",
   "execution_count": 6,
   "metadata": {
    "collapsed": true
   },
   "outputs": [],
   "source": [
    "data = (X_layer1_train, X_layer1_test, y_layer1_train, y_layer1_test)"
   ]
  },
  {
   "cell_type": "code",
   "execution_count": 7,
   "metadata": {
    "collapsed": true
   },
   "outputs": [],
   "source": [
    "sgd = SGDRegressor(n_iter=5000, verbose=0)\n",
    "rfr = RandomForestRegressor()\n",
    "knr = KNeighborsRegressor(n_jobs=-1)\n",
    "bayes = BayesianRidge(verbose=True)\n",
    "gbr = GradientBoostingRegressor()\n",
    "models = [sgd, rfr, knr, bayes, gbr]"
   ]
  },
  {
   "cell_type": "code",
   "execution_count": 8,
   "metadata": {},
   "outputs": [
    {
     "name": "stdout",
     "output_type": "stream",
     "text": [
      "Regressor: SGDRegressor(alpha=0.0001, average=False, epsilon=0.1, eta0=0.01,\n",
      "       fit_intercept=True, l1_ratio=0.15, learning_rate='invscaling',\n",
      "       loss='squared_loss', n_iter=5000, penalty='l2', power_t=0.25,\n",
      "       random_state=None, shuffle=True, verbose=0, warm_start=False)\n",
      "Train score: -1.636113059385431e+28\n",
      "Test score: -1.6668625552937147e+28\n",
      "\n",
      "Regressor: RandomForestRegressor(bootstrap=True, criterion='mse', max_depth=None,\n",
      "           max_features='auto', max_leaf_nodes=None,\n",
      "           min_impurity_split=1e-07, min_samples_leaf=1,\n",
      "           min_samples_split=2, min_weight_fraction_leaf=0.0,\n",
      "           n_estimators=10, n_jobs=1, oob_score=False, random_state=None,\n",
      "           verbose=0, warm_start=False)\n",
      "Train score: 0.6984760028369565\n",
      "Test score: 0.2064341551631157\n",
      "\n",
      "Regressor: KNeighborsRegressor(algorithm='auto', leaf_size=30, metric='minkowski',\n",
      "          metric_params=None, n_jobs=-1, n_neighbors=5, p=2,\n",
      "          weights='uniform')\n",
      "Train score: 0.5030714365324973\n",
      "Test score: 0.23761067288017323\n",
      "\n",
      "Regressor: BayesianRidge(alpha_1=1e-06, alpha_2=1e-06, compute_score=False, copy_X=True,\n",
      "       fit_intercept=True, lambda_1=1e-06, lambda_2=1e-06, n_iter=300,\n",
      "       normalize=False, tol=0.001, verbose=True)\n",
      "Convergence after  1  iterations\n",
      "Train score: 0.25050440343000635\n",
      "Test score: 0.2361612143543543\n",
      "\n",
      "Regressor: GradientBoostingRegressor(alpha=0.9, criterion='friedman_mse', init=None,\n",
      "             learning_rate=0.1, loss='ls', max_depth=3, max_features=None,\n",
      "             max_leaf_nodes=None, min_impurity_split=1e-07,\n",
      "             min_samples_leaf=1, min_samples_split=2,\n",
      "             min_weight_fraction_leaf=0.0, n_estimators=100,\n",
      "             presort='auto', random_state=None, subsample=1.0, verbose=0,\n",
      "             warm_start=False)\n",
      "Train score: 0.33162327418637094\n",
      "Test score: 0.30904104070436533\n",
      "\n"
     ]
    }
   ],
   "source": [
    "for model in models:\n",
    "    fit_and_score(data, model)\n",
    "    print()"
   ]
  },
  {
   "cell_type": "markdown",
   "metadata": {
    "collapsed": true
   },
   "source": [
    "### Tune / Boost the Top Regressors\n",
    "(All attempts are documented below, but I'm showing only those that were deemed the \"winners\".)\n",
    "\n",
    "#### Record of Tuning / Boosting Attempts and Results\n",
    "1. `RandomForestRegressor`\n",
    "    1. `n_estimators`: 5, 15, 20 - led to more overfitting\n",
    "    1. `warm_start`: True - slight decrease in test score\n",
    "    1. `min_samples_split`: 50, 100, 125, 150, 200 - results peaked at 100  \n",
    "    **Winner:** 10 estimators, no warm_start, at least 100 samples to split  \n",
    "1. `KNeighborsRegressor`\n",
    "    1. `n_neighbors`: 3, 7, 9 - 7 got .03 bump in test score, will use 7 moving forward\n",
    "    1. `weights`: distance - no improvement\n",
    "    1. `p`: 1 (city) - .002 improvement in test score  \n",
    "    **Winner:** 7 neighbors, uniform weights, city (manhattan) distance metric\n",
    "1. `BayesianRidge`\n",
    "    1. `AdaBoostRegressor` did not improve the scores\n",
    "1. `GradientBoostingRegressor`\n",
    "    1. `n_estimators`: 100 (default), 500, 1000 - results peaked at 500\n",
    "    "
   ]
  },
  {
   "cell_type": "code",
   "execution_count": 10,
   "metadata": {},
   "outputs": [
    {
     "name": "stdout",
     "output_type": "stream",
     "text": [
      "Regressor: RandomForestRegressor(bootstrap=True, criterion='mse', max_depth=None,\n",
      "           max_features='auto', max_leaf_nodes=None,\n",
      "           min_impurity_split=1e-07, min_samples_leaf=1,\n",
      "           min_samples_split=100, min_weight_fraction_leaf=0.0,\n",
      "           n_estimators=10, n_jobs=1, oob_score=False, random_state=None,\n",
      "           verbose=0, warm_start=False)\n",
      "Train score: 0.40578954758179997\n",
      "Test score: 0.3401445723084252\n"
     ]
    }
   ],
   "source": [
    "rfr_split_100 = RandomForestRegressor(min_samples_split=100)\n",
    "fit_and_score(data, rfr_split_100)"
   ]
  },
  {
   "cell_type": "code",
   "execution_count": 9,
   "metadata": {},
   "outputs": [
    {
     "name": "stdout",
     "output_type": "stream",
     "text": [
      "Regressor: KNeighborsRegressor(algorithm='auto', leaf_size=30, metric='minkowski',\n",
      "          metric_params=None, n_jobs=-1, n_neighbors=7, p=1,\n",
      "          weights='uniform')\n",
      "Train score: 0.46560186856534225\n",
      "Test score: 0.2623040074689298\n"
     ]
    }
   ],
   "source": [
    "knr_7_city = KNeighborsRegressor(n_neighbors=7, p=1, n_jobs=-1)\n",
    "fit_and_score(data, knr_7_city)"
   ]
  },
  {
   "cell_type": "code",
   "execution_count": 11,
   "metadata": {},
   "outputs": [
    {
     "name": "stdout",
     "output_type": "stream",
     "text": [
      "Regressor: GradientBoostingRegressor(alpha=0.9, criterion='friedman_mse', init=None,\n",
      "             learning_rate=0.1, loss='ls', max_depth=3, max_features=None,\n",
      "             max_leaf_nodes=None, min_impurity_split=1e-07,\n",
      "             min_samples_leaf=1, min_samples_split=2,\n",
      "             min_weight_fraction_leaf=0.0, n_estimators=500,\n",
      "             presort='auto', random_state=None, subsample=1.0, verbose=0,\n",
      "             warm_start=False)\n",
      "Train score: 0.35670574224175045\n",
      "Test score: 0.3214409514256279\n"
     ]
    }
   ],
   "source": [
    "gbr_500 = GradientBoostingRegressor(n_estimators=500)\n",
    "fit_and_score(data, gbr_500)"
   ]
  },
  {
   "cell_type": "markdown",
   "metadata": {},
   "source": [
    "### Export the Best Models\n",
    "Exporting the models to be used in the blender"
   ]
  },
  {
   "cell_type": "code",
   "execution_count": 12,
   "metadata": {},
   "outputs": [
    {
     "data": {
      "text/plain": [
       "['../data/5-meta_gbr.pkl']"
      ]
     },
     "execution_count": 12,
     "metadata": {},
     "output_type": "execute_result"
    }
   ],
   "source": [
    "joblib.dump(rfr_split_100, '../data/5-meta_rfr.pkl')\n",
    "joblib.dump(knr_7_city, '../data/5-meta_knr.pkl')\n",
    "joblib.dump(bayes, '../data/5-meta_bayes.pkl')\n",
    "joblib.dump(gbr_500, '../data/5-meta_gbr.pkl')"
   ]
  },
  {
   "cell_type": "code",
   "execution_count": null,
   "metadata": {
    "collapsed": true
   },
   "outputs": [],
   "source": []
  }
 ],
 "metadata": {
  "kernelspec": {
   "display_name": "Python 3",
   "language": "python",
   "name": "python3"
  },
  "language_info": {
   "codemirror_mode": {
    "name": "ipython",
    "version": 3
   },
   "file_extension": ".py",
   "mimetype": "text/x-python",
   "name": "python",
   "nbconvert_exporter": "python",
   "pygments_lexer": "ipython3",
   "version": "3.6.2"
  }
 },
 "nbformat": 4,
 "nbformat_minor": 2
}
