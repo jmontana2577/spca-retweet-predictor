{
 "cells": [
  {
   "cell_type": "code",
   "execution_count": 1,
   "metadata": {},
   "outputs": [
    {
     "name": "stdout",
     "output_type": "stream",
     "text": [
      "/home/jovyan/capstone/GetOldTweets-python\n"
     ]
    }
   ],
   "source": [
    "cd /home/jovyan/capstone/GetOldTweets-python/"
   ]
  },
  {
   "cell_type": "code",
   "execution_count": 8,
   "metadata": {
    "collapsed": true
   },
   "outputs": [],
   "source": [
    "import got3 as got\n",
    "import pandas as pd\n",
    "\n",
    "def get_tweets(username, num_tweets=500):\n",
    "    from collections import defaultdict\n",
    "    import time\n",
    "    start = time.time()\n",
    "    \n",
    "    d = defaultdict(list)\n",
    "    \n",
    "    attributes = ['date', 'favorites', 'retweets', 'hashtags', 'geo', 'id',\n",
    "                  'mentions', 'text', 'urls', 'username', 'permalink', 'author_id']\n",
    "    \n",
    "    tweetCriteria = got.manager.TweetCriteria().setUsername(username).setMaxTweets(num_tweets)\n",
    "    \n",
    "    for i in range(num_tweets):\n",
    "        tweet = got.manager.TweetManager.getTweets(tweetCriteria)[i]\n",
    "        print('tweet {} captured'.format(i+1))\n",
    "        for att in attributes:\n",
    "            d[att].append(eval(\"tweet.\" + att))\n",
    "#         if (i+1)%20 == 0:\n",
    "#             elapsed = time.time() - start\n",
    "#             minutes = int(elapsed // 60)\n",
    "#             seconds = elapsed % 60\n",
    "#             print('{} tweets pulled. Time elapsed for batch: {} minutes, {} seconds.'.format(i+1, minutes, seconds))\n",
    "#             start = time.time()\n",
    "#     \n",
    "    return pd.DataFrame(d)"
   ]
  },
  {
   "cell_type": "code",
   "execution_count": 11,
   "metadata": {},
   "outputs": [
    {
     "name": "stdout",
     "output_type": "stream",
     "text": [
      "tweet 1 captured\n",
      "tweet 2 captured\n",
      "tweet 3 captured\n",
      "tweet 4 captured\n",
      "tweet 5 captured\n",
      "tweet 6 captured\n",
      "tweet 7 captured\n",
      "Twitter weird response. Try to see on browser: https://twitter.com/search?q=%20from%3Asfspca&src=typd\n",
      "Unexpected error: <class 'KeyboardInterrupt'>\n"
     ]
    },
    {
     "ename": "SystemExit",
     "evalue": "",
     "output_type": "error",
     "traceback": [
      "An exception has occurred, use %tb to see the full traceback.\n",
      "\u001b[0;31mSystemExit\u001b[0m\n"
     ]
    },
    {
     "name": "stderr",
     "output_type": "stream",
     "text": [
      "/opt/conda/lib/python3.6/site-packages/IPython/core/interactiveshell.py:2870: UserWarning: To exit: use 'exit', 'quit', or Ctrl-D.\n",
      "  warn(\"To exit: use 'exit', 'quit', or Ctrl-D.\", stacklevel=1)\n"
     ]
    }
   ],
   "source": [
    "df = get_tweets('sfspca', 50)"
   ]
  },
  {
   "cell_type": "code",
   "execution_count": 4,
   "metadata": {},
   "outputs": [
    {
     "data": {
      "text/html": [
       "<div>\n",
       "<table border=\"1\" class=\"dataframe\">\n",
       "  <thead>\n",
       "    <tr style=\"text-align: right;\">\n",
       "      <th></th>\n",
       "      <th>author_id</th>\n",
       "      <th>date</th>\n",
       "      <th>favorites</th>\n",
       "      <th>geo</th>\n",
       "      <th>hashtags</th>\n",
       "      <th>id</th>\n",
       "      <th>mentions</th>\n",
       "      <th>permalink</th>\n",
       "      <th>retweets</th>\n",
       "      <th>text</th>\n",
       "      <th>urls</th>\n",
       "      <th>username</th>\n",
       "    </tr>\n",
       "  </thead>\n",
       "  <tbody>\n",
       "    <tr>\n",
       "      <th>0</th>\n",
       "      <td>22213454</td>\n",
       "      <td>2017-08-23 22:09:49</td>\n",
       "      <td>10</td>\n",
       "      <td></td>\n",
       "      <td></td>\n",
       "      <td>900480219416379392</td>\n",
       "      <td></td>\n",
       "      <td>https://twitter.com/sfspca/status/900480219416...</td>\n",
       "      <td>8</td>\n",
       "      <td>Ready to be amazed by the magical skills of Ha...</td>\n",
       "      <td>http://www.sfspca.org/adoptions/pet-details/34...</td>\n",
       "      <td></td>\n",
       "    </tr>\n",
       "    <tr>\n",
       "      <th>1</th>\n",
       "      <td>22213454</td>\n",
       "      <td>2017-08-22 20:27:33</td>\n",
       "      <td>0</td>\n",
       "      <td></td>\n",
       "      <td></td>\n",
       "      <td>900092096379445248</td>\n",
       "      <td></td>\n",
       "      <td>https://twitter.com/sfspca/status/900092096379...</td>\n",
       "      <td>0</td>\n",
       "      <td>Unfortunately he doesn't get along well with c...</td>\n",
       "      <td></td>\n",
       "      <td></td>\n",
       "    </tr>\n",
       "    <tr>\n",
       "      <th>2</th>\n",
       "      <td>22213454</td>\n",
       "      <td>2017-08-22 00:59:20</td>\n",
       "      <td>7</td>\n",
       "      <td></td>\n",
       "      <td>#MuttMonday</td>\n",
       "      <td>899798105205252097</td>\n",
       "      <td></td>\n",
       "      <td>https://twitter.com/sfspca/status/899798105205...</td>\n",
       "      <td>4</td>\n",
       "      <td>\"I love life &amp; it shows– the smile never leave...</td>\n",
       "      <td>http://bit.ly/AdoptTimone</td>\n",
       "      <td></td>\n",
       "    </tr>\n",
       "    <tr>\n",
       "      <th>3</th>\n",
       "      <td>22213454</td>\n",
       "      <td>2017-08-21 17:40:27</td>\n",
       "      <td>43</td>\n",
       "      <td></td>\n",
       "      <td>#ClearTheShelters</td>\n",
       "      <td>899687657910919168</td>\n",
       "      <td></td>\n",
       "      <td>https://twitter.com/sfspca/status/899687657910...</td>\n",
       "      <td>12</td>\n",
       "      <td>150 animals found homes over the weekend at ou...</td>\n",
       "      <td></td>\n",
       "      <td></td>\n",
       "    </tr>\n",
       "    <tr>\n",
       "      <th>4</th>\n",
       "      <td>22213454</td>\n",
       "      <td>2017-08-20 20:55:44</td>\n",
       "      <td>1</td>\n",
       "      <td></td>\n",
       "      <td></td>\n",
       "      <td>899374414021537793</td>\n",
       "      <td></td>\n",
       "      <td>https://twitter.com/sfspca/status/899374414021...</td>\n",
       "      <td>0</td>\n",
       "      <td>Awww, so cute! Thanks for adopting!</td>\n",
       "      <td></td>\n",
       "      <td></td>\n",
       "    </tr>\n",
       "  </tbody>\n",
       "</table>\n",
       "</div>"
      ],
      "text/plain": [
       "   author_id                date  favorites geo           hashtags  \\\n",
       "0   22213454 2017-08-23 22:09:49         10                          \n",
       "1   22213454 2017-08-22 20:27:33          0                          \n",
       "2   22213454 2017-08-22 00:59:20          7            #MuttMonday   \n",
       "3   22213454 2017-08-21 17:40:27         43      #ClearTheShelters   \n",
       "4   22213454 2017-08-20 20:55:44          1                          \n",
       "\n",
       "                   id mentions  \\\n",
       "0  900480219416379392            \n",
       "1  900092096379445248            \n",
       "2  899798105205252097            \n",
       "3  899687657910919168            \n",
       "4  899374414021537793            \n",
       "\n",
       "                                           permalink  retweets  \\\n",
       "0  https://twitter.com/sfspca/status/900480219416...         8   \n",
       "1  https://twitter.com/sfspca/status/900092096379...         0   \n",
       "2  https://twitter.com/sfspca/status/899798105205...         4   \n",
       "3  https://twitter.com/sfspca/status/899687657910...        12   \n",
       "4  https://twitter.com/sfspca/status/899374414021...         0   \n",
       "\n",
       "                                                text  \\\n",
       "0  Ready to be amazed by the magical skills of Ha...   \n",
       "1  Unfortunately he doesn't get along well with c...   \n",
       "2  \"I love life & it shows– the smile never leave...   \n",
       "3  150 animals found homes over the weekend at ou...   \n",
       "4                Awww, so cute! Thanks for adopting!   \n",
       "\n",
       "                                                urls username  \n",
       "0  http://www.sfspca.org/adoptions/pet-details/34...           \n",
       "1                                                              \n",
       "2                          http://bit.ly/AdoptTimone           \n",
       "3                                                              \n",
       "4                                                              "
      ]
     },
     "execution_count": 4,
     "metadata": {},
     "output_type": "execute_result"
    }
   ],
   "source": [
    "df.head()"
   ]
  },
  {
   "cell_type": "code",
   "execution_count": 5,
   "metadata": {},
   "outputs": [
    {
     "name": "stdout",
     "output_type": "stream",
     "text": [
      "20 tweets pulled. Time elapsed for batch: 0 minutes, 45.60861349105835 seconds.\n",
      "40 tweets pulled. Time elapsed for batch: 0 minutes, 44.95729351043701 seconds.\n",
      "60 tweets pulled. Time elapsed for batch: 0 minutes, 44.075666189193726 seconds.\n",
      "80 tweets pulled. Time elapsed for batch: 0 minutes, 43.92218542098999 seconds.\n",
      "100 tweets pulled. Time elapsed for batch: 0 minutes, 44.218533515930176 seconds.\n"
     ]
    }
   ],
   "source": [
    "df_pspca = get_tweets('PSPCA', 100)"
   ]
  },
  {
   "cell_type": "code",
   "execution_count": 7,
   "metadata": {},
   "outputs": [
    {
     "name": "stdout",
     "output_type": "stream",
     "text": [
      "20 tweets pulled. Time elapsed for batch: 1 minutes, 29.42079210281372 seconds.\n",
      "40 tweets pulled. Time elapsed for batch: 1 minutes, 29.23173189163208 seconds.\n",
      "60 tweets pulled. Time elapsed for batch: 1 minutes, 30.513964891433716 seconds.\n",
      "80 tweets pulled. Time elapsed for batch: 1 minutes, 29.134628295898438 seconds.\n",
      "100 tweets pulled. Time elapsed for batch: 1 minutes, 27.94327974319458 seconds.\n",
      "120 tweets pulled. Time elapsed for batch: 1 minutes, 28.166969299316406 seconds.\n",
      "140 tweets pulled. Time elapsed for batch: 1 minutes, 28.60739231109619 seconds.\n"
     ]
    },
    {
     "ename": "JSONDecodeError",
     "evalue": "Unterminated string starting at: line 1 column 323 (char 322)",
     "output_type": "error",
     "traceback": [
      "\u001b[0;31m\u001b[0m",
      "\u001b[0;31mJSONDecodeError\u001b[0mTraceback (most recent call last)",
      "\u001b[0;32m<ipython-input-7-8669036a0d06>\u001b[0m in \u001b[0;36m<module>\u001b[0;34m()\u001b[0m\n\u001b[0;32m----> 1\u001b[0;31m \u001b[0mdf_pspca\u001b[0m \u001b[0;34m=\u001b[0m \u001b[0mget_tweets\u001b[0m\u001b[0;34m(\u001b[0m\u001b[0;34m'PSPCA'\u001b[0m\u001b[0;34m,\u001b[0m \u001b[0;36m200\u001b[0m\u001b[0;34m)\u001b[0m\u001b[0;34m\u001b[0m\u001b[0m\n\u001b[0m",
      "\u001b[0;32m<ipython-input-2-57c16c7c53b5>\u001b[0m in \u001b[0;36mget_tweets\u001b[0;34m(username, num_tweets)\u001b[0m\n\u001b[1;32m     15\u001b[0m \u001b[0;34m\u001b[0m\u001b[0m\n\u001b[1;32m     16\u001b[0m     \u001b[0;32mfor\u001b[0m \u001b[0mi\u001b[0m \u001b[0;32min\u001b[0m \u001b[0mrange\u001b[0m\u001b[0;34m(\u001b[0m\u001b[0mnum_tweets\u001b[0m\u001b[0;34m)\u001b[0m\u001b[0;34m:\u001b[0m\u001b[0;34m\u001b[0m\u001b[0m\n\u001b[0;32m---> 17\u001b[0;31m         \u001b[0mtweet\u001b[0m \u001b[0;34m=\u001b[0m \u001b[0mgot\u001b[0m\u001b[0;34m.\u001b[0m\u001b[0mmanager\u001b[0m\u001b[0;34m.\u001b[0m\u001b[0mTweetManager\u001b[0m\u001b[0;34m.\u001b[0m\u001b[0mgetTweets\u001b[0m\u001b[0;34m(\u001b[0m\u001b[0mtweetCriteria\u001b[0m\u001b[0;34m)\u001b[0m\u001b[0;34m[\u001b[0m\u001b[0mi\u001b[0m\u001b[0;34m]\u001b[0m\u001b[0;34m\u001b[0m\u001b[0m\n\u001b[0m\u001b[1;32m     18\u001b[0m         \u001b[0;32mfor\u001b[0m \u001b[0matt\u001b[0m \u001b[0;32min\u001b[0m \u001b[0mattributes\u001b[0m\u001b[0;34m:\u001b[0m\u001b[0;34m\u001b[0m\u001b[0m\n\u001b[1;32m     19\u001b[0m             \u001b[0md\u001b[0m\u001b[0;34m[\u001b[0m\u001b[0matt\u001b[0m\u001b[0;34m]\u001b[0m\u001b[0;34m.\u001b[0m\u001b[0mappend\u001b[0m\u001b[0;34m(\u001b[0m\u001b[0meval\u001b[0m\u001b[0;34m(\u001b[0m\u001b[0;34m\"tweet.\"\u001b[0m \u001b[0;34m+\u001b[0m \u001b[0matt\u001b[0m\u001b[0;34m)\u001b[0m\u001b[0;34m)\u001b[0m\u001b[0;34m\u001b[0m\u001b[0m\n",
      "\u001b[0;32m~/capstone/GetOldTweets-python/got3/manager/TweetManager.py\u001b[0m in \u001b[0;36mgetTweets\u001b[0;34m(tweetCriteria, receiveBuffer, bufferLength, proxy)\u001b[0m\n\u001b[1;32m     19\u001b[0m \u001b[0;34m\u001b[0m\u001b[0m\n\u001b[1;32m     20\u001b[0m                 \u001b[0;32mwhile\u001b[0m \u001b[0mactive\u001b[0m\u001b[0;34m:\u001b[0m\u001b[0;34m\u001b[0m\u001b[0m\n\u001b[0;32m---> 21\u001b[0;31m                         \u001b[0mjson\u001b[0m \u001b[0;34m=\u001b[0m \u001b[0mTweetManager\u001b[0m\u001b[0;34m.\u001b[0m\u001b[0mgetJsonReponse\u001b[0m\u001b[0;34m(\u001b[0m\u001b[0mtweetCriteria\u001b[0m\u001b[0;34m,\u001b[0m \u001b[0mrefreshCursor\u001b[0m\u001b[0;34m,\u001b[0m \u001b[0mcookieJar\u001b[0m\u001b[0;34m,\u001b[0m \u001b[0mproxy\u001b[0m\u001b[0;34m)\u001b[0m\u001b[0;34m\u001b[0m\u001b[0m\n\u001b[0m\u001b[1;32m     22\u001b[0m                         \u001b[0;32mif\u001b[0m \u001b[0mlen\u001b[0m\u001b[0;34m(\u001b[0m\u001b[0mjson\u001b[0m\u001b[0;34m[\u001b[0m\u001b[0;34m'items_html'\u001b[0m\u001b[0;34m]\u001b[0m\u001b[0;34m.\u001b[0m\u001b[0mstrip\u001b[0m\u001b[0;34m(\u001b[0m\u001b[0;34m)\u001b[0m\u001b[0;34m)\u001b[0m \u001b[0;34m==\u001b[0m \u001b[0;36m0\u001b[0m\u001b[0;34m:\u001b[0m\u001b[0;34m\u001b[0m\u001b[0m\n\u001b[1;32m     23\u001b[0m                                 \u001b[0;32mbreak\u001b[0m\u001b[0;34m\u001b[0m\u001b[0m\n",
      "\u001b[0;32m~/capstone/GetOldTweets-python/got3/manager/TweetManager.py\u001b[0m in \u001b[0;36mgetJsonReponse\u001b[0;34m(tweetCriteria, refreshCursor, cookieJar, proxy)\u001b[0m\n\u001b[1;32m    134\u001b[0m                         \u001b[0;32mreturn\u001b[0m\u001b[0;34m\u001b[0m\u001b[0m\n\u001b[1;32m    135\u001b[0m \u001b[0;34m\u001b[0m\u001b[0m\n\u001b[0;32m--> 136\u001b[0;31m                 \u001b[0mdataJson\u001b[0m \u001b[0;34m=\u001b[0m \u001b[0mjson\u001b[0m\u001b[0;34m.\u001b[0m\u001b[0mloads\u001b[0m\u001b[0;34m(\u001b[0m\u001b[0mjsonResponse\u001b[0m\u001b[0;34m.\u001b[0m\u001b[0mdecode\u001b[0m\u001b[0;34m(\u001b[0m\u001b[0;34m)\u001b[0m\u001b[0;34m)\u001b[0m\u001b[0;34m\u001b[0m\u001b[0m\n\u001b[0m\u001b[1;32m    137\u001b[0m \u001b[0;34m\u001b[0m\u001b[0m\n\u001b[1;32m    138\u001b[0m                 \u001b[0;32mreturn\u001b[0m \u001b[0mdataJson\u001b[0m\u001b[0;34m\u001b[0m\u001b[0m\n",
      "\u001b[0;32m/opt/conda/lib/python3.6/json/__init__.py\u001b[0m in \u001b[0;36mloads\u001b[0;34m(s, encoding, cls, object_hook, parse_float, parse_int, parse_constant, object_pairs_hook, **kw)\u001b[0m\n\u001b[1;32m    352\u001b[0m             \u001b[0mparse_int\u001b[0m \u001b[0;32mis\u001b[0m \u001b[0;32mNone\u001b[0m \u001b[0;32mand\u001b[0m \u001b[0mparse_float\u001b[0m \u001b[0;32mis\u001b[0m \u001b[0;32mNone\u001b[0m \u001b[0;32mand\u001b[0m\u001b[0;34m\u001b[0m\u001b[0m\n\u001b[1;32m    353\u001b[0m             parse_constant is None and object_pairs_hook is None and not kw):\n\u001b[0;32m--> 354\u001b[0;31m         \u001b[0;32mreturn\u001b[0m \u001b[0m_default_decoder\u001b[0m\u001b[0;34m.\u001b[0m\u001b[0mdecode\u001b[0m\u001b[0;34m(\u001b[0m\u001b[0ms\u001b[0m\u001b[0;34m)\u001b[0m\u001b[0;34m\u001b[0m\u001b[0m\n\u001b[0m\u001b[1;32m    355\u001b[0m     \u001b[0;32mif\u001b[0m \u001b[0mcls\u001b[0m \u001b[0;32mis\u001b[0m \u001b[0;32mNone\u001b[0m\u001b[0;34m:\u001b[0m\u001b[0;34m\u001b[0m\u001b[0m\n\u001b[1;32m    356\u001b[0m         \u001b[0mcls\u001b[0m \u001b[0;34m=\u001b[0m \u001b[0mJSONDecoder\u001b[0m\u001b[0;34m\u001b[0m\u001b[0m\n",
      "\u001b[0;32m/opt/conda/lib/python3.6/json/decoder.py\u001b[0m in \u001b[0;36mdecode\u001b[0;34m(self, s, _w)\u001b[0m\n\u001b[1;32m    337\u001b[0m \u001b[0;34m\u001b[0m\u001b[0m\n\u001b[1;32m    338\u001b[0m         \"\"\"\n\u001b[0;32m--> 339\u001b[0;31m         \u001b[0mobj\u001b[0m\u001b[0;34m,\u001b[0m \u001b[0mend\u001b[0m \u001b[0;34m=\u001b[0m \u001b[0mself\u001b[0m\u001b[0;34m.\u001b[0m\u001b[0mraw_decode\u001b[0m\u001b[0;34m(\u001b[0m\u001b[0ms\u001b[0m\u001b[0;34m,\u001b[0m \u001b[0midx\u001b[0m\u001b[0;34m=\u001b[0m\u001b[0m_w\u001b[0m\u001b[0;34m(\u001b[0m\u001b[0ms\u001b[0m\u001b[0;34m,\u001b[0m \u001b[0;36m0\u001b[0m\u001b[0;34m)\u001b[0m\u001b[0;34m.\u001b[0m\u001b[0mend\u001b[0m\u001b[0;34m(\u001b[0m\u001b[0;34m)\u001b[0m\u001b[0;34m)\u001b[0m\u001b[0;34m\u001b[0m\u001b[0m\n\u001b[0m\u001b[1;32m    340\u001b[0m         \u001b[0mend\u001b[0m \u001b[0;34m=\u001b[0m \u001b[0m_w\u001b[0m\u001b[0;34m(\u001b[0m\u001b[0ms\u001b[0m\u001b[0;34m,\u001b[0m \u001b[0mend\u001b[0m\u001b[0;34m)\u001b[0m\u001b[0;34m.\u001b[0m\u001b[0mend\u001b[0m\u001b[0;34m(\u001b[0m\u001b[0;34m)\u001b[0m\u001b[0;34m\u001b[0m\u001b[0m\n\u001b[1;32m    341\u001b[0m         \u001b[0;32mif\u001b[0m \u001b[0mend\u001b[0m \u001b[0;34m!=\u001b[0m \u001b[0mlen\u001b[0m\u001b[0;34m(\u001b[0m\u001b[0ms\u001b[0m\u001b[0;34m)\u001b[0m\u001b[0;34m:\u001b[0m\u001b[0;34m\u001b[0m\u001b[0m\n",
      "\u001b[0;32m/opt/conda/lib/python3.6/json/decoder.py\u001b[0m in \u001b[0;36mraw_decode\u001b[0;34m(self, s, idx)\u001b[0m\n\u001b[1;32m    353\u001b[0m         \"\"\"\n\u001b[1;32m    354\u001b[0m         \u001b[0;32mtry\u001b[0m\u001b[0;34m:\u001b[0m\u001b[0;34m\u001b[0m\u001b[0m\n\u001b[0;32m--> 355\u001b[0;31m             \u001b[0mobj\u001b[0m\u001b[0;34m,\u001b[0m \u001b[0mend\u001b[0m \u001b[0;34m=\u001b[0m \u001b[0mself\u001b[0m\u001b[0;34m.\u001b[0m\u001b[0mscan_once\u001b[0m\u001b[0;34m(\u001b[0m\u001b[0ms\u001b[0m\u001b[0;34m,\u001b[0m \u001b[0midx\u001b[0m\u001b[0;34m)\u001b[0m\u001b[0;34m\u001b[0m\u001b[0m\n\u001b[0m\u001b[1;32m    356\u001b[0m         \u001b[0;32mexcept\u001b[0m \u001b[0mStopIteration\u001b[0m \u001b[0;32mas\u001b[0m \u001b[0merr\u001b[0m\u001b[0;34m:\u001b[0m\u001b[0;34m\u001b[0m\u001b[0m\n\u001b[1;32m    357\u001b[0m             \u001b[0;32mraise\u001b[0m \u001b[0mJSONDecodeError\u001b[0m\u001b[0;34m(\u001b[0m\u001b[0;34m\"Expecting value\"\u001b[0m\u001b[0;34m,\u001b[0m \u001b[0ms\u001b[0m\u001b[0;34m,\u001b[0m \u001b[0merr\u001b[0m\u001b[0;34m.\u001b[0m\u001b[0mvalue\u001b[0m\u001b[0;34m)\u001b[0m \u001b[0;32mfrom\u001b[0m \u001b[0;32mNone\u001b[0m\u001b[0;34m\u001b[0m\u001b[0m\n",
      "\u001b[0;31mJSONDecodeError\u001b[0m: Unterminated string starting at: line 1 column 323 (char 322)"
     ]
    }
   ],
   "source": [
    "df_pspca = get_tweets('PSPCA', 200)"
   ]
  },
  {
   "cell_type": "code",
   "execution_count": 3,
   "metadata": {},
   "outputs": [
    {
     "name": "stdout",
     "output_type": "stream",
     "text": [
      "20 tweets pulled. Time elapsed for batch: 4 minutes, 7.411256551742554 seconds.\n",
      "40 tweets pulled. Time elapsed for batch: 4 minutes, 6.750572681427002 seconds.\n",
      "60 tweets pulled. Time elapsed for batch: 4 minutes, 3.2547061443328857 seconds.\n",
      "80 tweets pulled. Time elapsed for batch: 4 minutes, 6.8926661014556885 seconds.\n",
      "100 tweets pulled. Time elapsed for batch: 4 minutes, 4.325358152389526 seconds.\n",
      "120 tweets pulled. Time elapsed for batch: 4 minutes, 7.213630676269531 seconds.\n",
      "140 tweets pulled. Time elapsed for batch: 4 minutes, 3.093817949295044 seconds.\n",
      "Twitter weird response. Try to see on browser: https://twitter.com/search?q=%20from%3Asfspca&src=typd\n",
      "Unexpected error: <class 'KeyboardInterrupt'>\n"
     ]
    },
    {
     "ename": "SystemExit",
     "evalue": "",
     "output_type": "error",
     "traceback": [
      "An exception has occurred, use %tb to see the full traceback.\n",
      "\u001b[0;31mSystemExit\u001b[0m\n"
     ]
    },
    {
     "name": "stderr",
     "output_type": "stream",
     "text": [
      "/opt/conda/lib/python3.6/site-packages/IPython/core/interactiveshell.py:2870: UserWarning: To exit: use 'exit', 'quit', or Ctrl-D.\n",
      "  warn(\"To exit: use 'exit', 'quit', or Ctrl-D.\", stacklevel=1)\n"
     ]
    }
   ],
   "source": [
    "df = get_tweets('sfspca', 500)"
   ]
  },
  {
   "cell_type": "code",
   "execution_count": 3,
   "metadata": {},
   "outputs": [
    {
     "name": "stdout",
     "output_type": "stream",
     "text": [
      "20 tweets pulled. Time elapsed for batch: 0 minutes, 47.64427876472473 seconds.\n",
      "Twitter weird response. Try to see on browser: https://twitter.com/search?q=%20from%3Asfspca&src=typd\n",
      "Unexpected error: <class 'urllib.error.HTTPError'>\n"
     ]
    },
    {
     "ename": "SystemExit",
     "evalue": "",
     "output_type": "error",
     "traceback": [
      "An exception has occurred, use %tb to see the full traceback.\n",
      "\u001b[0;31mSystemExit\u001b[0m\n"
     ]
    },
    {
     "name": "stderr",
     "output_type": "stream",
     "text": [
      "/opt/conda/lib/python3.6/site-packages/IPython/core/interactiveshell.py:2870: UserWarning: To exit: use 'exit', 'quit', or Ctrl-D.\n",
      "  warn(\"To exit: use 'exit', 'quit', or Ctrl-D.\", stacklevel=1)\n"
     ]
    }
   ],
   "source": [
    "df = get_tweets('sfspca', 100)"
   ]
  },
  {
   "cell_type": "code",
   "execution_count": null,
   "metadata": {
    "collapsed": true
   },
   "outputs": [],
   "source": []
  }
 ],
 "metadata": {
  "kernelspec": {
   "display_name": "Python 3",
   "language": "python",
   "name": "python3"
  },
  "language_info": {
   "codemirror_mode": {
    "name": "ipython",
    "version": 3
   },
   "file_extension": ".py",
   "mimetype": "text/x-python",
   "name": "python",
   "nbconvert_exporter": "python",
   "pygments_lexer": "ipython3",
   "version": "3.6.2"
  }
 },
 "nbformat": 4,
 "nbformat_minor": 2
}
