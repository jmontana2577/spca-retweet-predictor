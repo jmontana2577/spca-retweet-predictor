{
 "cells": [
  {
   "cell_type": "markdown",
   "metadata": {},
   "source": [
    "## Notebook 2 - Combine Data and Add Columns\n",
    "The purpose of this notebook is twofold:  \n",
    "1. Add some features to the data - country and individual date components: year, month, hour and day of week (where 0 = Monday, 1 = Tuesday, etc.). \n",
    "1. Join all the dataframes into one."
   ]
  },
  {
   "cell_type": "code",
   "execution_count": null,
   "metadata": {
    "collapsed": true
   },
   "outputs": [],
   "source": [
    "import pandas as pd"
   ]
  },
  {
   "cell_type": "code",
   "execution_count": null,
   "metadata": {
    "collapsed": true
   },
   "outputs": [],
   "source": [
    "# this adjusts the hour for time zone difference since API gives it in UTC\n",
    "def adjust_hour(hour, offset):\n",
    "    if hour >= offset:\n",
    "        hour -= offset\n",
    "    else:\n",
    "        hour += 24 - offset\n",
    "    return hour"
   ]
  },
  {
   "cell_type": "code",
   "execution_count": null,
   "metadata": {},
   "outputs": [],
   "source": [
    "# splits the datetime column into separate features\n",
    "def add_date_features(df, offset=0):\n",
    "    df['year'] = df.date.apply(lambda x: x.year)\n",
    "    df['month'] = df.date.apply(lambda x: x.month)\n",
    "    df['weekday'] = df.date.apply(lambda x: x.weekday())\n",
    "    hours = df.date.apply(lambda x: x.hour)\n",
    "    df['local_hour'] = hours.apply(adjust_hour, args=(offset,))\n",
    "    \n",
    "    return df"
   ]
  },
  {
   "cell_type": "code",
   "execution_count": null,
   "metadata": {
    "collapsed": true
   },
   "outputs": [],
   "source": [
    "df_sfspca = pd.read_pickle('../data/sfspca_tweets.p')\n",
    "df_pspca = pd.read_pickle('../data/pspca_tweets.p')\n",
    "df_houston = pd.read_pickle('../data/houston_tweets.p')\n",
    "df_texas = pd.read_pickle('../data/texas_tweets.p')\n",
    "df_tulsa = pd.read_pickle('../data/tulsa_tweets.p')\n",
    "df_richmond = pd.read_pickle('../data/richmond_tweets.p')\n",
    "df_ontario = pd.read_pickle('../data/ontario_tweets.p')\n",
    "df_alberta = pd.read_pickle('../data/alberta_tweets.p')\n",
    "df_bc = pd.read_pickle('../data/bc_tweets.p')"
   ]
  },
  {
   "cell_type": "code",
   "execution_count": null,
   "metadata": {},
   "outputs": [],
   "source": [
    "df_sfspca = add_date_features(df_sfspca, 7)\n",
    "df_pspca = add_date_features(df_pspca, 4)\n",
    "df_houston = add_date_features(df_houston, 5)\n",
    "df_texas = add_date_features(df_texas, 5)\n",
    "df_tulsa = add_date_features(df_tulsa, 5)\n",
    "df_richmond = add_date_features(df_richmond, 4)\n",
    "df_ontario = add_date_features(df_ontario, 4)\n",
    "df_alberta = add_date_features(df_alberta, 6)\n",
    "df_bc = add_date_features(df_bc, 7)"
   ]
  },
  {
   "cell_type": "code",
   "execution_count": null,
   "metadata": {},
   "outputs": [],
   "source": [
    "df_usa = pd.concat([df_sfspca, df_pspca, df_houston, df_texas, df_tulsa, df_richmond], ignore_index=True)\n",
    "df_canada = pd.concat([df_ontario, df_alberta, df_bc], ignore_index=True)"
   ]
  },
  {
   "cell_type": "code",
   "execution_count": null,
   "metadata": {},
   "outputs": [],
   "source": [
    "# add country to each dataframe\n",
    "df_usa['country'] = 'usa'\n",
    "df_canada['country'] = 'canada'\n",
    "df_usa.shape, df_canada.shape"
   ]
  },
  {
   "cell_type": "code",
   "execution_count": null,
   "metadata": {},
   "outputs": [],
   "source": [
    "df_usa.to_pickle('../data/usa_tweets.p')\n",
    "df_canada.to_pickle('../data/canada_tweets.p')"
   ]
  },
  {
   "cell_type": "code",
   "execution_count": null,
   "metadata": {},
   "outputs": [],
   "source": [
    "df = pd.concat([df_usa, df_canada], ignore_index=True)\n",
    "df.shape"
   ]
  },
  {
   "cell_type": "code",
   "execution_count": null,
   "metadata": {
    "collapsed": true
   },
   "outputs": [],
   "source": [
    "df.to_pickle('../data/all_tweets.p')"
   ]
  },
  {
   "cell_type": "code",
   "execution_count": null,
   "metadata": {
    "collapsed": true
   },
   "outputs": [],
   "source": []
  }
 ],
 "metadata": {
  "kernelspec": {
   "display_name": "Python 3",
   "language": "python",
   "name": "python3"
  },
  "language_info": {
   "codemirror_mode": {
    "name": "ipython",
    "version": 3
   },
   "file_extension": ".py",
   "mimetype": "text/x-python",
   "name": "python",
   "nbconvert_exporter": "python",
   "pygments_lexer": "ipython3",
   "version": "3.6.2"
  }
 },
 "nbformat": 4,
 "nbformat_minor": 2
}
